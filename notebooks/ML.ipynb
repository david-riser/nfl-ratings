{
 "cells": [
  {
   "cell_type": "markdown",
   "metadata": {},
   "source": [
    "# ML Plus Elo"
   ]
  },
  {
   "cell_type": "code",
   "execution_count": 1,
   "metadata": {},
   "outputs": [],
   "source": [
    "import matplotlib.pyplot as plt \n",
    "import numpy as np \n",
    "import os \n",
    "import pandas as pd \n",
    "\n",
    "%matplotlib inline "
   ]
  },
  {
   "cell_type": "code",
   "execution_count": 2,
   "metadata": {},
   "outputs": [
    {
     "data": {
      "text/plain": [
       "['latest_data.csv', 'weekly_preds.csv', 'historical_data.csv']"
      ]
     },
     "execution_count": 2,
     "metadata": {},
     "output_type": "execute_result"
    }
   ],
   "source": [
    "data_dir = '../data/'\n",
    "os.listdir(data_dir)"
   ]
  },
  {
   "cell_type": "code",
   "execution_count": 3,
   "metadata": {},
   "outputs": [],
   "source": [
    "data = pd.read_csv(data_dir + 'historical_data.csv')"
   ]
  },
  {
   "cell_type": "code",
   "execution_count": 4,
   "metadata": {},
   "outputs": [
    {
     "data": {
      "text/plain": [
       "date                  0\n",
       "season                0\n",
       "neutral               0\n",
       "playoff           15964\n",
       "team1                11\n",
       "team2                11\n",
       "elo1_pre             11\n",
       "elo2_pre             11\n",
       "elo_prob1            11\n",
       "elo_prob2            11\n",
       "elo1_post           132\n",
       "elo2_post           132\n",
       "qbelo1_pre         2294\n",
       "qbelo2_pre         2294\n",
       "qb1                2179\n",
       "qb2                2180\n",
       "qb1_value_pre      2173\n",
       "qb2_value_pre      2173\n",
       "qb1_adj            2162\n",
       "qb2_adj            2162\n",
       "qbelo_prob1        2173\n",
       "qbelo_prob2        2173\n",
       "qb1_game_value     2294\n",
       "qb2_game_value     2294\n",
       "qb1_value_post     2294\n",
       "qb2_value_post     2294\n",
       "qbelo1_post        2294\n",
       "qbelo2_post        2294\n",
       "score1              132\n",
       "score2              132\n",
       "dtype: int64"
      ]
     },
     "execution_count": 4,
     "metadata": {},
     "output_type": "execute_result"
    }
   ],
   "source": [
    "data.isna().sum()"
   ]
  },
  {
   "cell_type": "code",
   "execution_count": 5,
   "metadata": {},
   "outputs": [],
   "source": [
    "data = data[np.logical_not(data['score1'].isna())]\n",
    "data = data[np.logical_not(data['score2'].isna())]"
   ]
  },
  {
   "cell_type": "code",
   "execution_count": 6,
   "metadata": {},
   "outputs": [
    {
     "data": {
      "text/plain": [
       "date                  0\n",
       "season                0\n",
       "neutral               0\n",
       "playoff           15843\n",
       "team1                 0\n",
       "team2                 0\n",
       "elo1_pre              0\n",
       "elo2_pre              0\n",
       "elo_prob1             0\n",
       "elo_prob2             0\n",
       "elo1_post             0\n",
       "elo2_post             0\n",
       "qbelo1_pre         2162\n",
       "qbelo2_pre         2162\n",
       "qb1                2162\n",
       "qb2                2162\n",
       "qb1_value_pre      2162\n",
       "qb2_value_pre      2162\n",
       "qb1_adj            2162\n",
       "qb2_adj            2162\n",
       "qbelo_prob1        2162\n",
       "qbelo_prob2        2162\n",
       "qb1_game_value     2162\n",
       "qb2_game_value     2162\n",
       "qb1_value_post     2162\n",
       "qb2_value_post     2162\n",
       "qbelo1_post        2162\n",
       "qbelo2_post        2162\n",
       "score1                0\n",
       "score2                0\n",
       "dtype: int64"
      ]
     },
     "execution_count": 6,
     "metadata": {},
     "output_type": "execute_result"
    }
   ],
   "source": [
    "data.isna().sum()"
   ]
  },
  {
   "cell_type": "code",
   "execution_count": 7,
   "metadata": {},
   "outputs": [],
   "source": [
    "data = data[data['season'] > 1959]"
   ]
  },
  {
   "cell_type": "code",
   "execution_count": 8,
   "metadata": {},
   "outputs": [],
   "source": [
    "data = data[data['score1'] != data['score2']]"
   ]
  },
  {
   "cell_type": "code",
   "execution_count": 9,
   "metadata": {},
   "outputs": [
    {
     "data": {
      "text/html": [
       "<div>\n",
       "<style scoped>\n",
       "    .dataframe tbody tr th:only-of-type {\n",
       "        vertical-align: middle;\n",
       "    }\n",
       "\n",
       "    .dataframe tbody tr th {\n",
       "        vertical-align: top;\n",
       "    }\n",
       "\n",
       "    .dataframe thead th {\n",
       "        text-align: right;\n",
       "    }\n",
       "</style>\n",
       "<table border=\"1\" class=\"dataframe\">\n",
       "  <thead>\n",
       "    <tr style=\"text-align: right;\">\n",
       "      <th></th>\n",
       "      <th>date</th>\n",
       "      <th>season</th>\n",
       "      <th>neutral</th>\n",
       "      <th>playoff</th>\n",
       "      <th>team1</th>\n",
       "      <th>team2</th>\n",
       "      <th>elo1_pre</th>\n",
       "      <th>elo2_pre</th>\n",
       "      <th>elo_prob1</th>\n",
       "      <th>elo_prob2</th>\n",
       "      <th>...</th>\n",
       "      <th>qbelo_prob1</th>\n",
       "      <th>qbelo_prob2</th>\n",
       "      <th>qb1_game_value</th>\n",
       "      <th>qb2_game_value</th>\n",
       "      <th>qb1_value_post</th>\n",
       "      <th>qb2_value_post</th>\n",
       "      <th>qbelo1_post</th>\n",
       "      <th>qbelo2_post</th>\n",
       "      <th>score1</th>\n",
       "      <th>score2</th>\n",
       "    </tr>\n",
       "  </thead>\n",
       "  <tbody>\n",
       "    <tr>\n",
       "      <td>2903</td>\n",
       "      <td>1960-09-09</td>\n",
       "      <td>1960</td>\n",
       "      <td>0</td>\n",
       "      <td>NaN</td>\n",
       "      <td>NE</td>\n",
       "      <td>DEN</td>\n",
       "      <td>1300.000</td>\n",
       "      <td>1300.000</td>\n",
       "      <td>0.592466</td>\n",
       "      <td>0.407534</td>\n",
       "      <td>...</td>\n",
       "      <td>0.566862</td>\n",
       "      <td>0.433138</td>\n",
       "      <td>12.540000</td>\n",
       "      <td>122.760000</td>\n",
       "      <td>1.254000</td>\n",
       "      <td>32.931770</td>\n",
       "      <td>1283.942071</td>\n",
       "      <td>1316.057929</td>\n",
       "      <td>10.0</td>\n",
       "      <td>13.0</td>\n",
       "    </tr>\n",
       "    <tr>\n",
       "      <td>2904</td>\n",
       "      <td>1960-09-10</td>\n",
       "      <td>1960</td>\n",
       "      <td>0</td>\n",
       "      <td>NaN</td>\n",
       "      <td>LAC</td>\n",
       "      <td>KC</td>\n",
       "      <td>1300.000</td>\n",
       "      <td>1300.000</td>\n",
       "      <td>0.592466</td>\n",
       "      <td>0.407534</td>\n",
       "      <td>...</td>\n",
       "      <td>0.589531</td>\n",
       "      <td>0.410469</td>\n",
       "      <td>316.140000</td>\n",
       "      <td>153.120000</td>\n",
       "      <td>31.614000</td>\n",
       "      <td>11.872908</td>\n",
       "      <td>1305.532159</td>\n",
       "      <td>1294.467841</td>\n",
       "      <td>21.0</td>\n",
       "      <td>20.0</td>\n",
       "    </tr>\n",
       "    <tr>\n",
       "      <td>2905</td>\n",
       "      <td>1960-09-11</td>\n",
       "      <td>1960</td>\n",
       "      <td>0</td>\n",
       "      <td>NaN</td>\n",
       "      <td>OAK</td>\n",
       "      <td>TEN</td>\n",
       "      <td>1300.000</td>\n",
       "      <td>1300.000</td>\n",
       "      <td>0.592466</td>\n",
       "      <td>0.407534</td>\n",
       "      <td>...</td>\n",
       "      <td>0.523584</td>\n",
       "      <td>0.476416</td>\n",
       "      <td>147.180000</td>\n",
       "      <td>238.920000</td>\n",
       "      <td>14.718000</td>\n",
       "      <td>86.530014</td>\n",
       "      <td>1270.748277</td>\n",
       "      <td>1329.251723</td>\n",
       "      <td>22.0</td>\n",
       "      <td>37.0</td>\n",
       "    </tr>\n",
       "    <tr>\n",
       "      <td>2906</td>\n",
       "      <td>1960-09-11</td>\n",
       "      <td>1960</td>\n",
       "      <td>0</td>\n",
       "      <td>NaN</td>\n",
       "      <td>NYJ</td>\n",
       "      <td>BUF</td>\n",
       "      <td>1300.000</td>\n",
       "      <td>1300.000</td>\n",
       "      <td>0.592466</td>\n",
       "      <td>0.407534</td>\n",
       "      <td>...</td>\n",
       "      <td>0.534573</td>\n",
       "      <td>0.465427</td>\n",
       "      <td>116.820000</td>\n",
       "      <td>-67.650000</td>\n",
       "      <td>11.682000</td>\n",
       "      <td>36.502993</td>\n",
       "      <td>1329.638852</td>\n",
       "      <td>1270.361148</td>\n",
       "      <td>27.0</td>\n",
       "      <td>3.0</td>\n",
       "    </tr>\n",
       "    <tr>\n",
       "      <td>2907</td>\n",
       "      <td>1960-09-16</td>\n",
       "      <td>1960</td>\n",
       "      <td>0</td>\n",
       "      <td>NaN</td>\n",
       "      <td>OAK</td>\n",
       "      <td>KC</td>\n",
       "      <td>1266.146</td>\n",
       "      <td>1294.513</td>\n",
       "      <td>0.552525</td>\n",
       "      <td>0.447475</td>\n",
       "      <td>...</td>\n",
       "      <td>0.556189</td>\n",
       "      <td>0.443811</td>\n",
       "      <td>-96.257257</td>\n",
       "      <td>185.463743</td>\n",
       "      <td>3.620474</td>\n",
       "      <td>29.231991</td>\n",
       "      <td>1237.400627</td>\n",
       "      <td>1327.815491</td>\n",
       "      <td>16.0</td>\n",
       "      <td>34.0</td>\n",
       "    </tr>\n",
       "  </tbody>\n",
       "</table>\n",
       "<p>5 rows × 30 columns</p>\n",
       "</div>"
      ],
      "text/plain": [
       "            date  season  neutral playoff team1 team2  elo1_pre  elo2_pre  \\\n",
       "2903  1960-09-09    1960        0     NaN    NE   DEN  1300.000  1300.000   \n",
       "2904  1960-09-10    1960        0     NaN   LAC    KC  1300.000  1300.000   \n",
       "2905  1960-09-11    1960        0     NaN   OAK   TEN  1300.000  1300.000   \n",
       "2906  1960-09-11    1960        0     NaN   NYJ   BUF  1300.000  1300.000   \n",
       "2907  1960-09-16    1960        0     NaN   OAK    KC  1266.146  1294.513   \n",
       "\n",
       "      elo_prob1  elo_prob2  ...  qbelo_prob1  qbelo_prob2  qb1_game_value  \\\n",
       "2903   0.592466   0.407534  ...     0.566862     0.433138       12.540000   \n",
       "2904   0.592466   0.407534  ...     0.589531     0.410469      316.140000   \n",
       "2905   0.592466   0.407534  ...     0.523584     0.476416      147.180000   \n",
       "2906   0.592466   0.407534  ...     0.534573     0.465427      116.820000   \n",
       "2907   0.552525   0.447475  ...     0.556189     0.443811      -96.257257   \n",
       "\n",
       "      qb2_game_value qb1_value_post qb2_value_post  qbelo1_post  qbelo2_post  \\\n",
       "2903      122.760000       1.254000      32.931770  1283.942071  1316.057929   \n",
       "2904      153.120000      31.614000      11.872908  1305.532159  1294.467841   \n",
       "2905      238.920000      14.718000      86.530014  1270.748277  1329.251723   \n",
       "2906      -67.650000      11.682000      36.502993  1329.638852  1270.361148   \n",
       "2907      185.463743       3.620474      29.231991  1237.400627  1327.815491   \n",
       "\n",
       "      score1  score2  \n",
       "2903    10.0    13.0  \n",
       "2904    21.0    20.0  \n",
       "2905    22.0    37.0  \n",
       "2906    27.0     3.0  \n",
       "2907    16.0    34.0  \n",
       "\n",
       "[5 rows x 30 columns]"
      ]
     },
     "execution_count": 9,
     "metadata": {},
     "output_type": "execute_result"
    }
   ],
   "source": [
    "data.head()"
   ]
  },
  {
   "cell_type": "code",
   "execution_count": 10,
   "metadata": {},
   "outputs": [],
   "source": [
    "def add_elo_features(data):\n",
    "    \"\"\" Based on the elo rating for the two teams, \n",
    "        create new features.  Here, elo1 is assumed\n",
    "        to be the home team.\n",
    "        \n",
    "        The data is modified inplace.\n",
    "    \"\"\"\n",
    "    data['elo_sum'] = data['elo1_pre'] + data['elo2_pre']\n",
    "    data['elo_diff'] = data['elo1_pre'] - data['elo2_pre']\n",
    "    data['elo_asym'] = data['elo_diff'] / data['elo_sum']"
   ]
  },
  {
   "cell_type": "code",
   "execution_count": 11,
   "metadata": {},
   "outputs": [],
   "source": [
    "add_elo_features(data)"
   ]
  },
  {
   "cell_type": "code",
   "execution_count": 12,
   "metadata": {},
   "outputs": [],
   "source": [
    "def add_targets(data):\n",
    "    \"\"\" Add targets based on the game outcome. \"\"\"\n",
    "    \n",
    "    # Did the home team win? Note, ties are removed.\n",
    "    data['outcome'] = data['score1'] > data['score2']\n",
    "    data['outcome'] = data['outcome'].astype(np.int)\n",
    "    \n",
    "    data['point_sum'] = data['score1'] + data['score2']\n",
    "    data['point_diff'] = data['score1'] - data['score2']\n",
    "    data['point_asym'] = data['point_diff'] / data['point_sum']"
   ]
  },
  {
   "cell_type": "code",
   "execution_count": 13,
   "metadata": {},
   "outputs": [],
   "source": [
    "add_targets(data)"
   ]
  },
  {
   "cell_type": "code",
   "execution_count": 14,
   "metadata": {},
   "outputs": [
    {
     "data": {
      "image/png": "[encoded data removed]",
      "text/plain": [
       "<Figure size 432x288 with 1 Axes>"
      ]
     },
     "metadata": {
      "needs_background": "light"
     },
     "output_type": "display_data"
    }
   ],
   "source": [
    "plt.hist(data['outcome']);"
   ]
  },
  {
   "cell_type": "code",
   "execution_count": 15,
   "metadata": {},
   "outputs": [
    {
     "name": "stderr",
     "output_type": "stream",
     "text": [
      "/usr/local/lib/python3.7/site-packages/matplotlib/figure.py:98: MatplotlibDeprecationWarning: \n",
      "Adding an axes using the same arguments as a previous axes currently reuses the earlier instance.  In a future version, a new instance will always be created and returned.  Meanwhile, this warning can be suppressed, and the future behavior ensured, by passing a unique label to each axes instance.\n",
      "  \"Adding an axes using the same arguments as a previous axes \"\n"
     ]
    },
    {
     "data": {
      "image/png": "[encoded data removed]",
      "text/plain": [
       "<Figure size 864x720 with 3 Axes>"
      ]
     },
     "metadata": {
      "needs_background": "light"
     },
     "output_type": "display_data"
    }
   ],
   "source": [
    "plt.figure(figsize=(12,10))\n",
    "\n",
    "for outcome, subdata in data.groupby('outcome'):\n",
    "    \n",
    "    plt.subplot(2, 2, 1)\n",
    "    plt.hist(subdata['elo_sum'], \n",
    "             bins=np.linspace(2200, 3800, 100),\n",
    "             histtype='step');\n",
    "    plt.grid(alpha=0.2)\n",
    "    \n",
    "    plt.subplot(2, 2, 2)\n",
    "    plt.hist(subdata['elo_diff'], \n",
    "             bins=np.linspace(-500, 500, 100),\n",
    "             histtype='step');\n",
    "    plt.grid(alpha=0.2)\n",
    "    \n",
    "    plt.subplot(2, 2, 3)\n",
    "    plt.hist(subdata['elo_asym'], \n",
    "             bins=np.linspace(-0.3, 0.3, 100),\n",
    "             histtype='step');\n",
    "    plt.grid(alpha=0.2)\n",
    "    \n",
    "plt.tight_layout()"
   ]
  },
  {
   "cell_type": "code",
   "execution_count": 16,
   "metadata": {},
   "outputs": [],
   "source": [
    "from sklearn.preprocessing import StandardScaler\n",
    "from sklearn.metrics import accuracy_score, roc_auc_score\n",
    "from sklearn.linear_model import LogisticRegression\n",
    "from sklearn.model_selection import train_test_split"
   ]
  },
  {
   "cell_type": "code",
   "execution_count": 17,
   "metadata": {},
   "outputs": [],
   "source": [
    "features = ['elo_sum', 'elo_diff', 'elo_asym', 'elo_prob1']\n",
    "target = ['outcome']\n",
    "\n",
    "x_train, x_test, y_train, y_test = train_test_split(data[features], data[target])"
   ]
  },
  {
   "cell_type": "code",
   "execution_count": 18,
   "metadata": {},
   "outputs": [
    {
     "data": {
      "text/plain": [
       "((10035, 4), (3345, 4))"
      ]
     },
     "execution_count": 18,
     "metadata": {},
     "output_type": "execute_result"
    }
   ],
   "source": [
    "x_train.shape, x_test.shape"
   ]
  },
  {
   "cell_type": "code",
   "execution_count": 19,
   "metadata": {},
   "outputs": [],
   "source": [
    "model = LogisticRegression()"
   ]
  },
  {
   "cell_type": "code",
   "execution_count": 20,
   "metadata": {},
   "outputs": [
    {
     "name": "stderr",
     "output_type": "stream",
     "text": [
      "/usr/local/lib/python3.7/site-packages/sklearn/linear_model/logistic.py:432: FutureWarning: Default solver will be changed to 'lbfgs' in 0.22. Specify a solver to silence this warning.\n",
      "  FutureWarning)\n",
      "/usr/local/lib/python3.7/site-packages/sklearn/utils/validation.py:724: DataConversionWarning: A column-vector y was passed when a 1d array was expected. Please change the shape of y to (n_samples, ), for example using ravel().\n",
      "  y = column_or_1d(y, warn=True)\n"
     ]
    },
    {
     "data": {
      "text/plain": [
       "LogisticRegression(C=1.0, class_weight=None, dual=False, fit_intercept=True,\n",
       "                   intercept_scaling=1, l1_ratio=None, max_iter=100,\n",
       "                   multi_class='warn', n_jobs=None, penalty='l2',\n",
       "                   random_state=None, solver='warn', tol=0.0001, verbose=0,\n",
       "                   warm_start=False)"
      ]
     },
     "execution_count": 20,
     "metadata": {},
     "output_type": "execute_result"
    }
   ],
   "source": [
    "model.fit(x_train, y_train)"
   ]
  },
  {
   "cell_type": "code",
   "execution_count": 21,
   "metadata": {},
   "outputs": [
    {
     "data": {
      "text/plain": [
       "array([[1.16438500e-04, 5.70622785e-03, 1.91724194e-06, 7.04579337e-06]])"
      ]
     },
     "execution_count": 21,
     "metadata": {},
     "output_type": "execute_result"
    }
   ],
   "source": [
    "model.coef_"
   ]
  },
  {
   "cell_type": "code",
   "execution_count": 22,
   "metadata": {},
   "outputs": [],
   "source": [
    "y_pred = model.predict_proba(x_test)"
   ]
  },
  {
   "cell_type": "code",
   "execution_count": 23,
   "metadata": {},
   "outputs": [
    {
     "data": {
      "image/png": "[encoded data removed]",
      "text/plain": [
       "<Figure size 432x288 with 1 Axes>"
      ]
     },
     "metadata": {
      "needs_background": "light"
     },
     "output_type": "display_data"
    }
   ],
   "source": [
    "plt.hist(y_pred[np.where(y_test == 0)[0],0], bins=np.linspace(0,1,50), alpha=0.4);\n",
    "plt.hist(y_pred[np.where(y_test == 1)[0],0], bins=np.linspace(0,1,50), alpha=0.4);"
   ]
  },
  {
   "cell_type": "code",
   "execution_count": 24,
   "metadata": {},
   "outputs": [
    {
     "data": {
      "text/plain": [
       "0.656203288490284"
      ]
     },
     "execution_count": 24,
     "metadata": {},
     "output_type": "execute_result"
    }
   ],
   "source": [
    "accuracy_score(y_test, y_pred[:,1].round())"
   ]
  },
  {
   "cell_type": "code",
   "execution_count": 25,
   "metadata": {},
   "outputs": [
    {
     "data": {
      "text/plain": [
       "0.6908418996147456"
      ]
     },
     "execution_count": 25,
     "metadata": {},
     "output_type": "execute_result"
    }
   ],
   "source": [
    "roc_auc_score(y_test, y_pred[:,1])"
   ]
  },
  {
   "cell_type": "code",
   "execution_count": 26,
   "metadata": {},
   "outputs": [],
   "source": [
    "from datetime import date"
   ]
  },
  {
   "cell_type": "code",
   "execution_count": 27,
   "metadata": {},
   "outputs": [],
   "source": [
    "data = pd.read_csv(data_dir + 'historical_data.csv')\n",
    "add_elo_features(data)\n",
    "add_targets(data)\n",
    "data['date'] = pd.to_datetime(data['date'])\n",
    "today = pd.Timestamp(date.today())\n",
    "next_week = today + pd.Timedelta(1, unit='w')\n",
    "weekly_preds = data[np.logical_and(data['date'] >= today, data['date'] < next_week)]"
   ]
  },
  {
   "cell_type": "code",
   "execution_count": 28,
   "metadata": {},
   "outputs": [
    {
     "data": {
      "text/html": [
       "<div>\n",
       "<style scoped>\n",
       "    .dataframe tbody tr th:only-of-type {\n",
       "        vertical-align: middle;\n",
       "    }\n",
       "\n",
       "    .dataframe tbody tr th {\n",
       "        vertical-align: top;\n",
       "    }\n",
       "\n",
       "    .dataframe thead th {\n",
       "        text-align: right;\n",
       "    }\n",
       "</style>\n",
       "<table border=\"1\" class=\"dataframe\">\n",
       "  <thead>\n",
       "    <tr style=\"text-align: right;\">\n",
       "      <th></th>\n",
       "      <th>date</th>\n",
       "      <th>season</th>\n",
       "      <th>neutral</th>\n",
       "      <th>playoff</th>\n",
       "      <th>team1</th>\n",
       "      <th>team2</th>\n",
       "      <th>elo1_pre</th>\n",
       "      <th>elo2_pre</th>\n",
       "      <th>elo_prob1</th>\n",
       "      <th>elo_prob2</th>\n",
       "      <th>...</th>\n",
       "      <th>qbelo2_post</th>\n",
       "      <th>score1</th>\n",
       "      <th>score2</th>\n",
       "      <th>elo_sum</th>\n",
       "      <th>elo_diff</th>\n",
       "      <th>elo_asym</th>\n",
       "      <th>outcome</th>\n",
       "      <th>point_sum</th>\n",
       "      <th>point_diff</th>\n",
       "      <th>point_asym</th>\n",
       "    </tr>\n",
       "  </thead>\n",
       "  <tbody>\n",
       "    <tr>\n",
       "      <td>16409</td>\n",
       "      <td>2019-11-07</td>\n",
       "      <td>2019</td>\n",
       "      <td>0</td>\n",
       "      <td>NaN</td>\n",
       "      <td>OAK</td>\n",
       "      <td>LAC</td>\n",
       "      <td>1451.227479</td>\n",
       "      <td>1535.147006</td>\n",
       "      <td>0.472799</td>\n",
       "      <td>0.527201</td>\n",
       "      <td>...</td>\n",
       "      <td>NaN</td>\n",
       "      <td>NaN</td>\n",
       "      <td>NaN</td>\n",
       "      <td>2986.374485</td>\n",
       "      <td>-83.919527</td>\n",
       "      <td>-0.028101</td>\n",
       "      <td>0</td>\n",
       "      <td>NaN</td>\n",
       "      <td>NaN</td>\n",
       "      <td>NaN</td>\n",
       "    </tr>\n",
       "    <tr>\n",
       "      <td>16410</td>\n",
       "      <td>2019-11-10</td>\n",
       "      <td>2019</td>\n",
       "      <td>0</td>\n",
       "      <td>NaN</td>\n",
       "      <td>CIN</td>\n",
       "      <td>BAL</td>\n",
       "      <td>1313.380842</td>\n",
       "      <td>1637.030925</td>\n",
       "      <td>0.184085</td>\n",
       "      <td>0.815915</td>\n",
       "      <td>...</td>\n",
       "      <td>NaN</td>\n",
       "      <td>NaN</td>\n",
       "      <td>NaN</td>\n",
       "      <td>2950.411767</td>\n",
       "      <td>-323.650083</td>\n",
       "      <td>-0.109697</td>\n",
       "      <td>0</td>\n",
       "      <td>NaN</td>\n",
       "      <td>NaN</td>\n",
       "      <td>NaN</td>\n",
       "    </tr>\n",
       "    <tr>\n",
       "      <td>16411</td>\n",
       "      <td>2019-11-10</td>\n",
       "      <td>2019</td>\n",
       "      <td>0</td>\n",
       "      <td>NaN</td>\n",
       "      <td>NYJ</td>\n",
       "      <td>NYG</td>\n",
       "      <td>1308.913910</td>\n",
       "      <td>1345.645418</td>\n",
       "      <td>0.540592</td>\n",
       "      <td>0.459408</td>\n",
       "      <td>...</td>\n",
       "      <td>NaN</td>\n",
       "      <td>NaN</td>\n",
       "      <td>NaN</td>\n",
       "      <td>2654.559328</td>\n",
       "      <td>-36.731508</td>\n",
       "      <td>-0.013837</td>\n",
       "      <td>0</td>\n",
       "      <td>NaN</td>\n",
       "      <td>NaN</td>\n",
       "      <td>NaN</td>\n",
       "    </tr>\n",
       "    <tr>\n",
       "      <td>16412</td>\n",
       "      <td>2019-11-10</td>\n",
       "      <td>2019</td>\n",
       "      <td>0</td>\n",
       "      <td>NaN</td>\n",
       "      <td>NO</td>\n",
       "      <td>ATL</td>\n",
       "      <td>1677.668776</td>\n",
       "      <td>1401.747072</td>\n",
       "      <td>0.876804</td>\n",
       "      <td>0.123196</td>\n",
       "      <td>...</td>\n",
       "      <td>NaN</td>\n",
       "      <td>NaN</td>\n",
       "      <td>NaN</td>\n",
       "      <td>3079.415848</td>\n",
       "      <td>275.921704</td>\n",
       "      <td>0.089602</td>\n",
       "      <td>0</td>\n",
       "      <td>NaN</td>\n",
       "      <td>NaN</td>\n",
       "      <td>NaN</td>\n",
       "    </tr>\n",
       "    <tr>\n",
       "      <td>16413</td>\n",
       "      <td>2019-11-10</td>\n",
       "      <td>2019</td>\n",
       "      <td>0</td>\n",
       "      <td>NaN</td>\n",
       "      <td>TB</td>\n",
       "      <td>ARI</td>\n",
       "      <td>1435.465664</td>\n",
       "      <td>1375.140838</td>\n",
       "      <td>0.672921</td>\n",
       "      <td>0.327079</td>\n",
       "      <td>...</td>\n",
       "      <td>NaN</td>\n",
       "      <td>NaN</td>\n",
       "      <td>NaN</td>\n",
       "      <td>2810.606502</td>\n",
       "      <td>60.324827</td>\n",
       "      <td>0.021463</td>\n",
       "      <td>0</td>\n",
       "      <td>NaN</td>\n",
       "      <td>NaN</td>\n",
       "      <td>NaN</td>\n",
       "    </tr>\n",
       "    <tr>\n",
       "      <td>16414</td>\n",
       "      <td>2019-11-10</td>\n",
       "      <td>2019</td>\n",
       "      <td>0</td>\n",
       "      <td>NaN</td>\n",
       "      <td>CHI</td>\n",
       "      <td>DET</td>\n",
       "      <td>1528.433805</td>\n",
       "      <td>1471.037641</td>\n",
       "      <td>0.669200</td>\n",
       "      <td>0.330800</td>\n",
       "      <td>...</td>\n",
       "      <td>NaN</td>\n",
       "      <td>NaN</td>\n",
       "      <td>NaN</td>\n",
       "      <td>2999.471446</td>\n",
       "      <td>57.396164</td>\n",
       "      <td>0.019135</td>\n",
       "      <td>0</td>\n",
       "      <td>NaN</td>\n",
       "      <td>NaN</td>\n",
       "      <td>NaN</td>\n",
       "    </tr>\n",
       "    <tr>\n",
       "      <td>16415</td>\n",
       "      <td>2019-11-10</td>\n",
       "      <td>2019</td>\n",
       "      <td>0</td>\n",
       "      <td>NaN</td>\n",
       "      <td>CLE</td>\n",
       "      <td>BUF</td>\n",
       "      <td>1429.564998</td>\n",
       "      <td>1497.454912</td>\n",
       "      <td>0.495841</td>\n",
       "      <td>0.504159</td>\n",
       "      <td>...</td>\n",
       "      <td>NaN</td>\n",
       "      <td>NaN</td>\n",
       "      <td>NaN</td>\n",
       "      <td>2927.019909</td>\n",
       "      <td>-67.889914</td>\n",
       "      <td>-0.023194</td>\n",
       "      <td>0</td>\n",
       "      <td>NaN</td>\n",
       "      <td>NaN</td>\n",
       "      <td>NaN</td>\n",
       "    </tr>\n",
       "    <tr>\n",
       "      <td>16416</td>\n",
       "      <td>2019-11-10</td>\n",
       "      <td>2019</td>\n",
       "      <td>0</td>\n",
       "      <td>NaN</td>\n",
       "      <td>TEN</td>\n",
       "      <td>KC</td>\n",
       "      <td>1488.967355</td>\n",
       "      <td>1606.973039</td>\n",
       "      <td>0.424305</td>\n",
       "      <td>0.575695</td>\n",
       "      <td>...</td>\n",
       "      <td>NaN</td>\n",
       "      <td>NaN</td>\n",
       "      <td>NaN</td>\n",
       "      <td>3095.940394</td>\n",
       "      <td>-118.005684</td>\n",
       "      <td>-0.038116</td>\n",
       "      <td>0</td>\n",
       "      <td>NaN</td>\n",
       "      <td>NaN</td>\n",
       "      <td>NaN</td>\n",
       "    </tr>\n",
       "    <tr>\n",
       "      <td>16417</td>\n",
       "      <td>2019-11-10</td>\n",
       "      <td>2019</td>\n",
       "      <td>0</td>\n",
       "      <td>NaN</td>\n",
       "      <td>IND</td>\n",
       "      <td>MIA</td>\n",
       "      <td>1576.622114</td>\n",
       "      <td>1336.399573</td>\n",
       "      <td>0.852834</td>\n",
       "      <td>0.147166</td>\n",
       "      <td>...</td>\n",
       "      <td>NaN</td>\n",
       "      <td>NaN</td>\n",
       "      <td>NaN</td>\n",
       "      <td>2913.021687</td>\n",
       "      <td>240.222542</td>\n",
       "      <td>0.082465</td>\n",
       "      <td>0</td>\n",
       "      <td>NaN</td>\n",
       "      <td>NaN</td>\n",
       "      <td>NaN</td>\n",
       "    </tr>\n",
       "    <tr>\n",
       "      <td>16418</td>\n",
       "      <td>2019-11-10</td>\n",
       "      <td>2019</td>\n",
       "      <td>0</td>\n",
       "      <td>NaN</td>\n",
       "      <td>GB</td>\n",
       "      <td>CAR</td>\n",
       "      <td>1557.008574</td>\n",
       "      <td>1551.921945</td>\n",
       "      <td>0.599517</td>\n",
       "      <td>0.400483</td>\n",
       "      <td>...</td>\n",
       "      <td>NaN</td>\n",
       "      <td>NaN</td>\n",
       "      <td>NaN</td>\n",
       "      <td>3108.930518</td>\n",
       "      <td>5.086629</td>\n",
       "      <td>0.001636</td>\n",
       "      <td>0</td>\n",
       "      <td>NaN</td>\n",
       "      <td>NaN</td>\n",
       "      <td>NaN</td>\n",
       "    </tr>\n",
       "    <tr>\n",
       "      <td>16419</td>\n",
       "      <td>2019-11-10</td>\n",
       "      <td>2019</td>\n",
       "      <td>0</td>\n",
       "      <td>NaN</td>\n",
       "      <td>PIT</td>\n",
       "      <td>LAR</td>\n",
       "      <td>1564.609855</td>\n",
       "      <td>1589.854923</td>\n",
       "      <td>0.556964</td>\n",
       "      <td>0.443036</td>\n",
       "      <td>...</td>\n",
       "      <td>NaN</td>\n",
       "      <td>NaN</td>\n",
       "      <td>NaN</td>\n",
       "      <td>3154.464778</td>\n",
       "      <td>-25.245068</td>\n",
       "      <td>-0.008003</td>\n",
       "      <td>0</td>\n",
       "      <td>NaN</td>\n",
       "      <td>NaN</td>\n",
       "      <td>NaN</td>\n",
       "    </tr>\n",
       "    <tr>\n",
       "      <td>16420</td>\n",
       "      <td>2019-11-10</td>\n",
       "      <td>2019</td>\n",
       "      <td>0</td>\n",
       "      <td>NaN</td>\n",
       "      <td>DAL</td>\n",
       "      <td>MIN</td>\n",
       "      <td>1577.508897</td>\n",
       "      <td>1606.190558</td>\n",
       "      <td>0.552077</td>\n",
       "      <td>0.447923</td>\n",
       "      <td>...</td>\n",
       "      <td>NaN</td>\n",
       "      <td>NaN</td>\n",
       "      <td>NaN</td>\n",
       "      <td>3183.699456</td>\n",
       "      <td>-28.681661</td>\n",
       "      <td>-0.009009</td>\n",
       "      <td>0</td>\n",
       "      <td>NaN</td>\n",
       "      <td>NaN</td>\n",
       "      <td>NaN</td>\n",
       "    </tr>\n",
       "    <tr>\n",
       "      <td>16421</td>\n",
       "      <td>2019-11-11</td>\n",
       "      <td>2019</td>\n",
       "      <td>0</td>\n",
       "      <td>NaN</td>\n",
       "      <td>SF</td>\n",
       "      <td>SEA</td>\n",
       "      <td>1617.762632</td>\n",
       "      <td>1583.227503</td>\n",
       "      <td>0.639448</td>\n",
       "      <td>0.360552</td>\n",
       "      <td>...</td>\n",
       "      <td>NaN</td>\n",
       "      <td>NaN</td>\n",
       "      <td>NaN</td>\n",
       "      <td>3200.990135</td>\n",
       "      <td>34.535129</td>\n",
       "      <td>0.010789</td>\n",
       "      <td>0</td>\n",
       "      <td>NaN</td>\n",
       "      <td>NaN</td>\n",
       "      <td>NaN</td>\n",
       "    </tr>\n",
       "  </tbody>\n",
       "</table>\n",
       "<p>13 rows × 37 columns</p>\n",
       "</div>"
      ],
      "text/plain": [
       "            date  season  neutral playoff team1 team2     elo1_pre  \\\n",
       "16409 2019-11-07    2019        0     NaN   OAK   LAC  1451.227479   \n",
       "16410 2019-11-10    2019        0     NaN   CIN   BAL  1313.380842   \n",
       "16411 2019-11-10    2019        0     NaN   NYJ   NYG  1308.913910   \n",
       "16412 2019-11-10    2019        0     NaN    NO   ATL  1677.668776   \n",
       "16413 2019-11-10    2019        0     NaN    TB   ARI  1435.465664   \n",
       "16414 2019-11-10    2019        0     NaN   CHI   DET  1528.433805   \n",
       "16415 2019-11-10    2019        0     NaN   CLE   BUF  1429.564998   \n",
       "16416 2019-11-10    2019        0     NaN   TEN    KC  1488.967355   \n",
       "16417 2019-11-10    2019        0     NaN   IND   MIA  1576.622114   \n",
       "16418 2019-11-10    2019        0     NaN    GB   CAR  1557.008574   \n",
       "16419 2019-11-10    2019        0     NaN   PIT   LAR  1564.609855   \n",
       "16420 2019-11-10    2019        0     NaN   DAL   MIN  1577.508897   \n",
       "16421 2019-11-11    2019        0     NaN    SF   SEA  1617.762632   \n",
       "\n",
       "          elo2_pre  elo_prob1  elo_prob2  ...  qbelo2_post  score1  score2  \\\n",
       "16409  1535.147006   0.472799   0.527201  ...          NaN     NaN     NaN   \n",
       "16410  1637.030925   0.184085   0.815915  ...          NaN     NaN     NaN   \n",
       "16411  1345.645418   0.540592   0.459408  ...          NaN     NaN     NaN   \n",
       "16412  1401.747072   0.876804   0.123196  ...          NaN     NaN     NaN   \n",
       "16413  1375.140838   0.672921   0.327079  ...          NaN     NaN     NaN   \n",
       "16414  1471.037641   0.669200   0.330800  ...          NaN     NaN     NaN   \n",
       "16415  1497.454912   0.495841   0.504159  ...          NaN     NaN     NaN   \n",
       "16416  1606.973039   0.424305   0.575695  ...          NaN     NaN     NaN   \n",
       "16417  1336.399573   0.852834   0.147166  ...          NaN     NaN     NaN   \n",
       "16418  1551.921945   0.599517   0.400483  ...          NaN     NaN     NaN   \n",
       "16419  1589.854923   0.556964   0.443036  ...          NaN     NaN     NaN   \n",
       "16420  1606.190558   0.552077   0.447923  ...          NaN     NaN     NaN   \n",
       "16421  1583.227503   0.639448   0.360552  ...          NaN     NaN     NaN   \n",
       "\n",
       "           elo_sum    elo_diff  elo_asym  outcome  point_sum  point_diff  \\\n",
       "16409  2986.374485  -83.919527 -0.028101        0        NaN         NaN   \n",
       "16410  2950.411767 -323.650083 -0.109697        0        NaN         NaN   \n",
       "16411  2654.559328  -36.731508 -0.013837        0        NaN         NaN   \n",
       "16412  3079.415848  275.921704  0.089602        0        NaN         NaN   \n",
       "16413  2810.606502   60.324827  0.021463        0        NaN         NaN   \n",
       "16414  2999.471446   57.396164  0.019135        0        NaN         NaN   \n",
       "16415  2927.019909  -67.889914 -0.023194        0        NaN         NaN   \n",
       "16416  3095.940394 -118.005684 -0.038116        0        NaN         NaN   \n",
       "16417  2913.021687  240.222542  0.082465        0        NaN         NaN   \n",
       "16418  3108.930518    5.086629  0.001636        0        NaN         NaN   \n",
       "16419  3154.464778  -25.245068 -0.008003        0        NaN         NaN   \n",
       "16420  3183.699456  -28.681661 -0.009009        0        NaN         NaN   \n",
       "16421  3200.990135   34.535129  0.010789        0        NaN         NaN   \n",
       "\n",
       "       point_asym  \n",
       "16409         NaN  \n",
       "16410         NaN  \n",
       "16411         NaN  \n",
       "16412         NaN  \n",
       "16413         NaN  \n",
       "16414         NaN  \n",
       "16415         NaN  \n",
       "16416         NaN  \n",
       "16417         NaN  \n",
       "16418         NaN  \n",
       "16419         NaN  \n",
       "16420         NaN  \n",
       "16421         NaN  \n",
       "\n",
       "[13 rows x 37 columns]"
      ]
     },
     "execution_count": 28,
     "metadata": {},
     "output_type": "execute_result"
    }
   ],
   "source": [
    "weekly_preds"
   ]
  },
  {
   "cell_type": "code",
   "execution_count": 29,
   "metadata": {},
   "outputs": [
    {
     "data": {
      "text/html": [
       "<div>\n",
       "<style scoped>\n",
       "    .dataframe tbody tr th:only-of-type {\n",
       "        vertical-align: middle;\n",
       "    }\n",
       "\n",
       "    .dataframe tbody tr th {\n",
       "        vertical-align: top;\n",
       "    }\n",
       "\n",
       "    .dataframe thead th {\n",
       "        text-align: right;\n",
       "    }\n",
       "</style>\n",
       "<table border=\"1\" class=\"dataframe\">\n",
       "  <thead>\n",
       "    <tr style=\"text-align: right;\">\n",
       "      <th></th>\n",
       "      <th>elo_sum</th>\n",
       "      <th>elo_diff</th>\n",
       "      <th>elo_asym</th>\n",
       "      <th>elo_prob1</th>\n",
       "    </tr>\n",
       "  </thead>\n",
       "  <tbody>\n",
       "    <tr>\n",
       "      <td>16409</td>\n",
       "      <td>2986.374485</td>\n",
       "      <td>-83.919527</td>\n",
       "      <td>-0.028101</td>\n",
       "      <td>0.472799</td>\n",
       "    </tr>\n",
       "    <tr>\n",
       "      <td>16410</td>\n",
       "      <td>2950.411767</td>\n",
       "      <td>-323.650083</td>\n",
       "      <td>-0.109697</td>\n",
       "      <td>0.184085</td>\n",
       "    </tr>\n",
       "    <tr>\n",
       "      <td>16411</td>\n",
       "      <td>2654.559328</td>\n",
       "      <td>-36.731508</td>\n",
       "      <td>-0.013837</td>\n",
       "      <td>0.540592</td>\n",
       "    </tr>\n",
       "    <tr>\n",
       "      <td>16412</td>\n",
       "      <td>3079.415848</td>\n",
       "      <td>275.921704</td>\n",
       "      <td>0.089602</td>\n",
       "      <td>0.876804</td>\n",
       "    </tr>\n",
       "    <tr>\n",
       "      <td>16413</td>\n",
       "      <td>2810.606502</td>\n",
       "      <td>60.324827</td>\n",
       "      <td>0.021463</td>\n",
       "      <td>0.672921</td>\n",
       "    </tr>\n",
       "    <tr>\n",
       "      <td>16414</td>\n",
       "      <td>2999.471446</td>\n",
       "      <td>57.396164</td>\n",
       "      <td>0.019135</td>\n",
       "      <td>0.669200</td>\n",
       "    </tr>\n",
       "    <tr>\n",
       "      <td>16415</td>\n",
       "      <td>2927.019909</td>\n",
       "      <td>-67.889914</td>\n",
       "      <td>-0.023194</td>\n",
       "      <td>0.495841</td>\n",
       "    </tr>\n",
       "    <tr>\n",
       "      <td>16416</td>\n",
       "      <td>3095.940394</td>\n",
       "      <td>-118.005684</td>\n",
       "      <td>-0.038116</td>\n",
       "      <td>0.424305</td>\n",
       "    </tr>\n",
       "    <tr>\n",
       "      <td>16417</td>\n",
       "      <td>2913.021687</td>\n",
       "      <td>240.222542</td>\n",
       "      <td>0.082465</td>\n",
       "      <td>0.852834</td>\n",
       "    </tr>\n",
       "    <tr>\n",
       "      <td>16418</td>\n",
       "      <td>3108.930518</td>\n",
       "      <td>5.086629</td>\n",
       "      <td>0.001636</td>\n",
       "      <td>0.599517</td>\n",
       "    </tr>\n",
       "    <tr>\n",
       "      <td>16419</td>\n",
       "      <td>3154.464778</td>\n",
       "      <td>-25.245068</td>\n",
       "      <td>-0.008003</td>\n",
       "      <td>0.556964</td>\n",
       "    </tr>\n",
       "    <tr>\n",
       "      <td>16420</td>\n",
       "      <td>3183.699456</td>\n",
       "      <td>-28.681661</td>\n",
       "      <td>-0.009009</td>\n",
       "      <td>0.552077</td>\n",
       "    </tr>\n",
       "    <tr>\n",
       "      <td>16421</td>\n",
       "      <td>3200.990135</td>\n",
       "      <td>34.535129</td>\n",
       "      <td>0.010789</td>\n",
       "      <td>0.639448</td>\n",
       "    </tr>\n",
       "  </tbody>\n",
       "</table>\n",
       "</div>"
      ],
      "text/plain": [
       "           elo_sum    elo_diff  elo_asym  elo_prob1\n",
       "16409  2986.374485  -83.919527 -0.028101   0.472799\n",
       "16410  2950.411767 -323.650083 -0.109697   0.184085\n",
       "16411  2654.559328  -36.731508 -0.013837   0.540592\n",
       "16412  3079.415848  275.921704  0.089602   0.876804\n",
       "16413  2810.606502   60.324827  0.021463   0.672921\n",
       "16414  2999.471446   57.396164  0.019135   0.669200\n",
       "16415  2927.019909  -67.889914 -0.023194   0.495841\n",
       "16416  3095.940394 -118.005684 -0.038116   0.424305\n",
       "16417  2913.021687  240.222542  0.082465   0.852834\n",
       "16418  3108.930518    5.086629  0.001636   0.599517\n",
       "16419  3154.464778  -25.245068 -0.008003   0.556964\n",
       "16420  3183.699456  -28.681661 -0.009009   0.552077\n",
       "16421  3200.990135   34.535129  0.010789   0.639448"
      ]
     },
     "execution_count": 29,
     "metadata": {},
     "output_type": "execute_result"
    }
   ],
   "source": [
    "weekly_preds[features]"
   ]
  },
  {
   "cell_type": "code",
   "execution_count": 30,
   "metadata": {},
   "outputs": [
    {
     "name": "stderr",
     "output_type": "stream",
     "text": [
      "/usr/local/lib/python3.7/site-packages/ipykernel_launcher.py:1: SettingWithCopyWarning: \n",
      "A value is trying to be set on a copy of a slice from a DataFrame.\n",
      "Try using .loc[row_indexer,col_indexer] = value instead\n",
      "\n",
      "See the caveats in the documentation: http://pandas.pydata.org/pandas-docs/stable/user_guide/indexing.html#returning-a-view-versus-a-copy\n",
      "  \"\"\"Entry point for launching an IPython kernel.\n"
     ]
    }
   ],
   "source": [
    "weekly_preds['pred_proba'] = model.predict_proba(weekly_preds[features])[:,1]"
   ]
  },
  {
   "cell_type": "code",
   "execution_count": 31,
   "metadata": {},
   "outputs": [
    {
     "data": {
      "text/html": [
       "<div>\n",
       "<style scoped>\n",
       "    .dataframe tbody tr th:only-of-type {\n",
       "        vertical-align: middle;\n",
       "    }\n",
       "\n",
       "    .dataframe tbody tr th {\n",
       "        vertical-align: top;\n",
       "    }\n",
       "\n",
       "    .dataframe thead th {\n",
       "        text-align: right;\n",
       "    }\n",
       "</style>\n",
       "<table border=\"1\" class=\"dataframe\">\n",
       "  <thead>\n",
       "    <tr style=\"text-align: right;\">\n",
       "      <th></th>\n",
       "      <th>team1</th>\n",
       "      <th>team2</th>\n",
       "      <th>elo_prob1</th>\n",
       "      <th>pred_proba</th>\n",
       "    </tr>\n",
       "  </thead>\n",
       "  <tbody>\n",
       "    <tr>\n",
       "      <td>16409</td>\n",
       "      <td>OAK</td>\n",
       "      <td>LAC</td>\n",
       "      <td>0.472799</td>\n",
       "      <td>0.467264</td>\n",
       "    </tr>\n",
       "    <tr>\n",
       "      <td>16410</td>\n",
       "      <td>CIN</td>\n",
       "      <td>BAL</td>\n",
       "      <td>0.184085</td>\n",
       "      <td>0.181937</td>\n",
       "    </tr>\n",
       "    <tr>\n",
       "      <td>16411</td>\n",
       "      <td>NYJ</td>\n",
       "      <td>NYG</td>\n",
       "      <td>0.540592</td>\n",
       "      <td>0.524854</td>\n",
       "    </tr>\n",
       "    <tr>\n",
       "      <td>16412</td>\n",
       "      <td>NO</td>\n",
       "      <td>ATL</td>\n",
       "      <td>0.876804</td>\n",
       "      <td>0.873586</td>\n",
       "    </tr>\n",
       "    <tr>\n",
       "      <td>16413</td>\n",
       "      <td>TB</td>\n",
       "      <td>ARI</td>\n",
       "      <td>0.672921</td>\n",
       "      <td>0.661838</td>\n",
       "    </tr>\n",
       "    <tr>\n",
       "      <td>16414</td>\n",
       "      <td>CHI</td>\n",
       "      <td>DET</td>\n",
       "      <td>0.669200</td>\n",
       "      <td>0.663018</td>\n",
       "    </tr>\n",
       "    <tr>\n",
       "      <td>16415</td>\n",
       "      <td>CLE</td>\n",
       "      <td>BUF</td>\n",
       "      <td>0.495841</td>\n",
       "      <td>0.488359</td>\n",
       "    </tr>\n",
       "    <tr>\n",
       "      <td>16416</td>\n",
       "      <td>TEN</td>\n",
       "      <td>KC</td>\n",
       "      <td>0.424305</td>\n",
       "      <td>0.422412</td>\n",
       "    </tr>\n",
       "    <tr>\n",
       "      <td>16417</td>\n",
       "      <td>IND</td>\n",
       "      <td>MIA</td>\n",
       "      <td>0.852834</td>\n",
       "      <td>0.846831</td>\n",
       "    </tr>\n",
       "    <tr>\n",
       "      <td>16418</td>\n",
       "      <td>GB</td>\n",
       "      <td>CAR</td>\n",
       "      <td>0.599517</td>\n",
       "      <td>0.596530</td>\n",
       "    </tr>\n",
       "    <tr>\n",
       "      <td>16419</td>\n",
       "      <td>PIT</td>\n",
       "      <td>LAR</td>\n",
       "      <td>0.556964</td>\n",
       "      <td>0.555582</td>\n",
       "    </tr>\n",
       "    <tr>\n",
       "      <td>16420</td>\n",
       "      <td>DAL</td>\n",
       "      <td>MIN</td>\n",
       "      <td>0.552077</td>\n",
       "      <td>0.551577</td>\n",
       "    </tr>\n",
       "    <tr>\n",
       "      <td>16421</td>\n",
       "      <td>SF</td>\n",
       "      <td>SEA</td>\n",
       "      <td>0.639448</td>\n",
       "      <td>0.638714</td>\n",
       "    </tr>\n",
       "  </tbody>\n",
       "</table>\n",
       "</div>"
      ],
      "text/plain": [
       "      team1 team2  elo_prob1  pred_proba\n",
       "16409   OAK   LAC   0.472799    0.467264\n",
       "16410   CIN   BAL   0.184085    0.181937\n",
       "16411   NYJ   NYG   0.540592    0.524854\n",
       "16412    NO   ATL   0.876804    0.873586\n",
       "16413    TB   ARI   0.672921    0.661838\n",
       "16414   CHI   DET   0.669200    0.663018\n",
       "16415   CLE   BUF   0.495841    0.488359\n",
       "16416   TEN    KC   0.424305    0.422412\n",
       "16417   IND   MIA   0.852834    0.846831\n",
       "16418    GB   CAR   0.599517    0.596530\n",
       "16419   PIT   LAR   0.556964    0.555582\n",
       "16420   DAL   MIN   0.552077    0.551577\n",
       "16421    SF   SEA   0.639448    0.638714"
      ]
     },
     "execution_count": 31,
     "metadata": {},
     "output_type": "execute_result"
    }
   ],
   "source": [
    "weekly_preds[['team1', 'team2', 'elo_prob1', 'pred_proba']]"
   ]
  },
  {
   "cell_type": "code",
   "execution_count": 32,
   "metadata": {},
   "outputs": [
    {
     "data": {
      "text/plain": [
       "['latest_data.csv', 'weekly_preds.csv', 'historical_data.csv']"
      ]
     },
     "execution_count": 32,
     "metadata": {},
     "output_type": "execute_result"
    }
   ],
   "source": [
    "os.listdir('../data')"
   ]
  },
  {
   "cell_type": "code",
   "execution_count": 33,
   "metadata": {},
   "outputs": [
    {
     "ename": "FileNotFoundError",
     "evalue": "[Errno 2] File b'../data/spreadspoke_scores.csv' does not exist: b'../data/spreadspoke_scores.csv'",
     "output_type": "error",
     "traceback": [
      "\u001b[0;31m---------------------------------------------------------------------------\u001b[0m",
      "\u001b[0;31mFileNotFoundError\u001b[0m                         Traceback (most recent call last)",
      "\u001b[0;32m<ipython-input-33-3af9f19ccdff>\u001b[0m in \u001b[0;36m<module>\u001b[0;34m\u001b[0m\n\u001b[0;32m----> 1\u001b[0;31m \u001b[0modds_data\u001b[0m \u001b[0;34m=\u001b[0m \u001b[0mpd\u001b[0m\u001b[0;34m.\u001b[0m\u001b[0mread_csv\u001b[0m\u001b[0;34m(\u001b[0m\u001b[0;34m'../data/spreadspoke_scores.csv'\u001b[0m\u001b[0;34m)\u001b[0m\u001b[0;34m\u001b[0m\u001b[0;34m\u001b[0m\u001b[0m\n\u001b[0m",
      "\u001b[0;32m/usr/local/lib/python3.7/site-packages/pandas/io/parsers.py\u001b[0m in \u001b[0;36mparser_f\u001b[0;34m(filepath_or_buffer, sep, delimiter, header, names, index_col, usecols, squeeze, prefix, mangle_dupe_cols, dtype, engine, converters, true_values, false_values, skipinitialspace, skiprows, skipfooter, nrows, na_values, keep_default_na, na_filter, verbose, skip_blank_lines, parse_dates, infer_datetime_format, keep_date_col, date_parser, dayfirst, cache_dates, iterator, chunksize, compression, thousands, decimal, lineterminator, quotechar, quoting, doublequote, escapechar, comment, encoding, dialect, error_bad_lines, warn_bad_lines, delim_whitespace, low_memory, memory_map, float_precision)\u001b[0m\n\u001b[1;32m    683\u001b[0m         )\n\u001b[1;32m    684\u001b[0m \u001b[0;34m\u001b[0m\u001b[0m\n\u001b[0;32m--> 685\u001b[0;31m         \u001b[0;32mreturn\u001b[0m \u001b[0m_read\u001b[0m\u001b[0;34m(\u001b[0m\u001b[0mfilepath_or_buffer\u001b[0m\u001b[0;34m,\u001b[0m \u001b[0mkwds\u001b[0m\u001b[0;34m)\u001b[0m\u001b[0;34m\u001b[0m\u001b[0;34m\u001b[0m\u001b[0m\n\u001b[0m\u001b[1;32m    686\u001b[0m \u001b[0;34m\u001b[0m\u001b[0m\n\u001b[1;32m    687\u001b[0m     \u001b[0mparser_f\u001b[0m\u001b[0;34m.\u001b[0m\u001b[0m__name__\u001b[0m \u001b[0;34m=\u001b[0m \u001b[0mname\u001b[0m\u001b[0;34m\u001b[0m\u001b[0;34m\u001b[0m\u001b[0m\n",
      "\u001b[0;32m/usr/local/lib/python3.7/site-packages/pandas/io/parsers.py\u001b[0m in \u001b[0;36m_read\u001b[0;34m(filepath_or_buffer, kwds)\u001b[0m\n\u001b[1;32m    455\u001b[0m \u001b[0;34m\u001b[0m\u001b[0m\n\u001b[1;32m    456\u001b[0m     \u001b[0;31m# Create the parser.\u001b[0m\u001b[0;34m\u001b[0m\u001b[0;34m\u001b[0m\u001b[0;34m\u001b[0m\u001b[0m\n\u001b[0;32m--> 457\u001b[0;31m     \u001b[0mparser\u001b[0m \u001b[0;34m=\u001b[0m \u001b[0mTextFileReader\u001b[0m\u001b[0;34m(\u001b[0m\u001b[0mfp_or_buf\u001b[0m\u001b[0;34m,\u001b[0m \u001b[0;34m**\u001b[0m\u001b[0mkwds\u001b[0m\u001b[0;34m)\u001b[0m\u001b[0;34m\u001b[0m\u001b[0;34m\u001b[0m\u001b[0m\n\u001b[0m\u001b[1;32m    458\u001b[0m \u001b[0;34m\u001b[0m\u001b[0m\n\u001b[1;32m    459\u001b[0m     \u001b[0;32mif\u001b[0m \u001b[0mchunksize\u001b[0m \u001b[0;32mor\u001b[0m \u001b[0miterator\u001b[0m\u001b[0;34m:\u001b[0m\u001b[0;34m\u001b[0m\u001b[0;34m\u001b[0m\u001b[0m\n",
      "\u001b[0;32m/usr/local/lib/python3.7/site-packages/pandas/io/parsers.py\u001b[0m in \u001b[0;36m__init__\u001b[0;34m(self, f, engine, **kwds)\u001b[0m\n\u001b[1;32m    893\u001b[0m             \u001b[0mself\u001b[0m\u001b[0;34m.\u001b[0m\u001b[0moptions\u001b[0m\u001b[0;34m[\u001b[0m\u001b[0;34m\"has_index_names\"\u001b[0m\u001b[0;34m]\u001b[0m \u001b[0;34m=\u001b[0m \u001b[0mkwds\u001b[0m\u001b[0;34m[\u001b[0m\u001b[0;34m\"has_index_names\"\u001b[0m\u001b[0;34m]\u001b[0m\u001b[0;34m\u001b[0m\u001b[0;34m\u001b[0m\u001b[0m\n\u001b[1;32m    894\u001b[0m \u001b[0;34m\u001b[0m\u001b[0m\n\u001b[0;32m--> 895\u001b[0;31m         \u001b[0mself\u001b[0m\u001b[0;34m.\u001b[0m\u001b[0m_make_engine\u001b[0m\u001b[0;34m(\u001b[0m\u001b[0mself\u001b[0m\u001b[0;34m.\u001b[0m\u001b[0mengine\u001b[0m\u001b[0;34m)\u001b[0m\u001b[0;34m\u001b[0m\u001b[0;34m\u001b[0m\u001b[0m\n\u001b[0m\u001b[1;32m    896\u001b[0m \u001b[0;34m\u001b[0m\u001b[0m\n\u001b[1;32m    897\u001b[0m     \u001b[0;32mdef\u001b[0m \u001b[0mclose\u001b[0m\u001b[0;34m(\u001b[0m\u001b[0mself\u001b[0m\u001b[0;34m)\u001b[0m\u001b[0;34m:\u001b[0m\u001b[0;34m\u001b[0m\u001b[0;34m\u001b[0m\u001b[0m\n",
      "\u001b[0;32m/usr/local/lib/python3.7/site-packages/pandas/io/parsers.py\u001b[0m in \u001b[0;36m_make_engine\u001b[0;34m(self, engine)\u001b[0m\n\u001b[1;32m   1133\u001b[0m     \u001b[0;32mdef\u001b[0m \u001b[0m_make_engine\u001b[0m\u001b[0;34m(\u001b[0m\u001b[0mself\u001b[0m\u001b[0;34m,\u001b[0m \u001b[0mengine\u001b[0m\u001b[0;34m=\u001b[0m\u001b[0;34m\"c\"\u001b[0m\u001b[0;34m)\u001b[0m\u001b[0;34m:\u001b[0m\u001b[0;34m\u001b[0m\u001b[0;34m\u001b[0m\u001b[0m\n\u001b[1;32m   1134\u001b[0m         \u001b[0;32mif\u001b[0m \u001b[0mengine\u001b[0m \u001b[0;34m==\u001b[0m \u001b[0;34m\"c\"\u001b[0m\u001b[0;34m:\u001b[0m\u001b[0;34m\u001b[0m\u001b[0;34m\u001b[0m\u001b[0m\n\u001b[0;32m-> 1135\u001b[0;31m             \u001b[0mself\u001b[0m\u001b[0;34m.\u001b[0m\u001b[0m_engine\u001b[0m \u001b[0;34m=\u001b[0m \u001b[0mCParserWrapper\u001b[0m\u001b[0;34m(\u001b[0m\u001b[0mself\u001b[0m\u001b[0;34m.\u001b[0m\u001b[0mf\u001b[0m\u001b[0;34m,\u001b[0m \u001b[0;34m**\u001b[0m\u001b[0mself\u001b[0m\u001b[0;34m.\u001b[0m\u001b[0moptions\u001b[0m\u001b[0;34m)\u001b[0m\u001b[0;34m\u001b[0m\u001b[0;34m\u001b[0m\u001b[0m\n\u001b[0m\u001b[1;32m   1136\u001b[0m         \u001b[0;32melse\u001b[0m\u001b[0;34m:\u001b[0m\u001b[0;34m\u001b[0m\u001b[0;34m\u001b[0m\u001b[0m\n\u001b[1;32m   1137\u001b[0m             \u001b[0;32mif\u001b[0m \u001b[0mengine\u001b[0m \u001b[0;34m==\u001b[0m \u001b[0;34m\"python\"\u001b[0m\u001b[0;34m:\u001b[0m\u001b[0;34m\u001b[0m\u001b[0;34m\u001b[0m\u001b[0m\n",
      "\u001b[0;32m/usr/local/lib/python3.7/site-packages/pandas/io/parsers.py\u001b[0m in \u001b[0;36m__init__\u001b[0;34m(self, src, **kwds)\u001b[0m\n\u001b[1;32m   1915\u001b[0m         \u001b[0mkwds\u001b[0m\u001b[0;34m[\u001b[0m\u001b[0;34m\"usecols\"\u001b[0m\u001b[0;34m]\u001b[0m \u001b[0;34m=\u001b[0m \u001b[0mself\u001b[0m\u001b[0;34m.\u001b[0m\u001b[0musecols\u001b[0m\u001b[0;34m\u001b[0m\u001b[0;34m\u001b[0m\u001b[0m\n\u001b[1;32m   1916\u001b[0m \u001b[0;34m\u001b[0m\u001b[0m\n\u001b[0;32m-> 1917\u001b[0;31m         \u001b[0mself\u001b[0m\u001b[0;34m.\u001b[0m\u001b[0m_reader\u001b[0m \u001b[0;34m=\u001b[0m \u001b[0mparsers\u001b[0m\u001b[0;34m.\u001b[0m\u001b[0mTextReader\u001b[0m\u001b[0;34m(\u001b[0m\u001b[0msrc\u001b[0m\u001b[0;34m,\u001b[0m \u001b[0;34m**\u001b[0m\u001b[0mkwds\u001b[0m\u001b[0;34m)\u001b[0m\u001b[0;34m\u001b[0m\u001b[0;34m\u001b[0m\u001b[0m\n\u001b[0m\u001b[1;32m   1918\u001b[0m         \u001b[0mself\u001b[0m\u001b[0;34m.\u001b[0m\u001b[0munnamed_cols\u001b[0m \u001b[0;34m=\u001b[0m \u001b[0mself\u001b[0m\u001b[0;34m.\u001b[0m\u001b[0m_reader\u001b[0m\u001b[0;34m.\u001b[0m\u001b[0munnamed_cols\u001b[0m\u001b[0;34m\u001b[0m\u001b[0;34m\u001b[0m\u001b[0m\n\u001b[1;32m   1919\u001b[0m \u001b[0;34m\u001b[0m\u001b[0m\n",
      "\u001b[0;32mpandas/_libs/parsers.pyx\u001b[0m in \u001b[0;36mpandas._libs.parsers.TextReader.__cinit__\u001b[0;34m()\u001b[0m\n",
      "\u001b[0;32mpandas/_libs/parsers.pyx\u001b[0m in \u001b[0;36mpandas._libs.parsers.TextReader._setup_parser_source\u001b[0;34m()\u001b[0m\n",
      "\u001b[0;31mFileNotFoundError\u001b[0m: [Errno 2] File b'../data/spreadspoke_scores.csv' does not exist: b'../data/spreadspoke_scores.csv'"
     ]
    }
   ],
   "source": [
    "odds_data = pd.read_csv('../data/spreadspoke_scores.csv')"
   ]
  },
  {
   "cell_type": "code",
   "execution_count": null,
   "metadata": {},
   "outputs": [],
   "source": [
    "odds_data"
   ]
  },
  {
   "cell_type": "code",
   "execution_count": null,
   "metadata": {},
   "outputs": [],
   "source": [
    "odds_data = odds_data[np.logical_not(odds_data['team_favorite_id'].isna())]\n",
    "odds_data = odds_data[np.logical_not(odds_data['spread_favorite'].isna())]\n",
    "odds_data = odds_data[np.logical_not(odds_data['over_under_line'].isna())]"
   ]
  },
  {
   "cell_type": "code",
   "execution_count": null,
   "metadata": {},
   "outputs": [],
   "source": [
    "odds_data"
   ]
  },
  {
   "cell_type": "code",
   "execution_count": null,
   "metadata": {},
   "outputs": [],
   "source": [
    "odds_data = odds_data[odds_data['schedule_season'] >= 1979]"
   ]
  },
  {
   "cell_type": "code",
   "execution_count": null,
   "metadata": {},
   "outputs": [],
   "source": [
    "odds_data"
   ]
  },
  {
   "cell_type": "code",
   "execution_count": null,
   "metadata": {},
   "outputs": [],
   "source": [
    "s1 = set(odds_data['team_home'].unique())\n",
    "s2 = set(odds_data['team_away'].unique())"
   ]
  },
  {
   "cell_type": "code",
   "execution_count": null,
   "metadata": {},
   "outputs": [],
   "source": [
    "teams = s1.union(s2)"
   ]
  },
  {
   "cell_type": "code",
   "execution_count": null,
   "metadata": {},
   "outputs": [],
   "source": [
    "teams"
   ]
  },
  {
   "cell_type": "code",
   "execution_count": null,
   "metadata": {},
   "outputs": [],
   "source": [
    "team_abbreviations = {\n",
    "    'Arizona Cardinals':'ARI',\n",
    "    'Atlanta Falcons':'ATL',\n",
    " 'Baltimore Colts':'BAL',\n",
    " 'Baltimore Ravens':'BAL',\n",
    " 'Buffalo Bills':'BUF',\n",
    " 'Carolina Panthers':'CAR',\n",
    " 'Chicago Bears':'CHI',\n",
    " 'Cincinnati Bengals':'CIN',\n",
    " 'Cleveland Browns':'CLE',\n",
    " 'Dallas Cowboys':'DAL',\n",
    " 'Denver Broncos':'DEN',\n",
    " 'Detroit Lions':'DET',\n",
    " 'Green Bay Packers':'GB',\n",
    " 'Houston Oilers':'HOU',\n",
    " 'Houston Texans':'HOU',\n",
    " 'Indianapolis Colts':'IND',\n",
    " 'Jacksonville Jaguars':'JAX',\n",
    " 'Kansas City Chiefs':'KC',\n",
    " 'Los Angeles Chargers':'LA',\n",
    " 'Los Angeles Raiders':'OAK',\n",
    " 'Los Angeles Rams':'LAR',\n",
    " 'Miami Dolphins':'MIA',\n",
    " 'Minnesota Vikings':'MIN',\n",
    " 'New England Patriots':'NE',\n",
    " 'New Orleans Saints':'NO',\n",
    " 'New York Giants':'NYG',\n",
    " 'New York Jets':'NYJ',\n",
    " 'Oakland Raiders':'OAK',\n",
    " 'Philadelphia Eagles':'PHI',\n",
    " 'Phoenix Cardinals':'PHE',\n",
    " 'Pittsburgh Steelers':'PIT',\n",
    " 'San Diego Chargers':'SD',\n",
    " 'San Francisco 49ers':'SF',\n",
    " 'Seattle Seahawks':'SEA',\n",
    " 'St. Louis Cardinals':'SL',\n",
    " 'St. Louis Rams':'SL',\n",
    " 'Tampa Bay Buccaneers':'TB',\n",
    " 'Tennessee Oilers':'TEN',\n",
    " 'Tennessee Titans':'TEN',\n",
    " 'Washington Redskins':'WAS'\n",
    "}"
   ]
  },
  {
   "cell_type": "code",
   "execution_count": null,
   "metadata": {},
   "outputs": [],
   "source": [
    "team_abb_rev = {v: k for (k, v) in team_abbreviations.items()}"
   ]
  },
  {
   "cell_type": "code",
   "execution_count": null,
   "metadata": {},
   "outputs": [],
   "source": [
    "odds_data['team1'] = odds_data['team_home'].apply(lambda x: team_abbreviations.get(x, 'None'))\n",
    "odds_data['team2'] = odds_data['team_away'].apply(lambda x: team_abbreviations.get(x, 'None'))"
   ]
  },
  {
   "cell_type": "code",
   "execution_count": null,
   "metadata": {},
   "outputs": [],
   "source": [
    "odds_data['team1']"
   ]
  },
  {
   "cell_type": "code",
   "execution_count": null,
   "metadata": {},
   "outputs": [],
   "source": [
    "odds_data['date'] = pd.to_datetime(odds_data['schedule_date'])"
   ]
  },
  {
   "cell_type": "code",
   "execution_count": null,
   "metadata": {},
   "outputs": [],
   "source": [
    "odds_data = odds_data[['team1', 'team2', 'team_favorite_id', 'spread_favorite', 'date']]"
   ]
  },
  {
   "cell_type": "code",
   "execution_count": null,
   "metadata": {},
   "outputs": [],
   "source": [
    "df = pd.merge(left=data, right=odds_data, on=['date', 'team1', 'team2'])"
   ]
  },
  {
   "cell_type": "code",
   "execution_count": null,
   "metadata": {},
   "outputs": [],
   "source": [
    "df"
   ]
  },
  {
   "cell_type": "code",
   "execution_count": null,
   "metadata": {},
   "outputs": [],
   "source": [
    "def adjust_spread(row):\n",
    "    if row['team_favorite_id'] == row['team1']:\n",
    "        return row['spread_favorite']\n",
    "    elif row['team_favorite_id'] == row['team2']:\n",
    "        return -1 * row['spread_favorite']\n",
    "    elif row['team_favorite_id'] == 'PICK':\n",
    "        return 0.0\n",
    "    else:\n",
    "        return np.nan"
   ]
  },
  {
   "cell_type": "code",
   "execution_count": null,
   "metadata": {},
   "outputs": [],
   "source": [
    "df['adj_spread'] = df.apply(adjust_spread, axis=1)"
   ]
  },
  {
   "cell_type": "code",
   "execution_count": null,
   "metadata": {},
   "outputs": [],
   "source": [
    "df[['date', 'team1', 'team2', 'adj_spread', 'team_favorite_id', 'spread_favorite']].head(24)"
   ]
  },
  {
   "cell_type": "code",
   "execution_count": null,
   "metadata": {},
   "outputs": [],
   "source": [
    "features.extend(['adj_spread'])"
   ]
  },
  {
   "cell_type": "code",
   "execution_count": null,
   "metadata": {},
   "outputs": [],
   "source": [
    "features"
   ]
  },
  {
   "cell_type": "code",
   "execution_count": null,
   "metadata": {},
   "outputs": [],
   "source": [
    "x_train, x_test, y_train, y_test = train_test_split(df[features], df[target])"
   ]
  },
  {
   "cell_type": "code",
   "execution_count": null,
   "metadata": {},
   "outputs": [],
   "source": [
    "model = LogisticRegression()\n",
    "model.fit(x_train, y_train)\n",
    "y_pred = model.predict_proba(x_test)[:,1]"
   ]
  },
  {
   "cell_type": "code",
   "execution_count": null,
   "metadata": {},
   "outputs": [],
   "source": [
    "model.coef_"
   ]
  },
  {
   "cell_type": "code",
   "execution_count": null,
   "metadata": {},
   "outputs": [],
   "source": [
    "accuracy_score(y_test, y_pred.round())"
   ]
  },
  {
   "cell_type": "code",
   "execution_count": null,
   "metadata": {},
   "outputs": [],
   "source": [
    "roc_auc_score(y_test, y_pred)"
   ]
  },
  {
   "cell_type": "code",
   "execution_count": null,
   "metadata": {},
   "outputs": [],
   "source": [
    "weekly_odds = pd.read_csv('../data/2019-11-02-latest_odds.csv')"
   ]
  },
  {
   "cell_type": "code",
   "execution_count": null,
   "metadata": {},
   "outputs": [],
   "source": [
    "weekly_odds"
   ]
  },
  {
   "cell_type": "code",
   "execution_count": null,
   "metadata": {},
   "outputs": [],
   "source": [
    "weekly_odds['id_code'].unique()"
   ]
  },
  {
   "cell_type": "code",
   "execution_count": null,
   "metadata": {},
   "outputs": [],
   "source": [
    "def nan_mean(x):\n",
    "    return x[np.logical_not(x.isna())].mean()"
   ]
  },
  {
   "cell_type": "code",
   "execution_count": null,
   "metadata": {},
   "outputs": [],
   "source": [
    "weekly_odds.groupby(['home_team', 'away_team', 'date']).agg({\n",
    "    'spread':nan_mean}\n",
    ")"
   ]
  },
  {
   "cell_type": "code",
   "execution_count": null,
   "metadata": {},
   "outputs": [],
   "source": [
    "weekly_odds['home_team'].unique()"
   ]
  },
  {
   "cell_type": "code",
   "execution_count": null,
   "metadata": {},
   "outputs": [],
   "source": [
    "weekly_odds['away_team'].unique()"
   ]
  },
  {
   "cell_type": "code",
   "execution_count": null,
   "metadata": {},
   "outputs": [],
   "source": [
    "team_abb2 = {\n",
    "    'lions':'DET',\n",
    "    'bears':'CHI',\n",
    "    'jaguars':'JAX',\n",
    "    'rams':'LA',\n",
    "    'texans':'HOU',\n",
    "    'colts':'IND',\n",
    "    'chiefs':'KC',\n",
    "    'cardinals':'ARI',\n",
    "    'bills':'BUF',\n",
    "    'eagles':'PHI',\n",
    "    'dolphins':'MIA',\n",
    "    'raiders':'OAK',\n",
    "    'broncos':'DEN',\n",
    "    'ravens':'BAL',\n",
    "    'giants':'NYG',\n",
    "    'chargers':'SD',\n",
    "    'jets':'NYG',\n",
    "    'bengals':'CIN',\n",
    "    'packers':'GB',\n",
    "    '49ers':'SF',\n",
    "    'redskins':'WAS',\n",
    "    'browns':'CLE',\n",
    "    'patriots':'NE',\n",
    "    'panthers':'CAR',\n",
    "    'titans':'TEN',\n",
    "    'vikings':'MIN',\n",
    "    'steelers':'PIT',\n",
    "    'seahawks':'SEA',\n",
    "    'buccaneers':'TB',\n",
    "    'cowboys':'DAL',\n",
    "    'saints':'NO',\n",
    "    'falcons':'ATL'\n",
    "}"
   ]
  },
  {
   "cell_type": "code",
   "execution_count": null,
   "metadata": {},
   "outputs": [],
   "source": [
    "weekly_odds['team1'] = weekly_odds['home_team'].apply(lambda x: team_abb2.get(x, 'None'))\n",
    "weekly_odds['team2'] = weekly_odds['away_team'].apply(lambda x: team_abb2.get(x, 'None'))"
   ]
  },
  {
   "cell_type": "code",
   "execution_count": null,
   "metadata": {},
   "outputs": [],
   "source": [
    "weekly_odds_clean = weekly_odds.groupby(['date', 'team1', 'team2']).agg(\n",
    "    {'spread':nan_mean}\n",
    ").reset_index()"
   ]
  },
  {
   "cell_type": "code",
   "execution_count": null,
   "metadata": {},
   "outputs": [],
   "source": [
    "weekly_odds_clean['date'] = pd.to_datetime(weekly_odds_clean['date'])"
   ]
  },
  {
   "cell_type": "code",
   "execution_count": null,
   "metadata": {},
   "outputs": [],
   "source": [
    "weekly_odds_clean"
   ]
  },
  {
   "cell_type": "code",
   "execution_count": null,
   "metadata": {},
   "outputs": [],
   "source": [
    "weekly_preds"
   ]
  },
  {
   "cell_type": "code",
   "execution_count": null,
   "metadata": {},
   "outputs": [],
   "source": [
    "merged_pred_data = pd.merge(left=weekly_preds, right=weekly_odds_clean, on=['date', 'team1', 'team2'], how='left')"
   ]
  },
  {
   "cell_type": "code",
   "execution_count": null,
   "metadata": {},
   "outputs": [],
   "source": [
    "merged_pred_data"
   ]
  },
  {
   "cell_type": "code",
   "execution_count": 34,
   "metadata": {},
   "outputs": [],
   "source": [
    "def reward(prob1, result1, is_playoff=False):\n",
    "    rounded_elo_prob = round(prob1, 2)\n",
    "    elo_brier = (rounded_elo_prob - result1) * (rounded_elo_prob - result1)\n",
    "    elo_points = 25 - (100 * elo_brier)\n",
    "    elo_points = round(elo_points + 0.001 if elo_points < 0 else elo_points, 1) # Round half up\n",
    "    if is_playoff:\n",
    "        elo_points *= 2\n",
    "\n",
    "    return elo_points"
   ]
  },
  {
   "cell_type": "code",
   "execution_count": 37,
   "metadata": {},
   "outputs": [
    {
     "data": {
      "text/plain": [
       "-17.2"
      ]
     },
     "execution_count": 37,
     "metadata": {},
     "output_type": "execute_result"
    }
   ],
   "source": [
    "reward(0.65, 0, False)"
   ]
  },
  {
   "cell_type": "code",
   "execution_count": 36,
   "metadata": {},
   "outputs": [
    {
     "data": {
      "text/plain": [
       "25.6"
      ]
     },
     "execution_count": 36,
     "metadata": {},
     "output_type": "execute_result"
    }
   ],
   "source": [
    "reward(0.65, 1, True)"
   ]
  },
  {
   "cell_type": "code",
   "execution_count": 38,
   "metadata": {},
   "outputs": [],
   "source": [
    "import torch"
   ]
  },
  {
   "cell_type": "code",
   "execution_count": 39,
   "metadata": {},
   "outputs": [],
   "source": [
    "def torch_reward(output, target):\n",
    "    \"\"\" Torch implementation of the reward function without \n",
    "    the multiplier for playoffs.  \"\"\"\n",
    "    loss = 100 * (output - target)**2 - 25\n",
    "    return torch.sum(loss)"
   ]
  },
  {
   "cell_type": "code",
   "execution_count": null,
   "metadata": {},
   "outputs": [],
   "source": []
  }
 ],
 "metadata": {
  "kernelspec": {
   "display_name": "Python 3",
   "language": "python",
   "name": "python3"
  },
  "language_info": {
   "codemirror_mode": {
    "name": "ipython",
    "version": 3
   },
   "file_extension": ".py",
   "mimetype": "text/x-python",
   "name": "python",
   "nbconvert_exporter": "python",
   "pygments_lexer": "ipython3",
   "version": "3.7.4"
  }
 },
 "nbformat": 4,
 "nbformat_minor": 2
}
