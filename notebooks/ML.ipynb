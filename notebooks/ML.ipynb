{
 "cells": [
  {
   "cell_type": "markdown",
   "metadata": {},
   "source": [
    "# ML Plus Elo"
   ]
  },
  {
   "cell_type": "code",
   "execution_count": 1,
   "metadata": {},
   "outputs": [],
   "source": [
    "import matplotlib.pyplot as plt \n",
    "import numpy as np \n",
    "import os \n",
    "import pandas as pd \n",
    "\n",
    "%matplotlib inline "
   ]
  },
  {
   "cell_type": "code",
   "execution_count": 8,
   "metadata": {},
   "outputs": [
    {
     "data": {
      "text/plain": [
       "['latest_data.csv', 'historical_data.csv']"
      ]
     },
     "execution_count": 8,
     "metadata": {},
     "output_type": "execute_result"
    }
   ],
   "source": [
    "data_dir = '../data/'\n",
    "os.listdir(data_dir)"
   ]
  },
  {
   "cell_type": "code",
   "execution_count": 9,
   "metadata": {},
   "outputs": [],
   "source": [
    "data = pd.read_csv(data_dir + 'historical_data.csv')"
   ]
  },
  {
   "cell_type": "code",
   "execution_count": 12,
   "metadata": {},
   "outputs": [
    {
     "data": {
      "text/plain": [
       "date                  0\n",
       "season                0\n",
       "neutral               0\n",
       "playoff           15964\n",
       "team1                11\n",
       "team2                11\n",
       "elo1_pre             11\n",
       "elo2_pre             11\n",
       "elo_prob1            11\n",
       "elo_prob2            11\n",
       "elo1_post           161\n",
       "elo2_post           161\n",
       "qbelo1_pre         2323\n",
       "qbelo2_pre         2323\n",
       "qb1                2177\n",
       "qb2                2176\n",
       "qb1_value_pre      2173\n",
       "qb2_value_pre      2173\n",
       "qb1_adj            2162\n",
       "qb2_adj            2162\n",
       "qbelo_prob1        2173\n",
       "qbelo_prob2        2173\n",
       "qb1_game_value     2323\n",
       "qb2_game_value     2323\n",
       "qb1_value_post     2323\n",
       "qb2_value_post     2323\n",
       "qbelo1_post        2323\n",
       "qbelo2_post        2323\n",
       "score1              161\n",
       "score2              161\n",
       "dtype: int64"
      ]
     },
     "execution_count": 12,
     "metadata": {},
     "output_type": "execute_result"
    }
   ],
   "source": [
    "data.isna().sum()"
   ]
  },
  {
   "cell_type": "code",
   "execution_count": 17,
   "metadata": {},
   "outputs": [],
   "source": [
    "data = data[np.logical_not(data['score1'].isna())]\n",
    "data = data[np.logical_not(data['score2'].isna())]"
   ]
  },
  {
   "cell_type": "code",
   "execution_count": 18,
   "metadata": {},
   "outputs": [
    {
     "data": {
      "text/plain": [
       "date                  0\n",
       "season                0\n",
       "neutral               0\n",
       "playoff           15814\n",
       "team1                 0\n",
       "team2                 0\n",
       "elo1_pre              0\n",
       "elo2_pre              0\n",
       "elo_prob1             0\n",
       "elo_prob2             0\n",
       "elo1_post             0\n",
       "elo2_post             0\n",
       "qbelo1_pre         2162\n",
       "qbelo2_pre         2162\n",
       "qb1                2162\n",
       "qb2                2162\n",
       "qb1_value_pre      2162\n",
       "qb2_value_pre      2162\n",
       "qb1_adj            2162\n",
       "qb2_adj            2162\n",
       "qbelo_prob1        2162\n",
       "qbelo_prob2        2162\n",
       "qb1_game_value     2162\n",
       "qb2_game_value     2162\n",
       "qb1_value_post     2162\n",
       "qb2_value_post     2162\n",
       "qbelo1_post        2162\n",
       "qbelo2_post        2162\n",
       "score1                0\n",
       "score2                0\n",
       "dtype: int64"
      ]
     },
     "execution_count": 18,
     "metadata": {},
     "output_type": "execute_result"
    }
   ],
   "source": [
    "data.isna().sum()"
   ]
  },
  {
   "cell_type": "code",
   "execution_count": 19,
   "metadata": {},
   "outputs": [],
   "source": [
    "data = data[data['season'] > 1959]"
   ]
  },
  {
   "cell_type": "code",
   "execution_count": 23,
   "metadata": {},
   "outputs": [],
   "source": [
    "data = data[data['score1'] != data['score2']]"
   ]
  },
  {
   "cell_type": "code",
   "execution_count": 24,
   "metadata": {},
   "outputs": [
    {
     "data": {
      "text/html": [
       "<div>\n",
       "<style scoped>\n",
       "    .dataframe tbody tr th:only-of-type {\n",
       "        vertical-align: middle;\n",
       "    }\n",
       "\n",
       "    .dataframe tbody tr th {\n",
       "        vertical-align: top;\n",
       "    }\n",
       "\n",
       "    .dataframe thead th {\n",
       "        text-align: right;\n",
       "    }\n",
       "</style>\n",
       "<table border=\"1\" class=\"dataframe\">\n",
       "  <thead>\n",
       "    <tr style=\"text-align: right;\">\n",
       "      <th></th>\n",
       "      <th>date</th>\n",
       "      <th>season</th>\n",
       "      <th>neutral</th>\n",
       "      <th>playoff</th>\n",
       "      <th>team1</th>\n",
       "      <th>team2</th>\n",
       "      <th>elo1_pre</th>\n",
       "      <th>elo2_pre</th>\n",
       "      <th>elo_prob1</th>\n",
       "      <th>elo_prob2</th>\n",
       "      <th>...</th>\n",
       "      <th>qb2_game_value</th>\n",
       "      <th>qb1_value_post</th>\n",
       "      <th>qb2_value_post</th>\n",
       "      <th>qbelo1_post</th>\n",
       "      <th>qbelo2_post</th>\n",
       "      <th>score1</th>\n",
       "      <th>score2</th>\n",
       "      <th>elo_sum</th>\n",
       "      <th>elo_diff</th>\n",
       "      <th>elo_asym</th>\n",
       "    </tr>\n",
       "  </thead>\n",
       "  <tbody>\n",
       "    <tr>\n",
       "      <td>2903</td>\n",
       "      <td>1960-09-09</td>\n",
       "      <td>1960</td>\n",
       "      <td>0</td>\n",
       "      <td>NaN</td>\n",
       "      <td>NE</td>\n",
       "      <td>DEN</td>\n",
       "      <td>1300.000</td>\n",
       "      <td>1300.000</td>\n",
       "      <td>0.592466</td>\n",
       "      <td>0.407534</td>\n",
       "      <td>...</td>\n",
       "      <td>122.760000</td>\n",
       "      <td>1.254000</td>\n",
       "      <td>32.931770</td>\n",
       "      <td>1283.942071</td>\n",
       "      <td>1316.057929</td>\n",
       "      <td>10.0</td>\n",
       "      <td>13.0</td>\n",
       "      <td>2600.000</td>\n",
       "      <td>0.000</td>\n",
       "      <td>0.000000</td>\n",
       "    </tr>\n",
       "    <tr>\n",
       "      <td>2904</td>\n",
       "      <td>1960-09-10</td>\n",
       "      <td>1960</td>\n",
       "      <td>0</td>\n",
       "      <td>NaN</td>\n",
       "      <td>LAC</td>\n",
       "      <td>KC</td>\n",
       "      <td>1300.000</td>\n",
       "      <td>1300.000</td>\n",
       "      <td>0.592466</td>\n",
       "      <td>0.407534</td>\n",
       "      <td>...</td>\n",
       "      <td>153.120000</td>\n",
       "      <td>31.614000</td>\n",
       "      <td>11.872908</td>\n",
       "      <td>1305.532159</td>\n",
       "      <td>1294.467841</td>\n",
       "      <td>21.0</td>\n",
       "      <td>20.0</td>\n",
       "      <td>2600.000</td>\n",
       "      <td>0.000</td>\n",
       "      <td>0.000000</td>\n",
       "    </tr>\n",
       "    <tr>\n",
       "      <td>2905</td>\n",
       "      <td>1960-09-11</td>\n",
       "      <td>1960</td>\n",
       "      <td>0</td>\n",
       "      <td>NaN</td>\n",
       "      <td>OAK</td>\n",
       "      <td>TEN</td>\n",
       "      <td>1300.000</td>\n",
       "      <td>1300.000</td>\n",
       "      <td>0.592466</td>\n",
       "      <td>0.407534</td>\n",
       "      <td>...</td>\n",
       "      <td>238.920000</td>\n",
       "      <td>14.718000</td>\n",
       "      <td>86.530014</td>\n",
       "      <td>1270.748277</td>\n",
       "      <td>1329.251723</td>\n",
       "      <td>22.0</td>\n",
       "      <td>37.0</td>\n",
       "      <td>2600.000</td>\n",
       "      <td>0.000</td>\n",
       "      <td>0.000000</td>\n",
       "    </tr>\n",
       "    <tr>\n",
       "      <td>2906</td>\n",
       "      <td>1960-09-11</td>\n",
       "      <td>1960</td>\n",
       "      <td>0</td>\n",
       "      <td>NaN</td>\n",
       "      <td>NYJ</td>\n",
       "      <td>BUF</td>\n",
       "      <td>1300.000</td>\n",
       "      <td>1300.000</td>\n",
       "      <td>0.592466</td>\n",
       "      <td>0.407534</td>\n",
       "      <td>...</td>\n",
       "      <td>-67.650000</td>\n",
       "      <td>11.682000</td>\n",
       "      <td>36.502993</td>\n",
       "      <td>1329.638852</td>\n",
       "      <td>1270.361148</td>\n",
       "      <td>27.0</td>\n",
       "      <td>3.0</td>\n",
       "      <td>2600.000</td>\n",
       "      <td>0.000</td>\n",
       "      <td>0.000000</td>\n",
       "    </tr>\n",
       "    <tr>\n",
       "      <td>2907</td>\n",
       "      <td>1960-09-16</td>\n",
       "      <td>1960</td>\n",
       "      <td>0</td>\n",
       "      <td>NaN</td>\n",
       "      <td>OAK</td>\n",
       "      <td>KC</td>\n",
       "      <td>1266.146</td>\n",
       "      <td>1294.513</td>\n",
       "      <td>0.552525</td>\n",
       "      <td>0.447475</td>\n",
       "      <td>...</td>\n",
       "      <td>185.463743</td>\n",
       "      <td>3.620474</td>\n",
       "      <td>29.231991</td>\n",
       "      <td>1237.400627</td>\n",
       "      <td>1327.815491</td>\n",
       "      <td>16.0</td>\n",
       "      <td>34.0</td>\n",
       "      <td>2560.659</td>\n",
       "      <td>-28.367</td>\n",
       "      <td>-0.011078</td>\n",
       "    </tr>\n",
       "  </tbody>\n",
       "</table>\n",
       "<p>5 rows × 33 columns</p>\n",
       "</div>"
      ],
      "text/plain": [
       "            date  season  neutral playoff team1 team2  elo1_pre  elo2_pre  \\\n",
       "2903  1960-09-09    1960        0     NaN    NE   DEN  1300.000  1300.000   \n",
       "2904  1960-09-10    1960        0     NaN   LAC    KC  1300.000  1300.000   \n",
       "2905  1960-09-11    1960        0     NaN   OAK   TEN  1300.000  1300.000   \n",
       "2906  1960-09-11    1960        0     NaN   NYJ   BUF  1300.000  1300.000   \n",
       "2907  1960-09-16    1960        0     NaN   OAK    KC  1266.146  1294.513   \n",
       "\n",
       "      elo_prob1  elo_prob2  ...  qb2_game_value  qb1_value_post  \\\n",
       "2903   0.592466   0.407534  ...      122.760000        1.254000   \n",
       "2904   0.592466   0.407534  ...      153.120000       31.614000   \n",
       "2905   0.592466   0.407534  ...      238.920000       14.718000   \n",
       "2906   0.592466   0.407534  ...      -67.650000       11.682000   \n",
       "2907   0.552525   0.447475  ...      185.463743        3.620474   \n",
       "\n",
       "      qb2_value_post  qbelo1_post  qbelo2_post score1  score2   elo_sum  \\\n",
       "2903       32.931770  1283.942071  1316.057929   10.0    13.0  2600.000   \n",
       "2904       11.872908  1305.532159  1294.467841   21.0    20.0  2600.000   \n",
       "2905       86.530014  1270.748277  1329.251723   22.0    37.0  2600.000   \n",
       "2906       36.502993  1329.638852  1270.361148   27.0     3.0  2600.000   \n",
       "2907       29.231991  1237.400627  1327.815491   16.0    34.0  2560.659   \n",
       "\n",
       "      elo_diff  elo_asym  \n",
       "2903     0.000  0.000000  \n",
       "2904     0.000  0.000000  \n",
       "2905     0.000  0.000000  \n",
       "2906     0.000  0.000000  \n",
       "2907   -28.367 -0.011078  \n",
       "\n",
       "[5 rows x 33 columns]"
      ]
     },
     "execution_count": 24,
     "metadata": {},
     "output_type": "execute_result"
    }
   ],
   "source": [
    "data.head()"
   ]
  },
  {
   "cell_type": "code",
   "execution_count": 25,
   "metadata": {},
   "outputs": [],
   "source": [
    "def add_elo_features(data):\n",
    "    \"\"\" Based on the elo rating for the two teams, \n",
    "        create new features.  Here, elo1 is assumed\n",
    "        to be the home team.\n",
    "        \n",
    "        The data is modified inplace.\n",
    "    \"\"\"\n",
    "    data['elo_sum'] = data['elo1_pre'] + data['elo2_pre']\n",
    "    data['elo_diff'] = data['elo1_pre'] - data['elo2_pre']\n",
    "    data['elo_asym'] = data['elo_diff'] / data['elo_sum']"
   ]
  },
  {
   "cell_type": "code",
   "execution_count": 26,
   "metadata": {},
   "outputs": [
    {
     "name": "stderr",
     "output_type": "stream",
     "text": [
      "/usr/local/lib/python3.7/site-packages/ipykernel_launcher.py:8: SettingWithCopyWarning: \n",
      "A value is trying to be set on a copy of a slice from a DataFrame.\n",
      "Try using .loc[row_indexer,col_indexer] = value instead\n",
      "\n",
      "See the caveats in the documentation: http://pandas.pydata.org/pandas-docs/stable/user_guide/indexing.html#returning-a-view-versus-a-copy\n",
      "  \n",
      "/usr/local/lib/python3.7/site-packages/ipykernel_launcher.py:9: SettingWithCopyWarning: \n",
      "A value is trying to be set on a copy of a slice from a DataFrame.\n",
      "Try using .loc[row_indexer,col_indexer] = value instead\n",
      "\n",
      "See the caveats in the documentation: http://pandas.pydata.org/pandas-docs/stable/user_guide/indexing.html#returning-a-view-versus-a-copy\n",
      "  if __name__ == '__main__':\n",
      "/usr/local/lib/python3.7/site-packages/ipykernel_launcher.py:10: SettingWithCopyWarning: \n",
      "A value is trying to be set on a copy of a slice from a DataFrame.\n",
      "Try using .loc[row_indexer,col_indexer] = value instead\n",
      "\n",
      "See the caveats in the documentation: http://pandas.pydata.org/pandas-docs/stable/user_guide/indexing.html#returning-a-view-versus-a-copy\n",
      "  # Remove the CWD from sys.path while we load stuff.\n"
     ]
    }
   ],
   "source": [
    "add_elo_features(data)"
   ]
  },
  {
   "cell_type": "code",
   "execution_count": 32,
   "metadata": {},
   "outputs": [],
   "source": [
    "def add_targets(data):\n",
    "    \"\"\" Add targets based on the game outcome. \"\"\"\n",
    "    \n",
    "    # Did the home team win? Note, ties are removed.\n",
    "    data['outcome'] = data['score1'] > data['score2']\n",
    "    data['outcome'] = data['outcome'].astype(np.int)\n",
    "    \n",
    "    data['point_sum'] = data['score1'] + data['score2']\n",
    "    data['point_diff'] = data['score1'] - data['score2']\n",
    "    data['point_asym'] = data['point_diff'] / data['point_sum']"
   ]
  },
  {
   "cell_type": "code",
   "execution_count": 33,
   "metadata": {},
   "outputs": [],
   "source": [
    "add_targets(data)"
   ]
  },
  {
   "cell_type": "code",
   "execution_count": 39,
   "metadata": {},
   "outputs": [
    {
     "data": {
      "image/png": "[encoded data removed]",
      "text/plain": [
       "<Figure size 432x288 with 1 Axes>"
      ]
     },
     "metadata": {
      "needs_background": "light"
     },
     "output_type": "display_data"
    }
   ],
   "source": [
    "plt.hist(data['outcome']);"
   ]
  },
  {
   "cell_type": "code",
   "execution_count": 61,
   "metadata": {},
   "outputs": [
    {
     "name": "stderr",
     "output_type": "stream",
     "text": [
      "/usr/local/lib/python3.7/site-packages/ipykernel_launcher.py:5: MatplotlibDeprecationWarning: Adding an axes using the same arguments as a previous axes currently reuses the earlier instance.  In a future version, a new instance will always be created and returned.  Meanwhile, this warning can be suppressed, and the future behavior ensured, by passing a unique label to each axes instance.\n",
      "  \"\"\"\n",
      "/usr/local/lib/python3.7/site-packages/ipykernel_launcher.py:11: MatplotlibDeprecationWarning: Adding an axes using the same arguments as a previous axes currently reuses the earlier instance.  In a future version, a new instance will always be created and returned.  Meanwhile, this warning can be suppressed, and the future behavior ensured, by passing a unique label to each axes instance.\n",
      "  # This is added back by InteractiveShellApp.init_path()\n",
      "/usr/local/lib/python3.7/site-packages/ipykernel_launcher.py:17: MatplotlibDeprecationWarning: Adding an axes using the same arguments as a previous axes currently reuses the earlier instance.  In a future version, a new instance will always be created and returned.  Meanwhile, this warning can be suppressed, and the future behavior ensured, by passing a unique label to each axes instance.\n"
     ]
    },
    {
     "data": {
      "image/png": "[encoded data removed]",
      "text/plain": [
       "<Figure size 864x720 with 3 Axes>"
      ]
     },
     "metadata": {
      "needs_background": "light"
     },
     "output_type": "display_data"
    }
   ],
   "source": [
    "plt.figure(figsize=(12,10))\n",
    "\n",
    "for outcome, subdata in data.groupby('outcome'):\n",
    "    \n",
    "    plt.subplot(2, 2, 1)\n",
    "    plt.hist(subdata['elo_sum'], \n",
    "             bins=np.linspace(2200, 3800, 100),\n",
    "             histtype='step');\n",
    "    plt.grid(alpha=0.2)\n",
    "    \n",
    "    plt.subplot(2, 2, 2)\n",
    "    plt.hist(subdata['elo_diff'], \n",
    "             bins=np.linspace(-500, 500, 100),\n",
    "             histtype='step');\n",
    "    plt.grid(alpha=0.2)\n",
    "    \n",
    "    plt.subplot(2, 2, 3)\n",
    "    plt.hist(subdata['elo_asym'], \n",
    "             bins=np.linspace(-0.3, 0.3, 100),\n",
    "             histtype='step');\n",
    "    plt.grid(alpha=0.2)\n",
    "    \n",
    "plt.tight_layout()"
   ]
  },
  {
   "cell_type": "code",
   "execution_count": 88,
   "metadata": {},
   "outputs": [],
   "source": [
    "from sklearn.preprocessing import StandardScaler\n",
    "from sklearn.metrics import accuracy_score, roc_auc_score\n",
    "from sklearn.linear_model import LogisticRegression\n",
    "from sklearn.model_selection import train_test_split"
   ]
  },
  {
   "cell_type": "code",
   "execution_count": 89,
   "metadata": {},
   "outputs": [],
   "source": [
    "features = ['elo_sum', 'elo_diff', 'elo_asym', 'elo_prob1']\n",
    "target = ['outcome']\n",
    "\n",
    "x_train, x_test, y_train, y_test = train_test_split(data[features], data[target])"
   ]
  },
  {
   "cell_type": "code",
   "execution_count": 90,
   "metadata": {},
   "outputs": [
    {
     "data": {
      "text/plain": [
       "((10013, 4), (3338, 4))"
      ]
     },
     "execution_count": 90,
     "metadata": {},
     "output_type": "execute_result"
    }
   ],
   "source": [
    "x_train.shape, x_test.shape"
   ]
  },
  {
   "cell_type": "code",
   "execution_count": 130,
   "metadata": {},
   "outputs": [],
   "source": [
    "model = LogisticRegression()"
   ]
  },
  {
   "cell_type": "code",
   "execution_count": 131,
   "metadata": {},
   "outputs": [
    {
     "name": "stderr",
     "output_type": "stream",
     "text": [
      "/usr/local/lib/python3.7/site-packages/sklearn/linear_model/logistic.py:432: FutureWarning: Default solver will be changed to 'lbfgs' in 0.22. Specify a solver to silence this warning.\n",
      "  FutureWarning)\n",
      "/usr/local/lib/python3.7/site-packages/sklearn/utils/validation.py:724: DataConversionWarning: A column-vector y was passed when a 1d array was expected. Please change the shape of y to (n_samples, ), for example using ravel().\n",
      "  y = column_or_1d(y, warn=True)\n"
     ]
    },
    {
     "data": {
      "text/plain": [
       "LogisticRegression(C=1.0, class_weight=None, dual=False, fit_intercept=True,\n",
       "                   intercept_scaling=1, l1_ratio=None, max_iter=100,\n",
       "                   multi_class='warn', n_jobs=None, penalty='l2',\n",
       "                   random_state=None, solver='warn', tol=0.0001, verbose=0,\n",
       "                   warm_start=False)"
      ]
     },
     "execution_count": 131,
     "metadata": {},
     "output_type": "execute_result"
    }
   ],
   "source": [
    "model.fit(x_train, y_train)"
   ]
  },
  {
   "cell_type": "code",
   "execution_count": 133,
   "metadata": {},
   "outputs": [
    {
     "data": {
      "text/plain": [
       "array([[1.13230761e-04, 5.47793834e-03, 1.83649622e-06, 6.67062241e-06]])"
      ]
     },
     "execution_count": 133,
     "metadata": {},
     "output_type": "execute_result"
    }
   ],
   "source": [
    "model.coef_"
   ]
  },
  {
   "cell_type": "code",
   "execution_count": 96,
   "metadata": {},
   "outputs": [],
   "source": [
    "y_pred = model.predict_proba(x_test)"
   ]
  },
  {
   "cell_type": "code",
   "execution_count": 104,
   "metadata": {},
   "outputs": [
    {
     "data": {
      "image/png": "[encoded data removed]",
      "text/plain": [
       "<Figure size 432x288 with 1 Axes>"
      ]
     },
     "metadata": {
      "needs_background": "light"
     },
     "output_type": "display_data"
    }
   ],
   "source": [
    "plt.hist(y_pred[np.where(y_test == 0)[0],0], bins=np.linspace(0,1,50), alpha=0.4);\n",
    "plt.hist(y_pred[np.where(y_test == 1)[0],0], bins=np.linspace(0,1,50), alpha=0.4);"
   ]
  },
  {
   "cell_type": "code",
   "execution_count": 107,
   "metadata": {},
   "outputs": [
    {
     "data": {
      "text/plain": [
       "0.6701617735170761"
      ]
     },
     "execution_count": 107,
     "metadata": {},
     "output_type": "execute_result"
    }
   ],
   "source": [
    "accuracy_score(y_test, y_pred[:,1].round())"
   ]
  },
  {
   "cell_type": "code",
   "execution_count": 108,
   "metadata": {},
   "outputs": [
    {
     "data": {
      "text/plain": [
       "0.7086488389393698"
      ]
     },
     "execution_count": 108,
     "metadata": {},
     "output_type": "execute_result"
    }
   ],
   "source": [
    "roc_auc_score(y_test, y_pred[:,1])"
   ]
  },
  {
   "cell_type": "code",
   "execution_count": 109,
   "metadata": {},
   "outputs": [],
   "source": [
    "from sklearn.ensemble import RandomForestClassifier"
   ]
  },
  {
   "cell_type": "code",
   "execution_count": 124,
   "metadata": {},
   "outputs": [],
   "source": [
    "model = RandomForestClassifier(n_estimators=20, n_jobs=-1)"
   ]
  },
  {
   "cell_type": "code",
   "execution_count": 125,
   "metadata": {},
   "outputs": [
    {
     "name": "stderr",
     "output_type": "stream",
     "text": [
      "/usr/local/lib/python3.7/site-packages/ipykernel_launcher.py:1: DataConversionWarning: A column-vector y was passed when a 1d array was expected. Please change the shape of y to (n_samples,), for example using ravel().\n",
      "  \"\"\"Entry point for launching an IPython kernel.\n"
     ]
    }
   ],
   "source": [
    "model.fit(x_train, y_train)\n",
    "y_pred = model.predict_proba(x_test)"
   ]
  },
  {
   "cell_type": "code",
   "execution_count": 126,
   "metadata": {},
   "outputs": [
    {
     "data": {
      "text/plain": [
       "0.5985620131815458"
      ]
     },
     "execution_count": 126,
     "metadata": {},
     "output_type": "execute_result"
    }
   ],
   "source": [
    "accuracy_score(y_test, y_pred[:,1].round())"
   ]
  },
  {
   "cell_type": "code",
   "execution_count": 127,
   "metadata": {},
   "outputs": [
    {
     "data": {
      "text/plain": [
       "0.6186692231846065"
      ]
     },
     "execution_count": 127,
     "metadata": {},
     "output_type": "execute_result"
    }
   ],
   "source": [
    "roc_auc_score(y_test, y_pred[:,1])"
   ]
  },
  {
   "cell_type": "code",
   "execution_count": 128,
   "metadata": {},
   "outputs": [
    {
     "data": {
      "text/plain": [
       "array([0.24497724, 0.24408679, 0.2574977 , 0.25343828])"
      ]
     },
     "execution_count": 128,
     "metadata": {},
     "output_type": "execute_result"
    }
   ],
   "source": [
    "model.feature_importances_"
   ]
  },
  {
   "cell_type": "code",
   "execution_count": 146,
   "metadata": {},
   "outputs": [
    {
     "data": {
      "text/plain": [
       "<matplotlib.collections.PathCollection at 0x132260190>"
      ]
     },
     "execution_count": 146,
     "metadata": {},
     "output_type": "execute_result"
    },
    {
     "data": {
      "image/png": "[encoded data removed]",
      "text/plain": [
       "<Figure size 432x288 with 1 Axes>"
      ]
     },
     "metadata": {
      "needs_background": "light"
     },
     "output_type": "display_data"
    }
   ],
   "source": [
    "plt.scatter(x_test['elo_prob1'], y_pred[:,1], alpha=0.2, edgecolor='k')"
   ]
  },
  {
   "cell_type": "code",
   "execution_count": null,
   "metadata": {},
   "outputs": [],
   "source": []
  }
 ],
 "metadata": {
  "kernelspec": {
   "display_name": "Python 3",
   "language": "python",
   "name": "python3"
  },
  "language_info": {
   "codemirror_mode": {
    "name": "ipython",
    "version": 3
   },
   "file_extension": ".py",
   "mimetype": "text/x-python",
   "name": "python",
   "nbconvert_exporter": "python",
   "pygments_lexer": "ipython3",
   "version": "3.7.4"
  }
 },
 "nbformat": 4,
 "nbformat_minor": 2
}
