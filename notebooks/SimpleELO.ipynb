{
 "cells": [
  {
   "cell_type": "markdown",
   "metadata": {},
   "source": [
    "# Simple ELO \n",
    "In this notebook, I explore the application of a simple ELO calculation to the historical NFL data."
   ]
  },
  {
   "cell_type": "code",
   "execution_count": 1,
   "metadata": {},
   "outputs": [],
   "source": [
    "import matplotlib.pyplot as plt\n",
    "import numpy as np \n",
    "import os \n",
    "import pandas as pd \n",
    "\n",
    "%matplotlib inline"
   ]
  },
  {
   "cell_type": "code",
   "execution_count": 2,
   "metadata": {},
   "outputs": [
    {
     "name": "stdout",
     "output_type": "stream",
     "text": [
      "Loading data from /Users/davidriser/repos/nfl-ratings/data..\n"
     ]
    }
   ],
   "source": [
    "data_dir = os.path.abspath('../data')\n",
    "print(f'Loading data from {data_dir}..')"
   ]
  },
  {
   "cell_type": "markdown",
   "metadata": {},
   "source": [
    "Let's load the data and apply some simple filters, based on the exploration.  I have decided to exclude matches before 1960, when the league expanded."
   ]
  },
  {
   "cell_type": "code",
   "execution_count": 3,
   "metadata": {},
   "outputs": [],
   "source": [
    "data = pd.read_csv(f'{data_dir}/historical_data.csv')\n",
    "data = data[np.logical_not(\n",
    "    np.logical_or(data['team1'].isna(), data['team2'].isna())\n",
    ")]\n",
    "data = data[data['season'] > 1959]\n",
    "data['date'] = pd.to_datetime(data['date'])"
   ]
  },
  {
   "cell_type": "code",
   "execution_count": 4,
   "metadata": {},
   "outputs": [
    {
     "data": {
      "text/html": [
       "<div>\n",
       "<style scoped>\n",
       "    .dataframe tbody tr th:only-of-type {\n",
       "        vertical-align: middle;\n",
       "    }\n",
       "\n",
       "    .dataframe tbody tr th {\n",
       "        vertical-align: top;\n",
       "    }\n",
       "\n",
       "    .dataframe thead th {\n",
       "        text-align: right;\n",
       "    }\n",
       "</style>\n",
       "<table border=\"1\" class=\"dataframe\">\n",
       "  <thead>\n",
       "    <tr style=\"text-align: right;\">\n",
       "      <th></th>\n",
       "      <th>date</th>\n",
       "      <th>season</th>\n",
       "      <th>neutral</th>\n",
       "      <th>playoff</th>\n",
       "      <th>team1</th>\n",
       "      <th>team2</th>\n",
       "      <th>elo1_pre</th>\n",
       "      <th>elo2_pre</th>\n",
       "      <th>elo_prob1</th>\n",
       "      <th>elo_prob2</th>\n",
       "      <th>...</th>\n",
       "      <th>qbelo_prob1</th>\n",
       "      <th>qbelo_prob2</th>\n",
       "      <th>qb1_game_value</th>\n",
       "      <th>qb2_game_value</th>\n",
       "      <th>qb1_value_post</th>\n",
       "      <th>qb2_value_post</th>\n",
       "      <th>qbelo1_post</th>\n",
       "      <th>qbelo2_post</th>\n",
       "      <th>score1</th>\n",
       "      <th>score2</th>\n",
       "    </tr>\n",
       "  </thead>\n",
       "  <tbody>\n",
       "    <tr>\n",
       "      <td>2903</td>\n",
       "      <td>1960-09-09</td>\n",
       "      <td>1960</td>\n",
       "      <td>0</td>\n",
       "      <td>NaN</td>\n",
       "      <td>NE</td>\n",
       "      <td>DEN</td>\n",
       "      <td>1300.000</td>\n",
       "      <td>1300.000</td>\n",
       "      <td>0.592466</td>\n",
       "      <td>0.407534</td>\n",
       "      <td>...</td>\n",
       "      <td>0.566862</td>\n",
       "      <td>0.433138</td>\n",
       "      <td>12.540000</td>\n",
       "      <td>122.760000</td>\n",
       "      <td>1.254000</td>\n",
       "      <td>32.931770</td>\n",
       "      <td>1283.942071</td>\n",
       "      <td>1316.057929</td>\n",
       "      <td>10.0</td>\n",
       "      <td>13.0</td>\n",
       "    </tr>\n",
       "    <tr>\n",
       "      <td>2904</td>\n",
       "      <td>1960-09-10</td>\n",
       "      <td>1960</td>\n",
       "      <td>0</td>\n",
       "      <td>NaN</td>\n",
       "      <td>LAC</td>\n",
       "      <td>KC</td>\n",
       "      <td>1300.000</td>\n",
       "      <td>1300.000</td>\n",
       "      <td>0.592466</td>\n",
       "      <td>0.407534</td>\n",
       "      <td>...</td>\n",
       "      <td>0.589531</td>\n",
       "      <td>0.410469</td>\n",
       "      <td>316.140000</td>\n",
       "      <td>153.120000</td>\n",
       "      <td>31.614000</td>\n",
       "      <td>11.872908</td>\n",
       "      <td>1305.532159</td>\n",
       "      <td>1294.467841</td>\n",
       "      <td>21.0</td>\n",
       "      <td>20.0</td>\n",
       "    </tr>\n",
       "    <tr>\n",
       "      <td>2905</td>\n",
       "      <td>1960-09-11</td>\n",
       "      <td>1960</td>\n",
       "      <td>0</td>\n",
       "      <td>NaN</td>\n",
       "      <td>OAK</td>\n",
       "      <td>TEN</td>\n",
       "      <td>1300.000</td>\n",
       "      <td>1300.000</td>\n",
       "      <td>0.592466</td>\n",
       "      <td>0.407534</td>\n",
       "      <td>...</td>\n",
       "      <td>0.523584</td>\n",
       "      <td>0.476416</td>\n",
       "      <td>147.180000</td>\n",
       "      <td>238.920000</td>\n",
       "      <td>14.718000</td>\n",
       "      <td>86.530014</td>\n",
       "      <td>1270.748277</td>\n",
       "      <td>1329.251723</td>\n",
       "      <td>22.0</td>\n",
       "      <td>37.0</td>\n",
       "    </tr>\n",
       "    <tr>\n",
       "      <td>2906</td>\n",
       "      <td>1960-09-11</td>\n",
       "      <td>1960</td>\n",
       "      <td>0</td>\n",
       "      <td>NaN</td>\n",
       "      <td>NYJ</td>\n",
       "      <td>BUF</td>\n",
       "      <td>1300.000</td>\n",
       "      <td>1300.000</td>\n",
       "      <td>0.592466</td>\n",
       "      <td>0.407534</td>\n",
       "      <td>...</td>\n",
       "      <td>0.534573</td>\n",
       "      <td>0.465427</td>\n",
       "      <td>116.820000</td>\n",
       "      <td>-67.650000</td>\n",
       "      <td>11.682000</td>\n",
       "      <td>36.502993</td>\n",
       "      <td>1329.638852</td>\n",
       "      <td>1270.361148</td>\n",
       "      <td>27.0</td>\n",
       "      <td>3.0</td>\n",
       "    </tr>\n",
       "    <tr>\n",
       "      <td>2907</td>\n",
       "      <td>1960-09-16</td>\n",
       "      <td>1960</td>\n",
       "      <td>0</td>\n",
       "      <td>NaN</td>\n",
       "      <td>OAK</td>\n",
       "      <td>KC</td>\n",
       "      <td>1266.146</td>\n",
       "      <td>1294.513</td>\n",
       "      <td>0.552525</td>\n",
       "      <td>0.447475</td>\n",
       "      <td>...</td>\n",
       "      <td>0.556189</td>\n",
       "      <td>0.443811</td>\n",
       "      <td>-96.257257</td>\n",
       "      <td>185.463743</td>\n",
       "      <td>3.620474</td>\n",
       "      <td>29.231991</td>\n",
       "      <td>1237.400627</td>\n",
       "      <td>1327.815491</td>\n",
       "      <td>16.0</td>\n",
       "      <td>34.0</td>\n",
       "    </tr>\n",
       "  </tbody>\n",
       "</table>\n",
       "<p>5 rows × 30 columns</p>\n",
       "</div>"
      ],
      "text/plain": [
       "           date  season  neutral playoff team1 team2  elo1_pre  elo2_pre  \\\n",
       "2903 1960-09-09    1960        0     NaN    NE   DEN  1300.000  1300.000   \n",
       "2904 1960-09-10    1960        0     NaN   LAC    KC  1300.000  1300.000   \n",
       "2905 1960-09-11    1960        0     NaN   OAK   TEN  1300.000  1300.000   \n",
       "2906 1960-09-11    1960        0     NaN   NYJ   BUF  1300.000  1300.000   \n",
       "2907 1960-09-16    1960        0     NaN   OAK    KC  1266.146  1294.513   \n",
       "\n",
       "      elo_prob1  elo_prob2  ...  qbelo_prob1  qbelo_prob2  qb1_game_value  \\\n",
       "2903   0.592466   0.407534  ...     0.566862     0.433138       12.540000   \n",
       "2904   0.592466   0.407534  ...     0.589531     0.410469      316.140000   \n",
       "2905   0.592466   0.407534  ...     0.523584     0.476416      147.180000   \n",
       "2906   0.592466   0.407534  ...     0.534573     0.465427      116.820000   \n",
       "2907   0.552525   0.447475  ...     0.556189     0.443811      -96.257257   \n",
       "\n",
       "      qb2_game_value qb1_value_post qb2_value_post  qbelo1_post  qbelo2_post  \\\n",
       "2903      122.760000       1.254000      32.931770  1283.942071  1316.057929   \n",
       "2904      153.120000      31.614000      11.872908  1305.532159  1294.467841   \n",
       "2905      238.920000      14.718000      86.530014  1270.748277  1329.251723   \n",
       "2906      -67.650000      11.682000      36.502993  1329.638852  1270.361148   \n",
       "2907      185.463743       3.620474      29.231991  1237.400627  1327.815491   \n",
       "\n",
       "      score1  score2  \n",
       "2903    10.0    13.0  \n",
       "2904    21.0    20.0  \n",
       "2905    22.0    37.0  \n",
       "2906    27.0     3.0  \n",
       "2907    16.0    34.0  \n",
       "\n",
       "[5 rows x 30 columns]"
      ]
     },
     "execution_count": 4,
     "metadata": {},
     "output_type": "execute_result"
    }
   ],
   "source": [
    "data.head()"
   ]
  },
  {
   "cell_type": "code",
   "execution_count": 5,
   "metadata": {},
   "outputs": [],
   "source": [
    "active_teams1 = set(data[data['season'] == 2019]['team1'].unique())\n",
    "active_teams2 = set(data[data['season'] == 2019]['team2'].unique())\n",
    "active_teams = active_teams1.union(active_teams2)"
   ]
  },
  {
   "cell_type": "code",
   "execution_count": 6,
   "metadata": {},
   "outputs": [
    {
     "name": "stdout",
     "output_type": "stream",
     "text": [
      "True\n"
     ]
    }
   ],
   "source": [
    "print(len(active_teams) == 32)"
   ]
  },
  {
   "cell_type": "code",
   "execution_count": 7,
   "metadata": {},
   "outputs": [],
   "source": [
    "train_data = data[['team1', 'team2', 'score1', 'score2', 'season', 'date']] "
   ]
  },
  {
   "cell_type": "markdown",
   "metadata": {},
   "source": [
    "Simple ELO calculation, everyone starts with a rating of 1250 and is given a maximum of 25 points for winning.  I'll be iterating over the rows of the dataframe, typically this is bad practice.  I am waiting to find a better way to do this."
   ]
  },
  {
   "cell_type": "code",
   "execution_count": 8,
   "metadata": {},
   "outputs": [],
   "source": [
    "def win_proba(rating1, rating2):\n",
    "    diff = rating2-rating1\n",
    "    return 1.0 / (10**(diff/400) + 1)"
   ]
  },
  {
   "cell_type": "code",
   "execution_count": 9,
   "metadata": {},
   "outputs": [
    {
     "data": {
      "text/plain": [
       "0.9090909090909091"
      ]
     },
     "execution_count": 9,
     "metadata": {},
     "output_type": "execute_result"
    }
   ],
   "source": [
    "# Defined to be 0.9\n",
    "win_proba(401, 1)"
   ]
  },
  {
   "cell_type": "code",
   "execution_count": 10,
   "metadata": {},
   "outputs": [],
   "source": [
    "def simple_elo(train_data, active_teams, start_rating = 1250, reward = 25):\n",
    "\n",
    "    ngames = len(train_data)\n",
    "\n",
    "    # Setup the output fields \n",
    "    elo1_pre = np.repeat(start_rating, ngames)\n",
    "    elo2_pre = np.repeat(start_rating, ngames)\n",
    "    elo1_post = np.repeat(start_rating, ngames)\n",
    "    elo2_post = np.repeat(start_rating, ngames)\n",
    "    elo_prob1 = np.repeat(0.5, ngames)\n",
    "    elo_prob2 = np.repeat(0.5, ngames)\n",
    "\n",
    "    current_ratings = { team:start_rating for team in active_teams }\n",
    "\n",
    "    for index in range(ngames):    \n",
    "\n",
    "        # Get the current matchup between two teams \n",
    "        game = train_data.iloc[index]\n",
    "        team1, team2 = game['team1'], game['team2']\n",
    "\n",
    "        # Get thier current ratings from our dictionary \n",
    "        rating1, rating2 = current_ratings[team1], current_ratings[team2]    \n",
    "        elo1_pre[index] = rating1\n",
    "        elo2_pre[index] = rating2\n",
    "\n",
    "        # Calculate the win probability for each team \n",
    "        prob1 = win_proba(rating1, rating2)\n",
    "        prob2 = 1.0 - prob1\n",
    "        elo_prob1[index] = prob1\n",
    "        elo_prob2[index] = prob2\n",
    "\n",
    "        # Figure out if the home team won, lost, and drew the game \n",
    "        outcome = 0\n",
    "        if game['score1'] > game['score2']:\n",
    "            outcome = 1\n",
    "        elif game['score1'] < game['score2']:\n",
    "            outcome = -1\n",
    "\n",
    "        # Update the ELO of each team based on the results \n",
    "        if outcome == 1:\n",
    "            rating1 += reward * prob2\n",
    "            rating2 -= reward * prob2\n",
    "        elif outcome == -1:\n",
    "            rating1 -= reward * prob1\n",
    "            rating2 += reward * prob1\n",
    "\n",
    "        # Update the dataframe and current ratings\n",
    "        current_ratings[team1] = rating1\n",
    "        current_ratings[team2] = rating2\n",
    "\n",
    "        elo1_post[index] = rating1\n",
    "        elo2_post[index] = rating2\n",
    "\n",
    "    train_data['elo1_pre'] = elo1_pre\n",
    "    train_data['elo2_pre'] = elo2_pre\n",
    "    train_data['elo1_post'] = elo1_post\n",
    "    train_data['elo2_post'] = elo2_post\n",
    "    train_data['elo_prob1'] = elo_prob1\n",
    "    train_data['elo_prob2'] = elo_prob2\n",
    "    \n",
    "    return train_data, current_ratings "
   ]
  },
  {
   "cell_type": "code",
   "execution_count": 11,
   "metadata": {},
   "outputs": [
    {
     "name": "stderr",
     "output_type": "stream",
     "text": [
      "/usr/local/lib/python3.7/site-packages/ipykernel_launcher.py:54: SettingWithCopyWarning: \n",
      "A value is trying to be set on a copy of a slice from a DataFrame.\n",
      "Try using .loc[row_indexer,col_indexer] = value instead\n",
      "\n",
      "See the caveats in the documentation: http://pandas.pydata.org/pandas-docs/stable/user_guide/indexing.html#returning-a-view-versus-a-copy\n",
      "/usr/local/lib/python3.7/site-packages/ipykernel_launcher.py:55: SettingWithCopyWarning: \n",
      "A value is trying to be set on a copy of a slice from a DataFrame.\n",
      "Try using .loc[row_indexer,col_indexer] = value instead\n",
      "\n",
      "See the caveats in the documentation: http://pandas.pydata.org/pandas-docs/stable/user_guide/indexing.html#returning-a-view-versus-a-copy\n",
      "/usr/local/lib/python3.7/site-packages/ipykernel_launcher.py:56: SettingWithCopyWarning: \n",
      "A value is trying to be set on a copy of a slice from a DataFrame.\n",
      "Try using .loc[row_indexer,col_indexer] = value instead\n",
      "\n",
      "See the caveats in the documentation: http://pandas.pydata.org/pandas-docs/stable/user_guide/indexing.html#returning-a-view-versus-a-copy\n",
      "/usr/local/lib/python3.7/site-packages/ipykernel_launcher.py:57: SettingWithCopyWarning: \n",
      "A value is trying to be set on a copy of a slice from a DataFrame.\n",
      "Try using .loc[row_indexer,col_indexer] = value instead\n",
      "\n",
      "See the caveats in the documentation: http://pandas.pydata.org/pandas-docs/stable/user_guide/indexing.html#returning-a-view-versus-a-copy\n",
      "/usr/local/lib/python3.7/site-packages/ipykernel_launcher.py:58: SettingWithCopyWarning: \n",
      "A value is trying to be set on a copy of a slice from a DataFrame.\n",
      "Try using .loc[row_indexer,col_indexer] = value instead\n",
      "\n",
      "See the caveats in the documentation: http://pandas.pydata.org/pandas-docs/stable/user_guide/indexing.html#returning-a-view-versus-a-copy\n",
      "/usr/local/lib/python3.7/site-packages/ipykernel_launcher.py:59: SettingWithCopyWarning: \n",
      "A value is trying to be set on a copy of a slice from a DataFrame.\n",
      "Try using .loc[row_indexer,col_indexer] = value instead\n",
      "\n",
      "See the caveats in the documentation: http://pandas.pydata.org/pandas-docs/stable/user_guide/indexing.html#returning-a-view-versus-a-copy\n"
     ]
    }
   ],
   "source": [
    "train_data, current_ratings = simple_elo(train_data, active_teams, 1500, 25)"
   ]
  },
  {
   "cell_type": "code",
   "execution_count": 17,
   "metadata": {},
   "outputs": [],
   "source": [
    "def plot_ratings(ratings):\n",
    "    teams = np.array(list(ratings.keys()))\n",
    "    scores = np.array(list(ratings.values()))\n",
    "    idx = np.argsort(scores)\n",
    "    \n",
    "    fig = plt.figure(figsize=(8,8))\n",
    "    ax = fig.add_subplot(1,1,1)\n",
    "    ax.barh(teams[idx][:8], scores[idx][:8], edgecolor='k', alpha=0.7, color='orange')\n",
    "    ax.barh(teams[idx][8:24], scores[idx][8:24], edgecolor='k', alpha=0.7, color='purple')\n",
    "    ax.barh(teams[idx][24:], scores[idx][24:], edgecolor='k', alpha=0.7, color='red')\n",
    "    ax.set_title('Simple ELO Ratings')\n",
    "    ax.set_xlabel('Rating')\n",
    "    ax.set_xlim([1300, 1950])\n",
    "    ax.grid(alpha=0.2)"
   ]
  },
  {
   "cell_type": "code",
   "execution_count": 18,
   "metadata": {},
   "outputs": [
    {
     "data": {
      "image/png": "[encoded data removed]",
      "text/plain": [
       "<Figure size 576x576 with 1 Axes>"
      ]
     },
     "metadata": {
      "needs_background": "light"
     },
     "output_type": "display_data"
    }
   ],
   "source": [
    "plot_ratings(current_ratings)"
   ]
  },
  {
   "cell_type": "markdown",
   "metadata": {},
   "source": [
    "# Ratings As a Function of Start Time\n",
    "How far back do we need to go?  Do the results eventually end up the same?"
   ]
  },
  {
   "cell_type": "code",
   "execution_count": 19,
   "metadata": {},
   "outputs": [
    {
     "name": "stdout",
     "output_type": "stream",
     "text": [
      "Calculating results from starting at 1960\n",
      "Calculating results from starting at 1965\n"
     ]
    },
    {
     "name": "stderr",
     "output_type": "stream",
     "text": [
      "/usr/local/lib/python3.7/site-packages/ipykernel_launcher.py:54: SettingWithCopyWarning: \n",
      "A value is trying to be set on a copy of a slice from a DataFrame.\n",
      "Try using .loc[row_indexer,col_indexer] = value instead\n",
      "\n",
      "See the caveats in the documentation: http://pandas.pydata.org/pandas-docs/stable/user_guide/indexing.html#returning-a-view-versus-a-copy\n",
      "/usr/local/lib/python3.7/site-packages/ipykernel_launcher.py:55: SettingWithCopyWarning: \n",
      "A value is trying to be set on a copy of a slice from a DataFrame.\n",
      "Try using .loc[row_indexer,col_indexer] = value instead\n",
      "\n",
      "See the caveats in the documentation: http://pandas.pydata.org/pandas-docs/stable/user_guide/indexing.html#returning-a-view-versus-a-copy\n",
      "/usr/local/lib/python3.7/site-packages/ipykernel_launcher.py:56: SettingWithCopyWarning: \n",
      "A value is trying to be set on a copy of a slice from a DataFrame.\n",
      "Try using .loc[row_indexer,col_indexer] = value instead\n",
      "\n",
      "See the caveats in the documentation: http://pandas.pydata.org/pandas-docs/stable/user_guide/indexing.html#returning-a-view-versus-a-copy\n",
      "/usr/local/lib/python3.7/site-packages/ipykernel_launcher.py:57: SettingWithCopyWarning: \n",
      "A value is trying to be set on a copy of a slice from a DataFrame.\n",
      "Try using .loc[row_indexer,col_indexer] = value instead\n",
      "\n",
      "See the caveats in the documentation: http://pandas.pydata.org/pandas-docs/stable/user_guide/indexing.html#returning-a-view-versus-a-copy\n",
      "/usr/local/lib/python3.7/site-packages/ipykernel_launcher.py:58: SettingWithCopyWarning: \n",
      "A value is trying to be set on a copy of a slice from a DataFrame.\n",
      "Try using .loc[row_indexer,col_indexer] = value instead\n",
      "\n",
      "See the caveats in the documentation: http://pandas.pydata.org/pandas-docs/stable/user_guide/indexing.html#returning-a-view-versus-a-copy\n",
      "/usr/local/lib/python3.7/site-packages/ipykernel_launcher.py:59: SettingWithCopyWarning: \n",
      "A value is trying to be set on a copy of a slice from a DataFrame.\n",
      "Try using .loc[row_indexer,col_indexer] = value instead\n",
      "\n",
      "See the caveats in the documentation: http://pandas.pydata.org/pandas-docs/stable/user_guide/indexing.html#returning-a-view-versus-a-copy\n"
     ]
    },
    {
     "name": "stdout",
     "output_type": "stream",
     "text": [
      "Calculating results from starting at 1970\n",
      "Calculating results from starting at 1975\n",
      "Calculating results from starting at 1980\n",
      "Calculating results from starting at 1985\n"
     ]
    }
   ],
   "source": [
    "year_based_results = {}\n",
    "year_based_results['start_year'] = [] \n",
    "year_based_results['result'] = [] \n",
    "year_based_results['ratings'] = [] \n",
    "\n",
    "for start_year in range(1960, 1990, 5):\n",
    "    print(f'Calculating results from starting at {start_year}')\n",
    "    year_based_results['start_year'].append(start_year)\n",
    "    year_data, ratings = simple_elo(train_data[train_data['season'] >= start_year], \n",
    "                                    active_teams, 1500, 25)\n",
    "    year_based_results['result'].append(year_data)\n",
    "    year_based_results['ratings'].append(ratings)"
   ]
  },
  {
   "cell_type": "code",
   "execution_count": 20,
   "metadata": {},
   "outputs": [
    {
     "data": {
      "text/html": [
       "<div>\n",
       "<style scoped>\n",
       "    .dataframe tbody tr th:only-of-type {\n",
       "        vertical-align: middle;\n",
       "    }\n",
       "\n",
       "    .dataframe tbody tr th {\n",
       "        vertical-align: top;\n",
       "    }\n",
       "\n",
       "    .dataframe thead th {\n",
       "        text-align: right;\n",
       "    }\n",
       "</style>\n",
       "<table border=\"1\" class=\"dataframe\">\n",
       "  <thead>\n",
       "    <tr style=\"text-align: right;\">\n",
       "      <th></th>\n",
       "      <th>team1</th>\n",
       "      <th>team2</th>\n",
       "      <th>score1</th>\n",
       "      <th>score2</th>\n",
       "      <th>season</th>\n",
       "      <th>date</th>\n",
       "      <th>elo1_pre</th>\n",
       "      <th>elo2_pre</th>\n",
       "      <th>elo1_post</th>\n",
       "      <th>elo2_post</th>\n",
       "      <th>elo_prob1</th>\n",
       "      <th>elo_prob2</th>\n",
       "    </tr>\n",
       "  </thead>\n",
       "  <tbody>\n",
       "    <tr>\n",
       "      <td>2903</td>\n",
       "      <td>NE</td>\n",
       "      <td>DEN</td>\n",
       "      <td>10.0</td>\n",
       "      <td>13.0</td>\n",
       "      <td>1960</td>\n",
       "      <td>1960-09-09</td>\n",
       "      <td>1500</td>\n",
       "      <td>1500</td>\n",
       "      <td>1487</td>\n",
       "      <td>1512</td>\n",
       "      <td>0.500000</td>\n",
       "      <td>0.500000</td>\n",
       "    </tr>\n",
       "    <tr>\n",
       "      <td>2904</td>\n",
       "      <td>LAC</td>\n",
       "      <td>KC</td>\n",
       "      <td>21.0</td>\n",
       "      <td>20.0</td>\n",
       "      <td>1960</td>\n",
       "      <td>1960-09-10</td>\n",
       "      <td>1500</td>\n",
       "      <td>1500</td>\n",
       "      <td>1512</td>\n",
       "      <td>1487</td>\n",
       "      <td>0.500000</td>\n",
       "      <td>0.500000</td>\n",
       "    </tr>\n",
       "    <tr>\n",
       "      <td>2905</td>\n",
       "      <td>OAK</td>\n",
       "      <td>TEN</td>\n",
       "      <td>22.0</td>\n",
       "      <td>37.0</td>\n",
       "      <td>1960</td>\n",
       "      <td>1960-09-11</td>\n",
       "      <td>1500</td>\n",
       "      <td>1500</td>\n",
       "      <td>1487</td>\n",
       "      <td>1512</td>\n",
       "      <td>0.500000</td>\n",
       "      <td>0.500000</td>\n",
       "    </tr>\n",
       "    <tr>\n",
       "      <td>2906</td>\n",
       "      <td>NYJ</td>\n",
       "      <td>BUF</td>\n",
       "      <td>27.0</td>\n",
       "      <td>3.0</td>\n",
       "      <td>1960</td>\n",
       "      <td>1960-09-11</td>\n",
       "      <td>1500</td>\n",
       "      <td>1500</td>\n",
       "      <td>1512</td>\n",
       "      <td>1487</td>\n",
       "      <td>0.500000</td>\n",
       "      <td>0.500000</td>\n",
       "    </tr>\n",
       "    <tr>\n",
       "      <td>2907</td>\n",
       "      <td>OAK</td>\n",
       "      <td>KC</td>\n",
       "      <td>16.0</td>\n",
       "      <td>34.0</td>\n",
       "      <td>1960</td>\n",
       "      <td>1960-09-16</td>\n",
       "      <td>1487</td>\n",
       "      <td>1487</td>\n",
       "      <td>1475</td>\n",
       "      <td>1500</td>\n",
       "      <td>0.500000</td>\n",
       "      <td>0.500000</td>\n",
       "    </tr>\n",
       "    <tr>\n",
       "      <td>...</td>\n",
       "      <td>...</td>\n",
       "      <td>...</td>\n",
       "      <td>...</td>\n",
       "      <td>...</td>\n",
       "      <td>...</td>\n",
       "      <td>...</td>\n",
       "      <td>...</td>\n",
       "      <td>...</td>\n",
       "      <td>...</td>\n",
       "      <td>...</td>\n",
       "      <td>...</td>\n",
       "      <td>...</td>\n",
       "    </tr>\n",
       "    <tr>\n",
       "      <td>16525</td>\n",
       "      <td>CAR</td>\n",
       "      <td>NO</td>\n",
       "      <td>NaN</td>\n",
       "      <td>NaN</td>\n",
       "      <td>2019</td>\n",
       "      <td>2019-12-29</td>\n",
       "      <td>1527</td>\n",
       "      <td>1653</td>\n",
       "      <td>1527</td>\n",
       "      <td>1653</td>\n",
       "      <td>0.326861</td>\n",
       "      <td>0.673139</td>\n",
       "    </tr>\n",
       "    <tr>\n",
       "      <td>16526</td>\n",
       "      <td>MIN</td>\n",
       "      <td>CHI</td>\n",
       "      <td>NaN</td>\n",
       "      <td>NaN</td>\n",
       "      <td>2019</td>\n",
       "      <td>2019-12-29</td>\n",
       "      <td>1568</td>\n",
       "      <td>1504</td>\n",
       "      <td>1568</td>\n",
       "      <td>1504</td>\n",
       "      <td>0.592390</td>\n",
       "      <td>0.407610</td>\n",
       "    </tr>\n",
       "    <tr>\n",
       "      <td>16527</td>\n",
       "      <td>SEA</td>\n",
       "      <td>SF</td>\n",
       "      <td>NaN</td>\n",
       "      <td>NaN</td>\n",
       "      <td>2019</td>\n",
       "      <td>2019-12-29</td>\n",
       "      <td>1613</td>\n",
       "      <td>1432</td>\n",
       "      <td>1613</td>\n",
       "      <td>1432</td>\n",
       "      <td>0.739224</td>\n",
       "      <td>0.260776</td>\n",
       "    </tr>\n",
       "    <tr>\n",
       "      <td>16528</td>\n",
       "      <td>DEN</td>\n",
       "      <td>OAK</td>\n",
       "      <td>NaN</td>\n",
       "      <td>NaN</td>\n",
       "      <td>2019</td>\n",
       "      <td>2019-12-29</td>\n",
       "      <td>1431</td>\n",
       "      <td>1439</td>\n",
       "      <td>1431</td>\n",
       "      <td>1439</td>\n",
       "      <td>0.488009</td>\n",
       "      <td>0.511991</td>\n",
       "    </tr>\n",
       "    <tr>\n",
       "      <td>16529</td>\n",
       "      <td>LAR</td>\n",
       "      <td>ARI</td>\n",
       "      <td>NaN</td>\n",
       "      <td>NaN</td>\n",
       "      <td>2019</td>\n",
       "      <td>2019-12-29</td>\n",
       "      <td>1596</td>\n",
       "      <td>1409</td>\n",
       "      <td>1596</td>\n",
       "      <td>1409</td>\n",
       "      <td>0.746100</td>\n",
       "      <td>0.253900</td>\n",
       "    </tr>\n",
       "  </tbody>\n",
       "</table>\n",
       "<p>13627 rows × 12 columns</p>\n",
       "</div>"
      ],
      "text/plain": [
       "      team1 team2  score1  score2  season       date  elo1_pre  elo2_pre  \\\n",
       "2903     NE   DEN    10.0    13.0    1960 1960-09-09      1500      1500   \n",
       "2904    LAC    KC    21.0    20.0    1960 1960-09-10      1500      1500   \n",
       "2905    OAK   TEN    22.0    37.0    1960 1960-09-11      1500      1500   \n",
       "2906    NYJ   BUF    27.0     3.0    1960 1960-09-11      1500      1500   \n",
       "2907    OAK    KC    16.0    34.0    1960 1960-09-16      1487      1487   \n",
       "...     ...   ...     ...     ...     ...        ...       ...       ...   \n",
       "16525   CAR    NO     NaN     NaN    2019 2019-12-29      1527      1653   \n",
       "16526   MIN   CHI     NaN     NaN    2019 2019-12-29      1568      1504   \n",
       "16527   SEA    SF     NaN     NaN    2019 2019-12-29      1613      1432   \n",
       "16528   DEN   OAK     NaN     NaN    2019 2019-12-29      1431      1439   \n",
       "16529   LAR   ARI     NaN     NaN    2019 2019-12-29      1596      1409   \n",
       "\n",
       "       elo1_post  elo2_post  elo_prob1  elo_prob2  \n",
       "2903        1487       1512   0.500000   0.500000  \n",
       "2904        1512       1487   0.500000   0.500000  \n",
       "2905        1487       1512   0.500000   0.500000  \n",
       "2906        1512       1487   0.500000   0.500000  \n",
       "2907        1475       1500   0.500000   0.500000  \n",
       "...          ...        ...        ...        ...  \n",
       "16525       1527       1653   0.326861   0.673139  \n",
       "16526       1568       1504   0.592390   0.407610  \n",
       "16527       1613       1432   0.739224   0.260776  \n",
       "16528       1431       1439   0.488009   0.511991  \n",
       "16529       1596       1409   0.746100   0.253900  \n",
       "\n",
       "[13627 rows x 12 columns]"
      ]
     },
     "execution_count": 20,
     "metadata": {},
     "output_type": "execute_result"
    }
   ],
   "source": [
    "year_based_results['result'][0]"
   ]
  },
  {
   "cell_type": "code",
   "execution_count": 21,
   "metadata": {},
   "outputs": [
    {
     "data": {
      "image/png": "[encoded data removed]",
      "text/plain": [
       "<Figure size 1152x648 with 1 Axes>"
      ]
     },
     "metadata": {
      "needs_background": "light"
     },
     "output_type": "display_data"
    }
   ],
   "source": [
    "plt.figure(figsize=(16,9))\n",
    "for team in active_teams:\n",
    "    plt.plot(year_based_results['start_year'], \n",
    "                [r[team] for r in year_based_results['ratings']],\n",
    "            marker='o')"
   ]
  },
  {
   "cell_type": "code",
   "execution_count": 22,
   "metadata": {},
   "outputs": [],
   "source": [
    "train_data = data[['team1', 'team2', 'score1', 'score2', 'season', 'date']] "
   ]
  },
  {
   "cell_type": "markdown",
   "metadata": {},
   "source": [
    "It looks like things end up right about the same regardless of when we start, this shouldn't hold all the way up to modern times...  Let's try to break it."
   ]
  },
  {
   "cell_type": "code",
   "execution_count": 23,
   "metadata": {},
   "outputs": [
    {
     "name": "stdout",
     "output_type": "stream",
     "text": [
      "Calculating results from starting at 2010\n"
     ]
    },
    {
     "name": "stderr",
     "output_type": "stream",
     "text": [
      "/usr/local/lib/python3.7/site-packages/ipykernel_launcher.py:54: SettingWithCopyWarning: \n",
      "A value is trying to be set on a copy of a slice from a DataFrame.\n",
      "Try using .loc[row_indexer,col_indexer] = value instead\n",
      "\n",
      "See the caveats in the documentation: http://pandas.pydata.org/pandas-docs/stable/user_guide/indexing.html#returning-a-view-versus-a-copy\n",
      "/usr/local/lib/python3.7/site-packages/ipykernel_launcher.py:55: SettingWithCopyWarning: \n",
      "A value is trying to be set on a copy of a slice from a DataFrame.\n",
      "Try using .loc[row_indexer,col_indexer] = value instead\n",
      "\n",
      "See the caveats in the documentation: http://pandas.pydata.org/pandas-docs/stable/user_guide/indexing.html#returning-a-view-versus-a-copy\n",
      "/usr/local/lib/python3.7/site-packages/ipykernel_launcher.py:56: SettingWithCopyWarning: \n",
      "A value is trying to be set on a copy of a slice from a DataFrame.\n",
      "Try using .loc[row_indexer,col_indexer] = value instead\n",
      "\n",
      "See the caveats in the documentation: http://pandas.pydata.org/pandas-docs/stable/user_guide/indexing.html#returning-a-view-versus-a-copy\n",
      "/usr/local/lib/python3.7/site-packages/ipykernel_launcher.py:57: SettingWithCopyWarning: \n",
      "A value is trying to be set on a copy of a slice from a DataFrame.\n",
      "Try using .loc[row_indexer,col_indexer] = value instead\n",
      "\n",
      "See the caveats in the documentation: http://pandas.pydata.org/pandas-docs/stable/user_guide/indexing.html#returning-a-view-versus-a-copy\n",
      "/usr/local/lib/python3.7/site-packages/ipykernel_launcher.py:58: SettingWithCopyWarning: \n",
      "A value is trying to be set on a copy of a slice from a DataFrame.\n",
      "Try using .loc[row_indexer,col_indexer] = value instead\n",
      "\n",
      "See the caveats in the documentation: http://pandas.pydata.org/pandas-docs/stable/user_guide/indexing.html#returning-a-view-versus-a-copy\n",
      "/usr/local/lib/python3.7/site-packages/ipykernel_launcher.py:59: SettingWithCopyWarning: \n",
      "A value is trying to be set on a copy of a slice from a DataFrame.\n",
      "Try using .loc[row_indexer,col_indexer] = value instead\n",
      "\n",
      "See the caveats in the documentation: http://pandas.pydata.org/pandas-docs/stable/user_guide/indexing.html#returning-a-view-versus-a-copy\n"
     ]
    },
    {
     "name": "stdout",
     "output_type": "stream",
     "text": [
      "Calculating results from starting at 2011\n",
      "Calculating results from starting at 2012\n",
      "Calculating results from starting at 2013\n",
      "Calculating results from starting at 2014\n",
      "Calculating results from starting at 2015\n",
      "Calculating results from starting at 2016\n"
     ]
    }
   ],
   "source": [
    "year_based_results = {}\n",
    "year_based_results['start_year'] = [] \n",
    "year_based_results['result'] = [] \n",
    "year_based_results['ratings'] = [] \n",
    "\n",
    "for start_year in range(2010, 2017, 1):\n",
    "    print(f'Calculating results from starting at {start_year}')\n",
    "    year_based_results['start_year'].append(start_year)\n",
    "    year_data, ratings = simple_elo(train_data[train_data['season'] >= start_year], active_teams, \n",
    "                                    1500, 25)\n",
    "    year_based_results['result'].append(year_data)\n",
    "    year_based_results['ratings'].append(ratings)"
   ]
  },
  {
   "cell_type": "code",
   "execution_count": 24,
   "metadata": {},
   "outputs": [
    {
     "data": {
      "image/png": "[encoded data removed]",
      "text/plain": [
       "<Figure size 1152x648 with 1 Axes>"
      ]
     },
     "metadata": {
      "needs_background": "light"
     },
     "output_type": "display_data"
    }
   ],
   "source": [
    "plt.figure(figsize=(16,9))\n",
    "for team in active_teams:\n",
    "    plt.plot(year_based_results['start_year'], \n",
    "                [r[team] for r in year_based_results['ratings']],\n",
    "            marker='o')"
   ]
  },
  {
   "cell_type": "code",
   "execution_count": 25,
   "metadata": {},
   "outputs": [
    {
     "data": {
      "image/png": "[encoded data removed]",
      "text/plain": [
       "<Figure size 576x576 with 1 Axes>"
      ]
     },
     "metadata": {
      "needs_background": "light"
     },
     "output_type": "display_data"
    }
   ],
   "source": [
    "plot_ratings(year_based_results['ratings'][0])"
   ]
  },
  {
   "cell_type": "code",
   "execution_count": 26,
   "metadata": {},
   "outputs": [],
   "source": [
    "def entropy_metric(pred, truth, epsilon=1e-9):\n",
    "    ''' Calculate the cross-entropy for these predictions.  In this function, I assume that\n",
    "    the prediction is a probability, and the truth information is the outcome of the game.  \n",
    "    The outcome variable can be:\n",
    "        0 - The team lost \n",
    "        1 - The team won \n",
    "        0.5 - The game was a draw \n",
    "    \n",
    "    The formula applied for each prediction is: \n",
    "        cross_entropy (win) = ln(1 - prob)\n",
    "        cross_entropy (lose) = ln(prob)\n",
    "        \n",
    "    '''\n",
    "    pred = np.clip(pred, epsilon, 1 - epsilon)\n",
    "    \n",
    "    win_index = np.where(truth == 1)[0]\n",
    "    loss_index = np.where(truth == 0)[0]    \n",
    "    loss = np.zeros(len(truth))\n",
    "    loss[win_index] = -1 * np.log(pred[win_index])\n",
    "    loss[loss_index] = -1 * np.log(1-pred[loss_index])\n",
    "    return np.mean(loss)\n",
    "\n",
    "def get_game_outcome(game):\n",
    "    ''' By default, return 0.5 for a draw.  Otherwise, return 1 if team1 won, otherwise return 0.'''\n",
    "    if game['score1'] > game['score2']:\n",
    "        return 1.0\n",
    "    elif game['score1'] == game['score2']:\n",
    "        return 0.5\n",
    "    else:\n",
    "        return 0.0\n",
    "    \n",
    "def get_entropy_metric_for_df(df):\n",
    "    df['outcome'] = df.apply(get_game_outcome, axis=1)\n",
    "    return entropy_metric(df['elo_prob1'].values, df['outcome'].values)"
   ]
  },
  {
   "cell_type": "code",
   "execution_count": 27,
   "metadata": {},
   "outputs": [],
   "source": [
    "train_data = data[['team1', 'team2', 'score1', 'score2', 'season', 'date']] "
   ]
  },
  {
   "cell_type": "code",
   "execution_count": 28,
   "metadata": {},
   "outputs": [
    {
     "name": "stdout",
     "output_type": "stream",
     "text": [
      "Working on 1\n"
     ]
    },
    {
     "name": "stderr",
     "output_type": "stream",
     "text": [
      "/usr/local/lib/python3.7/site-packages/ipykernel_launcher.py:54: SettingWithCopyWarning: \n",
      "A value is trying to be set on a copy of a slice from a DataFrame.\n",
      "Try using .loc[row_indexer,col_indexer] = value instead\n",
      "\n",
      "See the caveats in the documentation: http://pandas.pydata.org/pandas-docs/stable/user_guide/indexing.html#returning-a-view-versus-a-copy\n",
      "/usr/local/lib/python3.7/site-packages/ipykernel_launcher.py:55: SettingWithCopyWarning: \n",
      "A value is trying to be set on a copy of a slice from a DataFrame.\n",
      "Try using .loc[row_indexer,col_indexer] = value instead\n",
      "\n",
      "See the caveats in the documentation: http://pandas.pydata.org/pandas-docs/stable/user_guide/indexing.html#returning-a-view-versus-a-copy\n",
      "/usr/local/lib/python3.7/site-packages/ipykernel_launcher.py:56: SettingWithCopyWarning: \n",
      "A value is trying to be set on a copy of a slice from a DataFrame.\n",
      "Try using .loc[row_indexer,col_indexer] = value instead\n",
      "\n",
      "See the caveats in the documentation: http://pandas.pydata.org/pandas-docs/stable/user_guide/indexing.html#returning-a-view-versus-a-copy\n",
      "/usr/local/lib/python3.7/site-packages/ipykernel_launcher.py:57: SettingWithCopyWarning: \n",
      "A value is trying to be set on a copy of a slice from a DataFrame.\n",
      "Try using .loc[row_indexer,col_indexer] = value instead\n",
      "\n",
      "See the caveats in the documentation: http://pandas.pydata.org/pandas-docs/stable/user_guide/indexing.html#returning-a-view-versus-a-copy\n",
      "/usr/local/lib/python3.7/site-packages/ipykernel_launcher.py:58: SettingWithCopyWarning: \n",
      "A value is trying to be set on a copy of a slice from a DataFrame.\n",
      "Try using .loc[row_indexer,col_indexer] = value instead\n",
      "\n",
      "See the caveats in the documentation: http://pandas.pydata.org/pandas-docs/stable/user_guide/indexing.html#returning-a-view-versus-a-copy\n",
      "/usr/local/lib/python3.7/site-packages/ipykernel_launcher.py:59: SettingWithCopyWarning: \n",
      "A value is trying to be set on a copy of a slice from a DataFrame.\n",
      "Try using .loc[row_indexer,col_indexer] = value instead\n",
      "\n",
      "See the caveats in the documentation: http://pandas.pydata.org/pandas-docs/stable/user_guide/indexing.html#returning-a-view-versus-a-copy\n",
      "/usr/local/lib/python3.7/site-packages/ipykernel_launcher.py:33: SettingWithCopyWarning: \n",
      "A value is trying to be set on a copy of a slice from a DataFrame.\n",
      "Try using .loc[row_indexer,col_indexer] = value instead\n",
      "\n",
      "See the caveats in the documentation: http://pandas.pydata.org/pandas-docs/stable/user_guide/indexing.html#returning-a-view-versus-a-copy\n"
     ]
    },
    {
     "name": "stdout",
     "output_type": "stream",
     "text": [
      "Working on 3\n",
      "Working on 5\n",
      "Working on 7\n",
      "Working on 9\n",
      "Working on 11\n",
      "Working on 13\n",
      "Working on 15\n",
      "Working on 17\n",
      "Working on 19\n",
      "Working on 21\n",
      "Working on 23\n",
      "Working on 25\n",
      "Working on 27\n",
      "Working on 29\n",
      "Working on 31\n",
      "Working on 33\n",
      "Working on 35\n",
      "Working on 37\n",
      "Working on 39\n",
      "Working on 41\n",
      "Working on 43\n",
      "Working on 45\n",
      "Working on 47\n",
      "Working on 49\n",
      "Working on 51\n",
      "Working on 53\n",
      "Working on 55\n",
      "Working on 57\n",
      "Working on 59\n",
      "Working on 61\n",
      "Working on 63\n",
      "Working on 65\n",
      "Working on 67\n",
      "Working on 69\n",
      "Working on 71\n",
      "Working on 73\n"
     ]
    }
   ],
   "source": [
    "reward_values = range(1,75,2)\n",
    "entropy_values = []\n",
    "\n",
    "for reward in reward_values:\n",
    "    print(f'Working on {reward}')\n",
    "    d, r = simple_elo(train_data[train_data['season'] > 2000], active_teams, 1500, reward)\n",
    "    entropy_values.append(\n",
    "        get_entropy_metric_for_df(d[d['season'] == 2018])\n",
    "    )"
   ]
  },
  {
   "cell_type": "code",
   "execution_count": 29,
   "metadata": {},
   "outputs": [
    {
     "data": {
      "text/plain": [
       "[<matplotlib.lines.Line2D at 0x119504410>]"
      ]
     },
     "execution_count": 29,
     "metadata": {},
     "output_type": "execute_result"
    },
    {
     "data": {
      "image/png": "[encoded data removed]",
      "text/plain": [
       "<Figure size 432x288 with 1 Axes>"
      ]
     },
     "metadata": {
      "needs_background": "light"
     },
     "output_type": "display_data"
    }
   ],
   "source": [
    "plt.plot(reward_values, entropy_values, marker='o')"
   ]
  },
  {
   "cell_type": "code",
   "execution_count": 30,
   "metadata": {},
   "outputs": [
    {
     "name": "stdout",
     "output_type": "stream",
     "text": [
      "Working on 1000\n"
     ]
    },
    {
     "name": "stderr",
     "output_type": "stream",
     "text": [
      "/usr/local/lib/python3.7/site-packages/ipykernel_launcher.py:54: SettingWithCopyWarning: \n",
      "A value is trying to be set on a copy of a slice from a DataFrame.\n",
      "Try using .loc[row_indexer,col_indexer] = value instead\n",
      "\n",
      "See the caveats in the documentation: http://pandas.pydata.org/pandas-docs/stable/user_guide/indexing.html#returning-a-view-versus-a-copy\n",
      "/usr/local/lib/python3.7/site-packages/ipykernel_launcher.py:55: SettingWithCopyWarning: \n",
      "A value is trying to be set on a copy of a slice from a DataFrame.\n",
      "Try using .loc[row_indexer,col_indexer] = value instead\n",
      "\n",
      "See the caveats in the documentation: http://pandas.pydata.org/pandas-docs/stable/user_guide/indexing.html#returning-a-view-versus-a-copy\n",
      "/usr/local/lib/python3.7/site-packages/ipykernel_launcher.py:56: SettingWithCopyWarning: \n",
      "A value is trying to be set on a copy of a slice from a DataFrame.\n",
      "Try using .loc[row_indexer,col_indexer] = value instead\n",
      "\n",
      "See the caveats in the documentation: http://pandas.pydata.org/pandas-docs/stable/user_guide/indexing.html#returning-a-view-versus-a-copy\n",
      "/usr/local/lib/python3.7/site-packages/ipykernel_launcher.py:57: SettingWithCopyWarning: \n",
      "A value is trying to be set on a copy of a slice from a DataFrame.\n",
      "Try using .loc[row_indexer,col_indexer] = value instead\n",
      "\n",
      "See the caveats in the documentation: http://pandas.pydata.org/pandas-docs/stable/user_guide/indexing.html#returning-a-view-versus-a-copy\n",
      "/usr/local/lib/python3.7/site-packages/ipykernel_launcher.py:58: SettingWithCopyWarning: \n",
      "A value is trying to be set on a copy of a slice from a DataFrame.\n",
      "Try using .loc[row_indexer,col_indexer] = value instead\n",
      "\n",
      "See the caveats in the documentation: http://pandas.pydata.org/pandas-docs/stable/user_guide/indexing.html#returning-a-view-versus-a-copy\n",
      "/usr/local/lib/python3.7/site-packages/ipykernel_launcher.py:59: SettingWithCopyWarning: \n",
      "A value is trying to be set on a copy of a slice from a DataFrame.\n",
      "Try using .loc[row_indexer,col_indexer] = value instead\n",
      "\n",
      "See the caveats in the documentation: http://pandas.pydata.org/pandas-docs/stable/user_guide/indexing.html#returning-a-view-versus-a-copy\n",
      "/usr/local/lib/python3.7/site-packages/ipykernel_launcher.py:33: SettingWithCopyWarning: \n",
      "A value is trying to be set on a copy of a slice from a DataFrame.\n",
      "Try using .loc[row_indexer,col_indexer] = value instead\n",
      "\n",
      "See the caveats in the documentation: http://pandas.pydata.org/pandas-docs/stable/user_guide/indexing.html#returning-a-view-versus-a-copy\n"
     ]
    },
    {
     "name": "stdout",
     "output_type": "stream",
     "text": [
      "Working on 1050\n",
      "Working on 1100\n",
      "Working on 1150\n",
      "Working on 1200\n",
      "Working on 1250\n",
      "Working on 1300\n",
      "Working on 1350\n",
      "Working on 1400\n",
      "Working on 1450\n",
      "Working on 1500\n",
      "Working on 1550\n",
      "Working on 1600\n",
      "Working on 1650\n",
      "Working on 1700\n",
      "Working on 1750\n",
      "Working on 1800\n",
      "Working on 1850\n",
      "Working on 1900\n",
      "Working on 1950\n"
     ]
    }
   ],
   "source": [
    "start_values = range(1000,2000,50)\n",
    "entropy_values = []\n",
    "\n",
    "for sv in start_values:\n",
    "    print(f'Working on {sv}')\n",
    "    d, r = simple_elo(train_data[train_data['season'] > 2000], active_teams, sv, 25)\n",
    "    entropy_values.append(\n",
    "        get_entropy_metric_for_df(d[d['season'] == 2018])\n",
    "    )"
   ]
  },
  {
   "cell_type": "code",
   "execution_count": 31,
   "metadata": {},
   "outputs": [
    {
     "data": {
      "text/plain": [
       "[<matplotlib.lines.Line2D at 0x1195417d0>]"
      ]
     },
     "execution_count": 31,
     "metadata": {},
     "output_type": "execute_result"
    },
    {
     "data": {
      "image/png": "[encoded data removed]",
      "text/plain": [
       "<Figure size 432x288 with 1 Axes>"
      ]
     },
     "metadata": {
      "needs_background": "light"
     },
     "output_type": "display_data"
    }
   ],
   "source": [
    "plt.plot(start_values, entropy_values, marker='o')"
   ]
  },
  {
   "cell_type": "markdown",
   "metadata": {},
   "source": [
    "That's an important check.  It shouldn't matter what value you start at, because everyone changes over time up and down."
   ]
  },
  {
   "cell_type": "code",
   "execution_count": 32,
   "metadata": {},
   "outputs": [],
   "source": [
    "def elo2(train_data, active_teams, start_rating = 1250, \n",
    "         reward = 25, home_field_advantage = 25):\n",
    "\n",
    "    ngames = len(train_data)\n",
    "\n",
    "    # Setup the output fields \n",
    "    elo1_pre = np.repeat(start_rating, ngames)\n",
    "    elo2_pre = np.repeat(start_rating, ngames)\n",
    "    elo1_post = np.repeat(start_rating, ngames)\n",
    "    elo2_post = np.repeat(start_rating, ngames)\n",
    "    elo_prob1 = np.repeat(0.5, ngames)\n",
    "    elo_prob2 = np.repeat(0.5, ngames)\n",
    "\n",
    "    current_ratings = { team:start_rating for team in active_teams }\n",
    "\n",
    "    for index in range(ngames):    \n",
    "\n",
    "        # Get the current matchup between two teams \n",
    "        game = train_data.iloc[index]\n",
    "        team1, team2 = game['team1'], game['team2']\n",
    "\n",
    "        # Get thier current ratings from our dictionary \n",
    "        rating1, rating2 = current_ratings[team1], current_ratings[team2]    \n",
    "        elo1_pre[index] = rating1\n",
    "        elo2_pre[index] = rating2\n",
    "\n",
    "        # Calculate the win probability for each team \n",
    "        prob1 = win_proba(rating1 + home_field_advantage, rating2)\n",
    "        prob2 = 1.0 - prob1\n",
    "        elo_prob1[index] = prob1\n",
    "        elo_prob2[index] = prob2\n",
    "\n",
    "        # Figure out if the home team won, lost, and drew the game \n",
    "        outcome = 0\n",
    "        if game['score1'] > game['score2']:\n",
    "            outcome = 1\n",
    "        elif game['score1'] < game['score2']:\n",
    "            outcome = -1\n",
    "\n",
    "        # Update the ELO of each team based on the results \n",
    "        if outcome == 1:\n",
    "            rating1 += reward * prob2\n",
    "            rating2 -= reward * prob2\n",
    "        elif outcome == -1:\n",
    "            rating1 -= reward * prob1\n",
    "            rating2 += reward * prob1\n",
    "\n",
    "        # Update the dataframe and current ratings\n",
    "        current_ratings[team1] = rating1\n",
    "        current_ratings[team2] = rating2\n",
    "\n",
    "        elo1_post[index] = rating1\n",
    "        elo2_post[index] = rating2\n",
    "\n",
    "    train_data['elo1_pre'] = elo1_pre\n",
    "    train_data['elo2_pre'] = elo2_pre\n",
    "    train_data['elo1_post'] = elo1_post\n",
    "    train_data['elo2_post'] = elo2_post\n",
    "    train_data['elo_prob1'] = elo_prob1\n",
    "    train_data['elo_prob2'] = elo_prob2\n",
    "    \n",
    "    return train_data, current_ratings "
   ]
  },
  {
   "cell_type": "code",
   "execution_count": 52,
   "metadata": {},
   "outputs": [
    {
     "name": "stdout",
     "output_type": "stream",
     "text": [
      "Working on -50\n"
     ]
    },
    {
     "name": "stderr",
     "output_type": "stream",
     "text": [
      "/usr/local/lib/python3.7/site-packages/ipykernel_launcher.py:55: SettingWithCopyWarning: \n",
      "A value is trying to be set on a copy of a slice from a DataFrame.\n",
      "Try using .loc[row_indexer,col_indexer] = value instead\n",
      "\n",
      "See the caveats in the documentation: http://pandas.pydata.org/pandas-docs/stable/user_guide/indexing.html#returning-a-view-versus-a-copy\n",
      "/usr/local/lib/python3.7/site-packages/ipykernel_launcher.py:56: SettingWithCopyWarning: \n",
      "A value is trying to be set on a copy of a slice from a DataFrame.\n",
      "Try using .loc[row_indexer,col_indexer] = value instead\n",
      "\n",
      "See the caveats in the documentation: http://pandas.pydata.org/pandas-docs/stable/user_guide/indexing.html#returning-a-view-versus-a-copy\n",
      "/usr/local/lib/python3.7/site-packages/ipykernel_launcher.py:57: SettingWithCopyWarning: \n",
      "A value is trying to be set on a copy of a slice from a DataFrame.\n",
      "Try using .loc[row_indexer,col_indexer] = value instead\n",
      "\n",
      "See the caveats in the documentation: http://pandas.pydata.org/pandas-docs/stable/user_guide/indexing.html#returning-a-view-versus-a-copy\n",
      "/usr/local/lib/python3.7/site-packages/ipykernel_launcher.py:58: SettingWithCopyWarning: \n",
      "A value is trying to be set on a copy of a slice from a DataFrame.\n",
      "Try using .loc[row_indexer,col_indexer] = value instead\n",
      "\n",
      "See the caveats in the documentation: http://pandas.pydata.org/pandas-docs/stable/user_guide/indexing.html#returning-a-view-versus-a-copy\n",
      "/usr/local/lib/python3.7/site-packages/ipykernel_launcher.py:59: SettingWithCopyWarning: \n",
      "A value is trying to be set on a copy of a slice from a DataFrame.\n",
      "Try using .loc[row_indexer,col_indexer] = value instead\n",
      "\n",
      "See the caveats in the documentation: http://pandas.pydata.org/pandas-docs/stable/user_guide/indexing.html#returning-a-view-versus-a-copy\n",
      "/usr/local/lib/python3.7/site-packages/ipykernel_launcher.py:60: SettingWithCopyWarning: \n",
      "A value is trying to be set on a copy of a slice from a DataFrame.\n",
      "Try using .loc[row_indexer,col_indexer] = value instead\n",
      "\n",
      "See the caveats in the documentation: http://pandas.pydata.org/pandas-docs/stable/user_guide/indexing.html#returning-a-view-versus-a-copy\n",
      "/usr/local/lib/python3.7/site-packages/ipykernel_launcher.py:33: SettingWithCopyWarning: \n",
      "A value is trying to be set on a copy of a slice from a DataFrame.\n",
      "Try using .loc[row_indexer,col_indexer] = value instead\n",
      "\n",
      "See the caveats in the documentation: http://pandas.pydata.org/pandas-docs/stable/user_guide/indexing.html#returning-a-view-versus-a-copy\n"
     ]
    },
    {
     "name": "stdout",
     "output_type": "stream",
     "text": [
      "Working on -45\n",
      "Working on -40\n",
      "Working on -35\n",
      "Working on -30\n",
      "Working on -25\n",
      "Working on -20\n",
      "Working on -15\n",
      "Working on -10\n",
      "Working on -5\n",
      "Working on 0\n",
      "Working on 5\n",
      "Working on 10\n",
      "Working on 15\n",
      "Working on 20\n",
      "Working on 25\n",
      "Working on 30\n",
      "Working on 35\n",
      "Working on 40\n",
      "Working on 45\n",
      "Working on 50\n",
      "Working on 55\n",
      "Working on 60\n",
      "Working on 65\n",
      "Working on 70\n",
      "Working on 75\n",
      "Working on 80\n",
      "Working on 85\n",
      "Working on 90\n",
      "Working on 95\n"
     ]
    }
   ],
   "source": [
    "home_field_advantages = range(-50,100,5)\n",
    "entropy_values = []\n",
    "\n",
    "for hfa in home_field_advantages:\n",
    "    print(f'Working on {hfa}')\n",
    "    train_idx = train_data['season'] > 2000\n",
    "    d, r = elo2(train_data[train_idx], active_teams, 1500, 25, hfa)\n",
    "    entropy_values.append(\n",
    "        get_entropy_metric_for_df(d[d['season'] > 2013])\n",
    "    )"
   ]
  },
  {
   "cell_type": "code",
   "execution_count": 53,
   "metadata": {},
   "outputs": [
    {
     "data": {
      "text/plain": [
       "Text(0, 0.5, 'Entropy')"
      ]
     },
     "execution_count": 53,
     "metadata": {},
     "output_type": "execute_result"
    },
    {
     "data": {
      "image/png": "[encoded data removed]",
      "text/plain": [
       "<Figure size 432x288 with 1 Axes>"
      ]
     },
     "metadata": {
      "needs_background": "light"
     },
     "output_type": "display_data"
    }
   ],
   "source": [
    "plt.plot(home_field_advantages, entropy_values, marker='o')\n",
    "plt.grid(alpha=0.2)\n",
    "plt.title('Home Field Advantage Bonus')\n",
    "plt.xlabel('Bonus')\n",
    "plt.ylabel('Entropy')"
   ]
  },
  {
   "cell_type": "code",
   "execution_count": 54,
   "metadata": {},
   "outputs": [
    {
     "data": {
      "text/plain": [
       "5"
      ]
     },
     "execution_count": 54,
     "metadata": {},
     "output_type": "execute_result"
    }
   ],
   "source": [
    "home_field_advantages[np.argmin(entropy_values)]"
   ]
  },
  {
   "cell_type": "code",
   "execution_count": 55,
   "metadata": {},
   "outputs": [
    {
     "name": "stderr",
     "output_type": "stream",
     "text": [
      "/usr/local/lib/python3.7/site-packages/ipykernel_launcher.py:1: SettingWithCopyWarning: \n",
      "A value is trying to be set on a copy of a slice from a DataFrame.\n",
      "Try using .loc[row_indexer,col_indexer] = value instead\n",
      "\n",
      "See the caveats in the documentation: http://pandas.pydata.org/pandas-docs/stable/user_guide/indexing.html#returning-a-view-versus-a-copy\n",
      "  \"\"\"Entry point for launching an IPython kernel.\n"
     ]
    }
   ],
   "source": [
    "train_data['outcome'] = np.array(train_data['score1'] > train_data['score2']).astype(int)"
   ]
  },
  {
   "cell_type": "code",
   "execution_count": 56,
   "metadata": {},
   "outputs": [
    {
     "data": {
      "text/plain": [
       "1    7681\n",
       "0    5946\n",
       "Name: outcome, dtype: int64"
      ]
     },
     "execution_count": 56,
     "metadata": {},
     "output_type": "execute_result"
    }
   ],
   "source": [
    "train_data['outcome'].value_counts()"
   ]
  },
  {
   "cell_type": "code",
   "execution_count": 57,
   "metadata": {},
   "outputs": [
    {
     "name": "stderr",
     "output_type": "stream",
     "text": [
      "/usr/local/lib/python3.7/site-packages/ipykernel_launcher.py:54: SettingWithCopyWarning: \n",
      "A value is trying to be set on a copy of a slice from a DataFrame.\n",
      "Try using .loc[row_indexer,col_indexer] = value instead\n",
      "\n",
      "See the caveats in the documentation: http://pandas.pydata.org/pandas-docs/stable/user_guide/indexing.html#returning-a-view-versus-a-copy\n",
      "/usr/local/lib/python3.7/site-packages/ipykernel_launcher.py:55: SettingWithCopyWarning: \n",
      "A value is trying to be set on a copy of a slice from a DataFrame.\n",
      "Try using .loc[row_indexer,col_indexer] = value instead\n",
      "\n",
      "See the caveats in the documentation: http://pandas.pydata.org/pandas-docs/stable/user_guide/indexing.html#returning-a-view-versus-a-copy\n",
      "/usr/local/lib/python3.7/site-packages/ipykernel_launcher.py:56: SettingWithCopyWarning: \n",
      "A value is trying to be set on a copy of a slice from a DataFrame.\n",
      "Try using .loc[row_indexer,col_indexer] = value instead\n",
      "\n",
      "See the caveats in the documentation: http://pandas.pydata.org/pandas-docs/stable/user_guide/indexing.html#returning-a-view-versus-a-copy\n",
      "/usr/local/lib/python3.7/site-packages/ipykernel_launcher.py:57: SettingWithCopyWarning: \n",
      "A value is trying to be set on a copy of a slice from a DataFrame.\n",
      "Try using .loc[row_indexer,col_indexer] = value instead\n",
      "\n",
      "See the caveats in the documentation: http://pandas.pydata.org/pandas-docs/stable/user_guide/indexing.html#returning-a-view-versus-a-copy\n",
      "/usr/local/lib/python3.7/site-packages/ipykernel_launcher.py:58: SettingWithCopyWarning: \n",
      "A value is trying to be set on a copy of a slice from a DataFrame.\n",
      "Try using .loc[row_indexer,col_indexer] = value instead\n",
      "\n",
      "See the caveats in the documentation: http://pandas.pydata.org/pandas-docs/stable/user_guide/indexing.html#returning-a-view-versus-a-copy\n",
      "/usr/local/lib/python3.7/site-packages/ipykernel_launcher.py:59: SettingWithCopyWarning: \n",
      "A value is trying to be set on a copy of a slice from a DataFrame.\n",
      "Try using .loc[row_indexer,col_indexer] = value instead\n",
      "\n",
      "See the caveats in the documentation: http://pandas.pydata.org/pandas-docs/stable/user_guide/indexing.html#returning-a-view-versus-a-copy\n"
     ]
    }
   ],
   "source": [
    "rated_data, ratings = simple_elo(train_data[train_data['season'] > 2000], active_teams, 1500, 25)"
   ]
  },
  {
   "cell_type": "code",
   "execution_count": 58,
   "metadata": {},
   "outputs": [
    {
     "name": "stderr",
     "output_type": "stream",
     "text": [
      "/usr/local/lib/python3.7/site-packages/ipykernel_launcher.py:1: SettingWithCopyWarning: \n",
      "A value is trying to be set on a copy of a slice from a DataFrame.\n",
      "Try using .loc[row_indexer,col_indexer] = value instead\n",
      "\n",
      "See the caveats in the documentation: http://pandas.pydata.org/pandas-docs/stable/user_guide/indexing.html#returning-a-view-versus-a-copy\n",
      "  \"\"\"Entry point for launching an IPython kernel.\n"
     ]
    }
   ],
   "source": [
    "rated_data['diff'] = rated_data['elo2_pre'] - rated_data['elo1_pre'] "
   ]
  },
  {
   "cell_type": "code",
   "execution_count": 68,
   "metadata": {},
   "outputs": [
    {
     "data": {
      "text/plain": [
       "Text(0.5, 0, 'ELO Difference')"
      ]
     },
     "execution_count": 68,
     "metadata": {},
     "output_type": "execute_result"
    },
    {
     "data": {
      "image/png": "[encoded data removed]",
      "text/plain": [
       "<Figure size 432x288 with 1 Axes>"
      ]
     },
     "metadata": {
      "needs_background": "light"
     },
     "output_type": "display_data"
    }
   ],
   "source": [
    "plt.hist(rated_data['diff'], edgecolor='k', color='orange', bins=20);\n",
    "plt.grid(alpha=0.2)\n",
    "plt.xlabel('ELO Difference')"
   ]
  },
  {
   "cell_type": "code",
   "execution_count": 60,
   "metadata": {},
   "outputs": [],
   "source": [
    "time_ratings_spread = rated_data.groupby('season').aggregate({\n",
    "    'diff' : [np.mean, np.std]\n",
    "}).reset_index()\n",
    "time_ratings_spread.columns = ['season', 'diff_mean', 'diff_std']"
   ]
  },
  {
   "cell_type": "code",
   "execution_count": 61,
   "metadata": {},
   "outputs": [
    {
     "data": {
      "image/png": "[encoded data removed]",
      "text/plain": [
       "<Figure size 576x432 with 1 Axes>"
      ]
     },
     "metadata": {
      "needs_background": "light"
     },
     "output_type": "display_data"
    }
   ],
   "source": [
    "plt.figure(figsize=(8,6))\n",
    "plt.errorbar(time_ratings_spread['season'], time_ratings_spread['diff_mean'],\n",
    "            time_ratings_spread['diff_std'], marker='o', linestyle='')\n",
    "plt.grid(alpha=0.2)"
   ]
  },
  {
   "cell_type": "code",
   "execution_count": 62,
   "metadata": {},
   "outputs": [
    {
     "data": {
      "text/plain": [
       "0.550199353253537"
      ]
     },
     "execution_count": 62,
     "metadata": {},
     "output_type": "execute_result"
    }
   ],
   "source": [
    "win_proba(35,0)"
   ]
  },
  {
   "cell_type": "code",
   "execution_count": 63,
   "metadata": {},
   "outputs": [],
   "source": [
    "close_games = rated_data[np.logical_and(\n",
    "    np.abs(rated_data['diff']) <= 35, rated_data['season'] > 2001)]"
   ]
  },
  {
   "cell_type": "code",
   "execution_count": 64,
   "metadata": {},
   "outputs": [
    {
     "data": {
      "image/png": "[encoded data removed]",
      "text/plain": [
       "<Figure size 432x288 with 1 Axes>"
      ]
     },
     "metadata": {
      "needs_background": "light"
     },
     "output_type": "display_data"
    }
   ],
   "source": [
    "plt.hist(close_games[close_games['outcome'] == 1]['diff'], \n",
    "         edgecolor='k', alpha=0.5, bins=np.linspace(-40, 40, 40));\n",
    "plt.hist(close_games[close_games['outcome'] == 0]['diff'], \n",
    "         edgecolor='k', alpha=0.5, bins=np.linspace(-40, 40, 40));"
   ]
  },
  {
   "cell_type": "code",
   "execution_count": 69,
   "metadata": {},
   "outputs": [
    {
     "data": {
      "text/plain": [
       "count    5054.000000\n",
       "mean       -0.147408\n",
       "std       134.417173\n",
       "min      -481.000000\n",
       "25%       -88.000000\n",
       "50%         0.000000\n",
       "75%        85.000000\n",
       "max       470.000000\n",
       "Name: diff, dtype: float64"
      ]
     },
     "execution_count": 69,
     "metadata": {},
     "output_type": "execute_result"
    }
   ],
   "source": [
    "rated_data['diff'].describe()"
   ]
  },
  {
   "cell_type": "code",
   "execution_count": 70,
   "metadata": {},
   "outputs": [
    {
     "name": "stderr",
     "output_type": "stream",
     "text": [
      "/usr/local/lib/python3.7/site-packages/ipykernel_launcher.py:1: SettingWithCopyWarning: \n",
      "A value is trying to be set on a copy of a slice from a DataFrame.\n",
      "Try using .loc[row_indexer,col_indexer] = value instead\n",
      "\n",
      "See the caveats in the documentation: http://pandas.pydata.org/pandas-docs/stable/user_guide/indexing.html#returning-a-view-versus-a-copy\n",
      "  \"\"\"Entry point for launching an IPython kernel.\n"
     ]
    }
   ],
   "source": [
    "rated_data['diff_bin'] = np.digitize(rated_data['diff'], np.arange(-40,50,10))"
   ]
  },
  {
   "cell_type": "code",
   "execution_count": 71,
   "metadata": {},
   "outputs": [
    {
     "data": {
      "text/html": [
       "<div>\n",
       "<style scoped>\n",
       "    .dataframe tbody tr th:only-of-type {\n",
       "        vertical-align: middle;\n",
       "    }\n",
       "\n",
       "    .dataframe tbody tr th {\n",
       "        vertical-align: top;\n",
       "    }\n",
       "\n",
       "    .dataframe thead th {\n",
       "        text-align: right;\n",
       "    }\n",
       "</style>\n",
       "<table border=\"1\" class=\"dataframe\">\n",
       "  <thead>\n",
       "    <tr style=\"text-align: right;\">\n",
       "      <th></th>\n",
       "      <th>outcome</th>\n",
       "      <th>diff</th>\n",
       "    </tr>\n",
       "    <tr>\n",
       "      <th>diff_bin</th>\n",
       "      <th></th>\n",
       "      <th></th>\n",
       "    </tr>\n",
       "  </thead>\n",
       "  <tbody>\n",
       "    <tr>\n",
       "      <td>0</td>\n",
       "      <td>0.694312</td>\n",
       "      <td>-134.878256</td>\n",
       "    </tr>\n",
       "    <tr>\n",
       "      <td>1</td>\n",
       "      <td>0.543353</td>\n",
       "      <td>-35.283237</td>\n",
       "    </tr>\n",
       "    <tr>\n",
       "      <td>2</td>\n",
       "      <td>0.543353</td>\n",
       "      <td>-25.236994</td>\n",
       "    </tr>\n",
       "    <tr>\n",
       "      <td>3</td>\n",
       "      <td>0.565789</td>\n",
       "      <td>-15.513158</td>\n",
       "    </tr>\n",
       "    <tr>\n",
       "      <td>4</td>\n",
       "      <td>0.522059</td>\n",
       "      <td>-5.227941</td>\n",
       "    </tr>\n",
       "    <tr>\n",
       "      <td>5</td>\n",
       "      <td>0.564516</td>\n",
       "      <td>3.564516</td>\n",
       "    </tr>\n",
       "    <tr>\n",
       "      <td>6</td>\n",
       "      <td>0.483660</td>\n",
       "      <td>14.215686</td>\n",
       "    </tr>\n",
       "    <tr>\n",
       "      <td>7</td>\n",
       "      <td>0.576923</td>\n",
       "      <td>24.412088</td>\n",
       "    </tr>\n",
       "    <tr>\n",
       "      <td>8</td>\n",
       "      <td>0.493421</td>\n",
       "      <td>34.480263</td>\n",
       "    </tr>\n",
       "    <tr>\n",
       "      <td>9</td>\n",
       "      <td>0.420150</td>\n",
       "      <td>136.108253</td>\n",
       "    </tr>\n",
       "  </tbody>\n",
       "</table>\n",
       "</div>"
      ],
      "text/plain": [
       "           outcome        diff\n",
       "diff_bin                      \n",
       "0         0.694312 -134.878256\n",
       "1         0.543353  -35.283237\n",
       "2         0.543353  -25.236994\n",
       "3         0.565789  -15.513158\n",
       "4         0.522059   -5.227941\n",
       "5         0.564516    3.564516\n",
       "6         0.483660   14.215686\n",
       "7         0.576923   24.412088\n",
       "8         0.493421   34.480263\n",
       "9         0.420150  136.108253"
      ]
     },
     "execution_count": 71,
     "metadata": {},
     "output_type": "execute_result"
    }
   ],
   "source": [
    "rated_data.groupby('diff_bin').aggregate({'outcome':'mean', 'diff':'mean'})"
   ]
  },
  {
   "cell_type": "code",
   "execution_count": 123,
   "metadata": {},
   "outputs": [
    {
     "name": "stderr",
     "output_type": "stream",
     "text": [
      "/usr/local/lib/python3.7/site-packages/ipykernel_launcher.py:55: SettingWithCopyWarning: \n",
      "A value is trying to be set on a copy of a slice from a DataFrame.\n",
      "Try using .loc[row_indexer,col_indexer] = value instead\n",
      "\n",
      "See the caveats in the documentation: http://pandas.pydata.org/pandas-docs/stable/user_guide/indexing.html#returning-a-view-versus-a-copy\n",
      "/usr/local/lib/python3.7/site-packages/ipykernel_launcher.py:56: SettingWithCopyWarning: \n",
      "A value is trying to be set on a copy of a slice from a DataFrame.\n",
      "Try using .loc[row_indexer,col_indexer] = value instead\n",
      "\n",
      "See the caveats in the documentation: http://pandas.pydata.org/pandas-docs/stable/user_guide/indexing.html#returning-a-view-versus-a-copy\n",
      "/usr/local/lib/python3.7/site-packages/ipykernel_launcher.py:57: SettingWithCopyWarning: \n",
      "A value is trying to be set on a copy of a slice from a DataFrame.\n",
      "Try using .loc[row_indexer,col_indexer] = value instead\n",
      "\n",
      "See the caveats in the documentation: http://pandas.pydata.org/pandas-docs/stable/user_guide/indexing.html#returning-a-view-versus-a-copy\n",
      "/usr/local/lib/python3.7/site-packages/ipykernel_launcher.py:58: SettingWithCopyWarning: \n",
      "A value is trying to be set on a copy of a slice from a DataFrame.\n",
      "Try using .loc[row_indexer,col_indexer] = value instead\n",
      "\n",
      "See the caveats in the documentation: http://pandas.pydata.org/pandas-docs/stable/user_guide/indexing.html#returning-a-view-versus-a-copy\n",
      "/usr/local/lib/python3.7/site-packages/ipykernel_launcher.py:59: SettingWithCopyWarning: \n",
      "A value is trying to be set on a copy of a slice from a DataFrame.\n",
      "Try using .loc[row_indexer,col_indexer] = value instead\n",
      "\n",
      "See the caveats in the documentation: http://pandas.pydata.org/pandas-docs/stable/user_guide/indexing.html#returning-a-view-versus-a-copy\n",
      "/usr/local/lib/python3.7/site-packages/ipykernel_launcher.py:60: SettingWithCopyWarning: \n",
      "A value is trying to be set on a copy of a slice from a DataFrame.\n",
      "Try using .loc[row_indexer,col_indexer] = value instead\n",
      "\n",
      "See the caveats in the documentation: http://pandas.pydata.org/pandas-docs/stable/user_guide/indexing.html#returning-a-view-versus-a-copy\n"
     ]
    }
   ],
   "source": [
    "final_data, final_ratings = elo2(train_data, active_teams, start_rating=1500, \n",
    "         reward=25, home_field_advantage=25)"
   ]
  },
  {
   "cell_type": "code",
   "execution_count": 124,
   "metadata": {},
   "outputs": [
    {
     "data": {
      "text/html": [
       "<div>\n",
       "<style scoped>\n",
       "    .dataframe tbody tr th:only-of-type {\n",
       "        vertical-align: middle;\n",
       "    }\n",
       "\n",
       "    .dataframe tbody tr th {\n",
       "        vertical-align: top;\n",
       "    }\n",
       "\n",
       "    .dataframe thead th {\n",
       "        text-align: right;\n",
       "    }\n",
       "</style>\n",
       "<table border=\"1\" class=\"dataframe\">\n",
       "  <thead>\n",
       "    <tr style=\"text-align: right;\">\n",
       "      <th></th>\n",
       "      <th>team1</th>\n",
       "      <th>team2</th>\n",
       "      <th>score1</th>\n",
       "      <th>score2</th>\n",
       "      <th>season</th>\n",
       "      <th>date</th>\n",
       "      <th>outcome</th>\n",
       "      <th>elo1_pre</th>\n",
       "      <th>elo2_pre</th>\n",
       "      <th>elo1_post</th>\n",
       "      <th>elo2_post</th>\n",
       "      <th>elo_prob1</th>\n",
       "      <th>elo_prob2</th>\n",
       "    </tr>\n",
       "  </thead>\n",
       "  <tbody>\n",
       "    <tr>\n",
       "      <td>2903</td>\n",
       "      <td>NE</td>\n",
       "      <td>DEN</td>\n",
       "      <td>10.0</td>\n",
       "      <td>13.0</td>\n",
       "      <td>1960</td>\n",
       "      <td>1960-09-09</td>\n",
       "      <td>0</td>\n",
       "      <td>1500</td>\n",
       "      <td>1500</td>\n",
       "      <td>1486</td>\n",
       "      <td>1513</td>\n",
       "      <td>0.535916</td>\n",
       "      <td>0.464084</td>\n",
       "    </tr>\n",
       "    <tr>\n",
       "      <td>2904</td>\n",
       "      <td>LAC</td>\n",
       "      <td>KC</td>\n",
       "      <td>21.0</td>\n",
       "      <td>20.0</td>\n",
       "      <td>1960</td>\n",
       "      <td>1960-09-10</td>\n",
       "      <td>1</td>\n",
       "      <td>1500</td>\n",
       "      <td>1500</td>\n",
       "      <td>1511</td>\n",
       "      <td>1488</td>\n",
       "      <td>0.535916</td>\n",
       "      <td>0.464084</td>\n",
       "    </tr>\n",
       "    <tr>\n",
       "      <td>2905</td>\n",
       "      <td>OAK</td>\n",
       "      <td>TEN</td>\n",
       "      <td>22.0</td>\n",
       "      <td>37.0</td>\n",
       "      <td>1960</td>\n",
       "      <td>1960-09-11</td>\n",
       "      <td>0</td>\n",
       "      <td>1500</td>\n",
       "      <td>1500</td>\n",
       "      <td>1486</td>\n",
       "      <td>1513</td>\n",
       "      <td>0.535916</td>\n",
       "      <td>0.464084</td>\n",
       "    </tr>\n",
       "    <tr>\n",
       "      <td>2906</td>\n",
       "      <td>NYJ</td>\n",
       "      <td>BUF</td>\n",
       "      <td>27.0</td>\n",
       "      <td>3.0</td>\n",
       "      <td>1960</td>\n",
       "      <td>1960-09-11</td>\n",
       "      <td>1</td>\n",
       "      <td>1500</td>\n",
       "      <td>1500</td>\n",
       "      <td>1511</td>\n",
       "      <td>1488</td>\n",
       "      <td>0.535916</td>\n",
       "      <td>0.464084</td>\n",
       "    </tr>\n",
       "    <tr>\n",
       "      <td>2907</td>\n",
       "      <td>OAK</td>\n",
       "      <td>KC</td>\n",
       "      <td>16.0</td>\n",
       "      <td>34.0</td>\n",
       "      <td>1960</td>\n",
       "      <td>1960-09-16</td>\n",
       "      <td>0</td>\n",
       "      <td>1486</td>\n",
       "      <td>1488</td>\n",
       "      <td>1473</td>\n",
       "      <td>1501</td>\n",
       "      <td>0.533344</td>\n",
       "      <td>0.466656</td>\n",
       "    </tr>\n",
       "    <tr>\n",
       "      <td>...</td>\n",
       "      <td>...</td>\n",
       "      <td>...</td>\n",
       "      <td>...</td>\n",
       "      <td>...</td>\n",
       "      <td>...</td>\n",
       "      <td>...</td>\n",
       "      <td>...</td>\n",
       "      <td>...</td>\n",
       "      <td>...</td>\n",
       "      <td>...</td>\n",
       "      <td>...</td>\n",
       "      <td>...</td>\n",
       "      <td>...</td>\n",
       "    </tr>\n",
       "    <tr>\n",
       "      <td>16525</td>\n",
       "      <td>CAR</td>\n",
       "      <td>NO</td>\n",
       "      <td>NaN</td>\n",
       "      <td>NaN</td>\n",
       "      <td>2019</td>\n",
       "      <td>2019-12-29</td>\n",
       "      <td>0</td>\n",
       "      <td>1527</td>\n",
       "      <td>1651</td>\n",
       "      <td>1527</td>\n",
       "      <td>1651</td>\n",
       "      <td>0.360992</td>\n",
       "      <td>0.639008</td>\n",
       "    </tr>\n",
       "    <tr>\n",
       "      <td>16526</td>\n",
       "      <td>MIN</td>\n",
       "      <td>CHI</td>\n",
       "      <td>NaN</td>\n",
       "      <td>NaN</td>\n",
       "      <td>2019</td>\n",
       "      <td>2019-12-29</td>\n",
       "      <td>0</td>\n",
       "      <td>1569</td>\n",
       "      <td>1504</td>\n",
       "      <td>1569</td>\n",
       "      <td>1504</td>\n",
       "      <td>0.626603</td>\n",
       "      <td>0.373397</td>\n",
       "    </tr>\n",
       "    <tr>\n",
       "      <td>16527</td>\n",
       "      <td>SEA</td>\n",
       "      <td>SF</td>\n",
       "      <td>NaN</td>\n",
       "      <td>NaN</td>\n",
       "      <td>2019</td>\n",
       "      <td>2019-12-29</td>\n",
       "      <td>0</td>\n",
       "      <td>1612</td>\n",
       "      <td>1432</td>\n",
       "      <td>1612</td>\n",
       "      <td>1432</td>\n",
       "      <td>0.765424</td>\n",
       "      <td>0.234576</td>\n",
       "    </tr>\n",
       "    <tr>\n",
       "      <td>16528</td>\n",
       "      <td>DEN</td>\n",
       "      <td>OAK</td>\n",
       "      <td>NaN</td>\n",
       "      <td>NaN</td>\n",
       "      <td>2019</td>\n",
       "      <td>2019-12-29</td>\n",
       "      <td>0</td>\n",
       "      <td>1431</td>\n",
       "      <td>1439</td>\n",
       "      <td>1431</td>\n",
       "      <td>1439</td>\n",
       "      <td>0.524471</td>\n",
       "      <td>0.475529</td>\n",
       "    </tr>\n",
       "    <tr>\n",
       "      <td>16529</td>\n",
       "      <td>LAR</td>\n",
       "      <td>ARI</td>\n",
       "      <td>NaN</td>\n",
       "      <td>NaN</td>\n",
       "      <td>2019</td>\n",
       "      <td>2019-12-29</td>\n",
       "      <td>0</td>\n",
       "      <td>1596</td>\n",
       "      <td>1410</td>\n",
       "      <td>1596</td>\n",
       "      <td>1410</td>\n",
       "      <td>0.771087</td>\n",
       "      <td>0.228913</td>\n",
       "    </tr>\n",
       "  </tbody>\n",
       "</table>\n",
       "<p>13627 rows × 13 columns</p>\n",
       "</div>"
      ],
      "text/plain": [
       "      team1 team2  score1  score2  season       date  outcome  elo1_pre  \\\n",
       "2903     NE   DEN    10.0    13.0    1960 1960-09-09        0      1500   \n",
       "2904    LAC    KC    21.0    20.0    1960 1960-09-10        1      1500   \n",
       "2905    OAK   TEN    22.0    37.0    1960 1960-09-11        0      1500   \n",
       "2906    NYJ   BUF    27.0     3.0    1960 1960-09-11        1      1500   \n",
       "2907    OAK    KC    16.0    34.0    1960 1960-09-16        0      1486   \n",
       "...     ...   ...     ...     ...     ...        ...      ...       ...   \n",
       "16525   CAR    NO     NaN     NaN    2019 2019-12-29        0      1527   \n",
       "16526   MIN   CHI     NaN     NaN    2019 2019-12-29        0      1569   \n",
       "16527   SEA    SF     NaN     NaN    2019 2019-12-29        0      1612   \n",
       "16528   DEN   OAK     NaN     NaN    2019 2019-12-29        0      1431   \n",
       "16529   LAR   ARI     NaN     NaN    2019 2019-12-29        0      1596   \n",
       "\n",
       "       elo2_pre  elo1_post  elo2_post  elo_prob1  elo_prob2  \n",
       "2903       1500       1486       1513   0.535916   0.464084  \n",
       "2904       1500       1511       1488   0.535916   0.464084  \n",
       "2905       1500       1486       1513   0.535916   0.464084  \n",
       "2906       1500       1511       1488   0.535916   0.464084  \n",
       "2907       1488       1473       1501   0.533344   0.466656  \n",
       "...         ...        ...        ...        ...        ...  \n",
       "16525      1651       1527       1651   0.360992   0.639008  \n",
       "16526      1504       1569       1504   0.626603   0.373397  \n",
       "16527      1432       1612       1432   0.765424   0.234576  \n",
       "16528      1439       1431       1439   0.524471   0.475529  \n",
       "16529      1410       1596       1410   0.771087   0.228913  \n",
       "\n",
       "[13627 rows x 13 columns]"
      ]
     },
     "execution_count": 124,
     "metadata": {},
     "output_type": "execute_result"
    }
   ],
   "source": [
    "final_data"
   ]
  },
  {
   "cell_type": "code",
   "execution_count": 125,
   "metadata": {},
   "outputs": [
    {
     "data": {
      "text/plain": [
       "{'NYJ': 1329.2057255244845,\n",
       " 'BAL': 1541.2701437680653,\n",
       " 'CAR': 1527.4295934021677,\n",
       " 'JAX': 1402.785402176396,\n",
       " 'SEA': 1612.5241266819742,\n",
       " 'MIN': 1569.408583258065,\n",
       " 'GB': 1527.9006433758798,\n",
       " 'DET': 1505.1535294643156,\n",
       " 'DAL': 1576.5553099973613,\n",
       " 'IND': 1522.259402211263,\n",
       " 'TB': 1398.9440908784118,\n",
       " 'LAR': 1596.1815973849173,\n",
       " 'NE': 1763.7637949635957,\n",
       " 'PIT': 1579.3938997852708,\n",
       " 'BUF': 1498.3414389744025,\n",
       " 'WSH': 1408.4087440221492,\n",
       " 'CLE': 1321.5809473318977,\n",
       " 'CHI': 1504.480232823106,\n",
       " 'NO': 1651.633183846111,\n",
       " 'LAC': 1536.7520257275862,\n",
       " 'DEN': 1431.7143942462992,\n",
       " 'MIA': 1421.8564878858795,\n",
       " 'CIN': 1397.841358261884,\n",
       " 'OAK': 1439.69693835784,\n",
       " 'PHI': 1592.0317820190317,\n",
       " 'SF': 1432.0768103173796,\n",
       " 'HOU': 1501.0454572957192,\n",
       " 'KC': 1631.8297273256562,\n",
       " 'TEN': 1470.006749684376,\n",
       " 'NYG': 1395.7417850997003,\n",
       " 'ATL': 1501.9776934539477,\n",
       " 'ARI': 1410.2084004548653}"
      ]
     },
     "execution_count": 125,
     "metadata": {},
     "output_type": "execute_result"
    }
   ],
   "source": [
    "final_ratings"
   ]
  },
  {
   "cell_type": "code",
   "execution_count": 126,
   "metadata": {},
   "outputs": [
    {
     "data": {
      "text/html": [
       "<div>\n",
       "<style scoped>\n",
       "    .dataframe tbody tr th:only-of-type {\n",
       "        vertical-align: middle;\n",
       "    }\n",
       "\n",
       "    .dataframe tbody tr th {\n",
       "        vertical-align: top;\n",
       "    }\n",
       "\n",
       "    .dataframe thead th {\n",
       "        text-align: right;\n",
       "    }\n",
       "</style>\n",
       "<table border=\"1\" class=\"dataframe\">\n",
       "  <thead>\n",
       "    <tr style=\"text-align: right;\">\n",
       "      <th></th>\n",
       "      <th>team1</th>\n",
       "      <th>team2</th>\n",
       "      <th>score1</th>\n",
       "      <th>score2</th>\n",
       "      <th>season</th>\n",
       "      <th>date</th>\n",
       "      <th>outcome</th>\n",
       "      <th>elo1_pre</th>\n",
       "      <th>elo2_pre</th>\n",
       "      <th>elo1_post</th>\n",
       "      <th>elo2_post</th>\n",
       "      <th>elo_prob1</th>\n",
       "      <th>elo_prob2</th>\n",
       "    </tr>\n",
       "  </thead>\n",
       "  <tbody>\n",
       "    <tr>\n",
       "      <td>16274</td>\n",
       "      <td>CHI</td>\n",
       "      <td>GB</td>\n",
       "      <td>3.0</td>\n",
       "      <td>10.0</td>\n",
       "      <td>2019</td>\n",
       "      <td>2019-09-05</td>\n",
       "      <td>0</td>\n",
       "      <td>1495</td>\n",
       "      <td>1485</td>\n",
       "      <td>1481</td>\n",
       "      <td>1499</td>\n",
       "      <td>0.549659</td>\n",
       "      <td>0.450341</td>\n",
       "    </tr>\n",
       "    <tr>\n",
       "      <td>16275</td>\n",
       "      <td>JAX</td>\n",
       "      <td>KC</td>\n",
       "      <td>26.0</td>\n",
       "      <td>40.0</td>\n",
       "      <td>2019</td>\n",
       "      <td>2019-09-08</td>\n",
       "      <td>0</td>\n",
       "      <td>1395</td>\n",
       "      <td>1619</td>\n",
       "      <td>1389</td>\n",
       "      <td>1625</td>\n",
       "      <td>0.241254</td>\n",
       "      <td>0.758746</td>\n",
       "    </tr>\n",
       "    <tr>\n",
       "      <td>16276</td>\n",
       "      <td>CLE</td>\n",
       "      <td>TEN</td>\n",
       "      <td>13.0</td>\n",
       "      <td>43.0</td>\n",
       "      <td>2019</td>\n",
       "      <td>2019-09-08</td>\n",
       "      <td>0</td>\n",
       "      <td>1305</td>\n",
       "      <td>1489</td>\n",
       "      <td>1298</td>\n",
       "      <td>1496</td>\n",
       "      <td>0.286134</td>\n",
       "      <td>0.713866</td>\n",
       "    </tr>\n",
       "    <tr>\n",
       "      <td>16277</td>\n",
       "      <td>MIN</td>\n",
       "      <td>ATL</td>\n",
       "      <td>28.0</td>\n",
       "      <td>12.0</td>\n",
       "      <td>2019</td>\n",
       "      <td>2019-09-08</td>\n",
       "      <td>1</td>\n",
       "      <td>1573</td>\n",
       "      <td>1538</td>\n",
       "      <td>1583</td>\n",
       "      <td>1528</td>\n",
       "      <td>0.584477</td>\n",
       "      <td>0.415523</td>\n",
       "    </tr>\n",
       "    <tr>\n",
       "      <td>16278</td>\n",
       "      <td>NYJ</td>\n",
       "      <td>BUF</td>\n",
       "      <td>16.0</td>\n",
       "      <td>17.0</td>\n",
       "      <td>2019</td>\n",
       "      <td>2019-09-08</td>\n",
       "      <td>0</td>\n",
       "      <td>1360</td>\n",
       "      <td>1459</td>\n",
       "      <td>1350</td>\n",
       "      <td>1469</td>\n",
       "      <td>0.394221</td>\n",
       "      <td>0.605779</td>\n",
       "    </tr>\n",
       "    <tr>\n",
       "      <td>...</td>\n",
       "      <td>...</td>\n",
       "      <td>...</td>\n",
       "      <td>...</td>\n",
       "      <td>...</td>\n",
       "      <td>...</td>\n",
       "      <td>...</td>\n",
       "      <td>...</td>\n",
       "      <td>...</td>\n",
       "      <td>...</td>\n",
       "      <td>...</td>\n",
       "      <td>...</td>\n",
       "      <td>...</td>\n",
       "      <td>...</td>\n",
       "    </tr>\n",
       "    <tr>\n",
       "      <td>16525</td>\n",
       "      <td>CAR</td>\n",
       "      <td>NO</td>\n",
       "      <td>NaN</td>\n",
       "      <td>NaN</td>\n",
       "      <td>2019</td>\n",
       "      <td>2019-12-29</td>\n",
       "      <td>0</td>\n",
       "      <td>1527</td>\n",
       "      <td>1651</td>\n",
       "      <td>1527</td>\n",
       "      <td>1651</td>\n",
       "      <td>0.360992</td>\n",
       "      <td>0.639008</td>\n",
       "    </tr>\n",
       "    <tr>\n",
       "      <td>16526</td>\n",
       "      <td>MIN</td>\n",
       "      <td>CHI</td>\n",
       "      <td>NaN</td>\n",
       "      <td>NaN</td>\n",
       "      <td>2019</td>\n",
       "      <td>2019-12-29</td>\n",
       "      <td>0</td>\n",
       "      <td>1569</td>\n",
       "      <td>1504</td>\n",
       "      <td>1569</td>\n",
       "      <td>1504</td>\n",
       "      <td>0.626603</td>\n",
       "      <td>0.373397</td>\n",
       "    </tr>\n",
       "    <tr>\n",
       "      <td>16527</td>\n",
       "      <td>SEA</td>\n",
       "      <td>SF</td>\n",
       "      <td>NaN</td>\n",
       "      <td>NaN</td>\n",
       "      <td>2019</td>\n",
       "      <td>2019-12-29</td>\n",
       "      <td>0</td>\n",
       "      <td>1612</td>\n",
       "      <td>1432</td>\n",
       "      <td>1612</td>\n",
       "      <td>1432</td>\n",
       "      <td>0.765424</td>\n",
       "      <td>0.234576</td>\n",
       "    </tr>\n",
       "    <tr>\n",
       "      <td>16528</td>\n",
       "      <td>DEN</td>\n",
       "      <td>OAK</td>\n",
       "      <td>NaN</td>\n",
       "      <td>NaN</td>\n",
       "      <td>2019</td>\n",
       "      <td>2019-12-29</td>\n",
       "      <td>0</td>\n",
       "      <td>1431</td>\n",
       "      <td>1439</td>\n",
       "      <td>1431</td>\n",
       "      <td>1439</td>\n",
       "      <td>0.524471</td>\n",
       "      <td>0.475529</td>\n",
       "    </tr>\n",
       "    <tr>\n",
       "      <td>16529</td>\n",
       "      <td>LAR</td>\n",
       "      <td>ARI</td>\n",
       "      <td>NaN</td>\n",
       "      <td>NaN</td>\n",
       "      <td>2019</td>\n",
       "      <td>2019-12-29</td>\n",
       "      <td>0</td>\n",
       "      <td>1596</td>\n",
       "      <td>1410</td>\n",
       "      <td>1596</td>\n",
       "      <td>1410</td>\n",
       "      <td>0.771087</td>\n",
       "      <td>0.228913</td>\n",
       "    </tr>\n",
       "  </tbody>\n",
       "</table>\n",
       "<p>256 rows × 13 columns</p>\n",
       "</div>"
      ],
      "text/plain": [
       "      team1 team2  score1  score2  season       date  outcome  elo1_pre  \\\n",
       "16274   CHI    GB     3.0    10.0    2019 2019-09-05        0      1495   \n",
       "16275   JAX    KC    26.0    40.0    2019 2019-09-08        0      1395   \n",
       "16276   CLE   TEN    13.0    43.0    2019 2019-09-08        0      1305   \n",
       "16277   MIN   ATL    28.0    12.0    2019 2019-09-08        1      1573   \n",
       "16278   NYJ   BUF    16.0    17.0    2019 2019-09-08        0      1360   \n",
       "...     ...   ...     ...     ...     ...        ...      ...       ...   \n",
       "16525   CAR    NO     NaN     NaN    2019 2019-12-29        0      1527   \n",
       "16526   MIN   CHI     NaN     NaN    2019 2019-12-29        0      1569   \n",
       "16527   SEA    SF     NaN     NaN    2019 2019-12-29        0      1612   \n",
       "16528   DEN   OAK     NaN     NaN    2019 2019-12-29        0      1431   \n",
       "16529   LAR   ARI     NaN     NaN    2019 2019-12-29        0      1596   \n",
       "\n",
       "       elo2_pre  elo1_post  elo2_post  elo_prob1  elo_prob2  \n",
       "16274      1485       1481       1499   0.549659   0.450341  \n",
       "16275      1619       1389       1625   0.241254   0.758746  \n",
       "16276      1489       1298       1496   0.286134   0.713866  \n",
       "16277      1538       1583       1528   0.584477   0.415523  \n",
       "16278      1459       1350       1469   0.394221   0.605779  \n",
       "...         ...        ...        ...        ...        ...  \n",
       "16525      1651       1527       1651   0.360992   0.639008  \n",
       "16526      1504       1569       1504   0.626603   0.373397  \n",
       "16527      1432       1612       1432   0.765424   0.234576  \n",
       "16528      1439       1431       1439   0.524471   0.475529  \n",
       "16529      1410       1596       1410   0.771087   0.228913  \n",
       "\n",
       "[256 rows x 13 columns]"
      ]
     },
     "execution_count": 126,
     "metadata": {},
     "output_type": "execute_result"
    }
   ],
   "source": [
    "final_data[final_data['season'] > 2018]"
   ]
  },
  {
   "cell_type": "code",
   "execution_count": 127,
   "metadata": {},
   "outputs": [],
   "source": [
    "from datetime import date"
   ]
  },
  {
   "cell_type": "code",
   "execution_count": 128,
   "metadata": {},
   "outputs": [],
   "source": [
    "today = date.today()"
   ]
  },
  {
   "cell_type": "code",
   "execution_count": 129,
   "metadata": {},
   "outputs": [
    {
     "name": "stdout",
     "output_type": "stream",
     "text": [
      "Today's date: 2019-10-12\n"
     ]
    }
   ],
   "source": [
    "print(\"Today's date:\", today)"
   ]
  },
  {
   "cell_type": "code",
   "execution_count": 130,
   "metadata": {},
   "outputs": [
    {
     "data": {
      "text/html": [
       "<div>\n",
       "<style scoped>\n",
       "    .dataframe tbody tr th:only-of-type {\n",
       "        vertical-align: middle;\n",
       "    }\n",
       "\n",
       "    .dataframe tbody tr th {\n",
       "        vertical-align: top;\n",
       "    }\n",
       "\n",
       "    .dataframe thead th {\n",
       "        text-align: right;\n",
       "    }\n",
       "</style>\n",
       "<table border=\"1\" class=\"dataframe\">\n",
       "  <thead>\n",
       "    <tr style=\"text-align: right;\">\n",
       "      <th></th>\n",
       "      <th>team1</th>\n",
       "      <th>team2</th>\n",
       "      <th>score1</th>\n",
       "      <th>score2</th>\n",
       "      <th>season</th>\n",
       "      <th>date</th>\n",
       "      <th>outcome</th>\n",
       "      <th>elo1_pre</th>\n",
       "      <th>elo2_pre</th>\n",
       "      <th>elo1_post</th>\n",
       "      <th>elo2_post</th>\n",
       "      <th>elo_prob1</th>\n",
       "      <th>elo_prob2</th>\n",
       "    </tr>\n",
       "  </thead>\n",
       "  <tbody>\n",
       "    <tr>\n",
       "      <td>16353</td>\n",
       "      <td>TB</td>\n",
       "      <td>CAR</td>\n",
       "      <td>NaN</td>\n",
       "      <td>NaN</td>\n",
       "      <td>2019</td>\n",
       "      <td>2019-10-13</td>\n",
       "      <td>0</td>\n",
       "      <td>1398</td>\n",
       "      <td>1527</td>\n",
       "      <td>1398</td>\n",
       "      <td>1527</td>\n",
       "      <td>0.355326</td>\n",
       "      <td>0.644674</td>\n",
       "    </tr>\n",
       "    <tr>\n",
       "      <td>16354</td>\n",
       "      <td>MIA</td>\n",
       "      <td>WSH</td>\n",
       "      <td>NaN</td>\n",
       "      <td>NaN</td>\n",
       "      <td>2019</td>\n",
       "      <td>2019-10-13</td>\n",
       "      <td>0</td>\n",
       "      <td>1421</td>\n",
       "      <td>1408</td>\n",
       "      <td>1421</td>\n",
       "      <td>1408</td>\n",
       "      <td>0.555106</td>\n",
       "      <td>0.444894</td>\n",
       "    </tr>\n",
       "    <tr>\n",
       "      <td>16355</td>\n",
       "      <td>BAL</td>\n",
       "      <td>CIN</td>\n",
       "      <td>NaN</td>\n",
       "      <td>NaN</td>\n",
       "      <td>2019</td>\n",
       "      <td>2019-10-13</td>\n",
       "      <td>0</td>\n",
       "      <td>1541</td>\n",
       "      <td>1397</td>\n",
       "      <td>1541</td>\n",
       "      <td>1397</td>\n",
       "      <td>0.725031</td>\n",
       "      <td>0.274969</td>\n",
       "    </tr>\n",
       "    <tr>\n",
       "      <td>16356</td>\n",
       "      <td>KC</td>\n",
       "      <td>HOU</td>\n",
       "      <td>NaN</td>\n",
       "      <td>NaN</td>\n",
       "      <td>2019</td>\n",
       "      <td>2019-10-13</td>\n",
       "      <td>0</td>\n",
       "      <td>1631</td>\n",
       "      <td>1501</td>\n",
       "      <td>1631</td>\n",
       "      <td>1501</td>\n",
       "      <td>0.710285</td>\n",
       "      <td>0.289715</td>\n",
       "    </tr>\n",
       "    <tr>\n",
       "      <td>16357</td>\n",
       "      <td>CLE</td>\n",
       "      <td>SEA</td>\n",
       "      <td>NaN</td>\n",
       "      <td>NaN</td>\n",
       "      <td>2019</td>\n",
       "      <td>2019-10-13</td>\n",
       "      <td>0</td>\n",
       "      <td>1321</td>\n",
       "      <td>1612</td>\n",
       "      <td>1321</td>\n",
       "      <td>1612</td>\n",
       "      <td>0.177863</td>\n",
       "      <td>0.822137</td>\n",
       "    </tr>\n",
       "    <tr>\n",
       "      <td>...</td>\n",
       "      <td>...</td>\n",
       "      <td>...</td>\n",
       "      <td>...</td>\n",
       "      <td>...</td>\n",
       "      <td>...</td>\n",
       "      <td>...</td>\n",
       "      <td>...</td>\n",
       "      <td>...</td>\n",
       "      <td>...</td>\n",
       "      <td>...</td>\n",
       "      <td>...</td>\n",
       "      <td>...</td>\n",
       "      <td>...</td>\n",
       "    </tr>\n",
       "    <tr>\n",
       "      <td>16525</td>\n",
       "      <td>CAR</td>\n",
       "      <td>NO</td>\n",
       "      <td>NaN</td>\n",
       "      <td>NaN</td>\n",
       "      <td>2019</td>\n",
       "      <td>2019-12-29</td>\n",
       "      <td>0</td>\n",
       "      <td>1527</td>\n",
       "      <td>1651</td>\n",
       "      <td>1527</td>\n",
       "      <td>1651</td>\n",
       "      <td>0.360992</td>\n",
       "      <td>0.639008</td>\n",
       "    </tr>\n",
       "    <tr>\n",
       "      <td>16526</td>\n",
       "      <td>MIN</td>\n",
       "      <td>CHI</td>\n",
       "      <td>NaN</td>\n",
       "      <td>NaN</td>\n",
       "      <td>2019</td>\n",
       "      <td>2019-12-29</td>\n",
       "      <td>0</td>\n",
       "      <td>1569</td>\n",
       "      <td>1504</td>\n",
       "      <td>1569</td>\n",
       "      <td>1504</td>\n",
       "      <td>0.626603</td>\n",
       "      <td>0.373397</td>\n",
       "    </tr>\n",
       "    <tr>\n",
       "      <td>16527</td>\n",
       "      <td>SEA</td>\n",
       "      <td>SF</td>\n",
       "      <td>NaN</td>\n",
       "      <td>NaN</td>\n",
       "      <td>2019</td>\n",
       "      <td>2019-12-29</td>\n",
       "      <td>0</td>\n",
       "      <td>1612</td>\n",
       "      <td>1432</td>\n",
       "      <td>1612</td>\n",
       "      <td>1432</td>\n",
       "      <td>0.765424</td>\n",
       "      <td>0.234576</td>\n",
       "    </tr>\n",
       "    <tr>\n",
       "      <td>16528</td>\n",
       "      <td>DEN</td>\n",
       "      <td>OAK</td>\n",
       "      <td>NaN</td>\n",
       "      <td>NaN</td>\n",
       "      <td>2019</td>\n",
       "      <td>2019-12-29</td>\n",
       "      <td>0</td>\n",
       "      <td>1431</td>\n",
       "      <td>1439</td>\n",
       "      <td>1431</td>\n",
       "      <td>1439</td>\n",
       "      <td>0.524471</td>\n",
       "      <td>0.475529</td>\n",
       "    </tr>\n",
       "    <tr>\n",
       "      <td>16529</td>\n",
       "      <td>LAR</td>\n",
       "      <td>ARI</td>\n",
       "      <td>NaN</td>\n",
       "      <td>NaN</td>\n",
       "      <td>2019</td>\n",
       "      <td>2019-12-29</td>\n",
       "      <td>0</td>\n",
       "      <td>1596</td>\n",
       "      <td>1410</td>\n",
       "      <td>1596</td>\n",
       "      <td>1410</td>\n",
       "      <td>0.771087</td>\n",
       "      <td>0.228913</td>\n",
       "    </tr>\n",
       "  </tbody>\n",
       "</table>\n",
       "<p>177 rows × 13 columns</p>\n",
       "</div>"
      ],
      "text/plain": [
       "      team1 team2  score1  score2  season       date  outcome  elo1_pre  \\\n",
       "16353    TB   CAR     NaN     NaN    2019 2019-10-13        0      1398   \n",
       "16354   MIA   WSH     NaN     NaN    2019 2019-10-13        0      1421   \n",
       "16355   BAL   CIN     NaN     NaN    2019 2019-10-13        0      1541   \n",
       "16356    KC   HOU     NaN     NaN    2019 2019-10-13        0      1631   \n",
       "16357   CLE   SEA     NaN     NaN    2019 2019-10-13        0      1321   \n",
       "...     ...   ...     ...     ...     ...        ...      ...       ...   \n",
       "16525   CAR    NO     NaN     NaN    2019 2019-12-29        0      1527   \n",
       "16526   MIN   CHI     NaN     NaN    2019 2019-12-29        0      1569   \n",
       "16527   SEA    SF     NaN     NaN    2019 2019-12-29        0      1612   \n",
       "16528   DEN   OAK     NaN     NaN    2019 2019-12-29        0      1431   \n",
       "16529   LAR   ARI     NaN     NaN    2019 2019-12-29        0      1596   \n",
       "\n",
       "       elo2_pre  elo1_post  elo2_post  elo_prob1  elo_prob2  \n",
       "16353      1527       1398       1527   0.355326   0.644674  \n",
       "16354      1408       1421       1408   0.555106   0.444894  \n",
       "16355      1397       1541       1397   0.725031   0.274969  \n",
       "16356      1501       1631       1501   0.710285   0.289715  \n",
       "16357      1612       1321       1612   0.177863   0.822137  \n",
       "...         ...        ...        ...        ...        ...  \n",
       "16525      1651       1527       1651   0.360992   0.639008  \n",
       "16526      1504       1569       1504   0.626603   0.373397  \n",
       "16527      1432       1612       1432   0.765424   0.234576  \n",
       "16528      1439       1431       1439   0.524471   0.475529  \n",
       "16529      1410       1596       1410   0.771087   0.228913  \n",
       "\n",
       "[177 rows x 13 columns]"
      ]
     },
     "execution_count": 130,
     "metadata": {},
     "output_type": "execute_result"
    }
   ],
   "source": [
    "final_data[final_data['date'] >= pd.Timestamp(today)]"
   ]
  },
  {
   "cell_type": "code",
   "execution_count": 131,
   "metadata": {},
   "outputs": [],
   "source": [
    "today = pd.Timestamp(today)"
   ]
  },
  {
   "cell_type": "code",
   "execution_count": 132,
   "metadata": {},
   "outputs": [],
   "source": [
    "next_week = today + pd.Timedelta(1, unit='w')"
   ]
  },
  {
   "cell_type": "code",
   "execution_count": 133,
   "metadata": {},
   "outputs": [],
   "source": [
    "weekly_preds = final_data[np.logical_and(final_data['date'] >= today, final_data['date'] < next_week)]"
   ]
  },
  {
   "cell_type": "code",
   "execution_count": 134,
   "metadata": {},
   "outputs": [
    {
     "data": {
      "text/plain": [
       "14"
      ]
     },
     "execution_count": 134,
     "metadata": {},
     "output_type": "execute_result"
    }
   ],
   "source": [
    "len(weekly_preds)"
   ]
  },
  {
   "cell_type": "code",
   "execution_count": 135,
   "metadata": {},
   "outputs": [
    {
     "data": {
      "text/html": [
       "<div>\n",
       "<style scoped>\n",
       "    .dataframe tbody tr th:only-of-type {\n",
       "        vertical-align: middle;\n",
       "    }\n",
       "\n",
       "    .dataframe tbody tr th {\n",
       "        vertical-align: top;\n",
       "    }\n",
       "\n",
       "    .dataframe thead th {\n",
       "        text-align: right;\n",
       "    }\n",
       "</style>\n",
       "<table border=\"1\" class=\"dataframe\">\n",
       "  <thead>\n",
       "    <tr style=\"text-align: right;\">\n",
       "      <th></th>\n",
       "      <th>team1</th>\n",
       "      <th>team2</th>\n",
       "      <th>score1</th>\n",
       "      <th>score2</th>\n",
       "      <th>season</th>\n",
       "      <th>date</th>\n",
       "      <th>outcome</th>\n",
       "      <th>elo1_pre</th>\n",
       "      <th>elo2_pre</th>\n",
       "      <th>elo1_post</th>\n",
       "      <th>elo2_post</th>\n",
       "      <th>elo_prob1</th>\n",
       "      <th>elo_prob2</th>\n",
       "    </tr>\n",
       "  </thead>\n",
       "  <tbody>\n",
       "    <tr>\n",
       "      <td>16353</td>\n",
       "      <td>TB</td>\n",
       "      <td>CAR</td>\n",
       "      <td>NaN</td>\n",
       "      <td>NaN</td>\n",
       "      <td>2019</td>\n",
       "      <td>2019-10-13</td>\n",
       "      <td>0</td>\n",
       "      <td>1398</td>\n",
       "      <td>1527</td>\n",
       "      <td>1398</td>\n",
       "      <td>1527</td>\n",
       "      <td>0.355326</td>\n",
       "      <td>0.644674</td>\n",
       "    </tr>\n",
       "    <tr>\n",
       "      <td>16354</td>\n",
       "      <td>MIA</td>\n",
       "      <td>WSH</td>\n",
       "      <td>NaN</td>\n",
       "      <td>NaN</td>\n",
       "      <td>2019</td>\n",
       "      <td>2019-10-13</td>\n",
       "      <td>0</td>\n",
       "      <td>1421</td>\n",
       "      <td>1408</td>\n",
       "      <td>1421</td>\n",
       "      <td>1408</td>\n",
       "      <td>0.555106</td>\n",
       "      <td>0.444894</td>\n",
       "    </tr>\n",
       "    <tr>\n",
       "      <td>16355</td>\n",
       "      <td>BAL</td>\n",
       "      <td>CIN</td>\n",
       "      <td>NaN</td>\n",
       "      <td>NaN</td>\n",
       "      <td>2019</td>\n",
       "      <td>2019-10-13</td>\n",
       "      <td>0</td>\n",
       "      <td>1541</td>\n",
       "      <td>1397</td>\n",
       "      <td>1541</td>\n",
       "      <td>1397</td>\n",
       "      <td>0.725031</td>\n",
       "      <td>0.274969</td>\n",
       "    </tr>\n",
       "    <tr>\n",
       "      <td>16356</td>\n",
       "      <td>KC</td>\n",
       "      <td>HOU</td>\n",
       "      <td>NaN</td>\n",
       "      <td>NaN</td>\n",
       "      <td>2019</td>\n",
       "      <td>2019-10-13</td>\n",
       "      <td>0</td>\n",
       "      <td>1631</td>\n",
       "      <td>1501</td>\n",
       "      <td>1631</td>\n",
       "      <td>1501</td>\n",
       "      <td>0.710285</td>\n",
       "      <td>0.289715</td>\n",
       "    </tr>\n",
       "    <tr>\n",
       "      <td>16357</td>\n",
       "      <td>CLE</td>\n",
       "      <td>SEA</td>\n",
       "      <td>NaN</td>\n",
       "      <td>NaN</td>\n",
       "      <td>2019</td>\n",
       "      <td>2019-10-13</td>\n",
       "      <td>0</td>\n",
       "      <td>1321</td>\n",
       "      <td>1612</td>\n",
       "      <td>1321</td>\n",
       "      <td>1612</td>\n",
       "      <td>0.177863</td>\n",
       "      <td>0.822137</td>\n",
       "    </tr>\n",
       "    <tr>\n",
       "      <td>16358</td>\n",
       "      <td>JAX</td>\n",
       "      <td>NO</td>\n",
       "      <td>NaN</td>\n",
       "      <td>NaN</td>\n",
       "      <td>2019</td>\n",
       "      <td>2019-10-13</td>\n",
       "      <td>0</td>\n",
       "      <td>1402</td>\n",
       "      <td>1651</td>\n",
       "      <td>1402</td>\n",
       "      <td>1651</td>\n",
       "      <td>0.216095</td>\n",
       "      <td>0.783905</td>\n",
       "    </tr>\n",
       "    <tr>\n",
       "      <td>16359</td>\n",
       "      <td>MIN</td>\n",
       "      <td>PHI</td>\n",
       "      <td>NaN</td>\n",
       "      <td>NaN</td>\n",
       "      <td>2019</td>\n",
       "      <td>2019-10-13</td>\n",
       "      <td>0</td>\n",
       "      <td>1569</td>\n",
       "      <td>1592</td>\n",
       "      <td>1569</td>\n",
       "      <td>1592</td>\n",
       "      <td>0.503420</td>\n",
       "      <td>0.496580</td>\n",
       "    </tr>\n",
       "    <tr>\n",
       "      <td>16360</td>\n",
       "      <td>LAR</td>\n",
       "      <td>SF</td>\n",
       "      <td>NaN</td>\n",
       "      <td>NaN</td>\n",
       "      <td>2019</td>\n",
       "      <td>2019-10-13</td>\n",
       "      <td>0</td>\n",
       "      <td>1596</td>\n",
       "      <td>1432</td>\n",
       "      <td>1596</td>\n",
       "      <td>1432</td>\n",
       "      <td>0.748113</td>\n",
       "      <td>0.251887</td>\n",
       "    </tr>\n",
       "    <tr>\n",
       "      <td>16361</td>\n",
       "      <td>ARI</td>\n",
       "      <td>ATL</td>\n",
       "      <td>NaN</td>\n",
       "      <td>NaN</td>\n",
       "      <td>2019</td>\n",
       "      <td>2019-10-13</td>\n",
       "      <td>0</td>\n",
       "      <td>1410</td>\n",
       "      <td>1501</td>\n",
       "      <td>1410</td>\n",
       "      <td>1501</td>\n",
       "      <td>0.405077</td>\n",
       "      <td>0.594923</td>\n",
       "    </tr>\n",
       "    <tr>\n",
       "      <td>16362</td>\n",
       "      <td>DEN</td>\n",
       "      <td>TEN</td>\n",
       "      <td>NaN</td>\n",
       "      <td>NaN</td>\n",
       "      <td>2019</td>\n",
       "      <td>2019-10-13</td>\n",
       "      <td>0</td>\n",
       "      <td>1431</td>\n",
       "      <td>1470</td>\n",
       "      <td>1431</td>\n",
       "      <td>1470</td>\n",
       "      <td>0.480880</td>\n",
       "      <td>0.519120</td>\n",
       "    </tr>\n",
       "    <tr>\n",
       "      <td>16363</td>\n",
       "      <td>NYJ</td>\n",
       "      <td>DAL</td>\n",
       "      <td>NaN</td>\n",
       "      <td>NaN</td>\n",
       "      <td>2019</td>\n",
       "      <td>2019-10-13</td>\n",
       "      <td>0</td>\n",
       "      <td>1329</td>\n",
       "      <td>1576</td>\n",
       "      <td>1329</td>\n",
       "      <td>1576</td>\n",
       "      <td>0.217559</td>\n",
       "      <td>0.782441</td>\n",
       "    </tr>\n",
       "    <tr>\n",
       "      <td>16364</td>\n",
       "      <td>LAC</td>\n",
       "      <td>PIT</td>\n",
       "      <td>NaN</td>\n",
       "      <td>NaN</td>\n",
       "      <td>2019</td>\n",
       "      <td>2019-10-13</td>\n",
       "      <td>0</td>\n",
       "      <td>1536</td>\n",
       "      <td>1579</td>\n",
       "      <td>1536</td>\n",
       "      <td>1579</td>\n",
       "      <td>0.474633</td>\n",
       "      <td>0.525367</td>\n",
       "    </tr>\n",
       "    <tr>\n",
       "      <td>16365</td>\n",
       "      <td>GB</td>\n",
       "      <td>DET</td>\n",
       "      <td>NaN</td>\n",
       "      <td>NaN</td>\n",
       "      <td>2019</td>\n",
       "      <td>2019-10-14</td>\n",
       "      <td>0</td>\n",
       "      <td>1527</td>\n",
       "      <td>1505</td>\n",
       "      <td>1527</td>\n",
       "      <td>1505</td>\n",
       "      <td>0.568284</td>\n",
       "      <td>0.431716</td>\n",
       "    </tr>\n",
       "    <tr>\n",
       "      <td>16366</td>\n",
       "      <td>DEN</td>\n",
       "      <td>KC</td>\n",
       "      <td>NaN</td>\n",
       "      <td>NaN</td>\n",
       "      <td>2019</td>\n",
       "      <td>2019-10-17</td>\n",
       "      <td>0</td>\n",
       "      <td>1431</td>\n",
       "      <td>1631</td>\n",
       "      <td>1431</td>\n",
       "      <td>1631</td>\n",
       "      <td>0.267363</td>\n",
       "      <td>0.732637</td>\n",
       "    </tr>\n",
       "  </tbody>\n",
       "</table>\n",
       "</div>"
      ],
      "text/plain": [
       "      team1 team2  score1  score2  season       date  outcome  elo1_pre  \\\n",
       "16353    TB   CAR     NaN     NaN    2019 2019-10-13        0      1398   \n",
       "16354   MIA   WSH     NaN     NaN    2019 2019-10-13        0      1421   \n",
       "16355   BAL   CIN     NaN     NaN    2019 2019-10-13        0      1541   \n",
       "16356    KC   HOU     NaN     NaN    2019 2019-10-13        0      1631   \n",
       "16357   CLE   SEA     NaN     NaN    2019 2019-10-13        0      1321   \n",
       "16358   JAX    NO     NaN     NaN    2019 2019-10-13        0      1402   \n",
       "16359   MIN   PHI     NaN     NaN    2019 2019-10-13        0      1569   \n",
       "16360   LAR    SF     NaN     NaN    2019 2019-10-13        0      1596   \n",
       "16361   ARI   ATL     NaN     NaN    2019 2019-10-13        0      1410   \n",
       "16362   DEN   TEN     NaN     NaN    2019 2019-10-13        0      1431   \n",
       "16363   NYJ   DAL     NaN     NaN    2019 2019-10-13        0      1329   \n",
       "16364   LAC   PIT     NaN     NaN    2019 2019-10-13        0      1536   \n",
       "16365    GB   DET     NaN     NaN    2019 2019-10-14        0      1527   \n",
       "16366   DEN    KC     NaN     NaN    2019 2019-10-17        0      1431   \n",
       "\n",
       "       elo2_pre  elo1_post  elo2_post  elo_prob1  elo_prob2  \n",
       "16353      1527       1398       1527   0.355326   0.644674  \n",
       "16354      1408       1421       1408   0.555106   0.444894  \n",
       "16355      1397       1541       1397   0.725031   0.274969  \n",
       "16356      1501       1631       1501   0.710285   0.289715  \n",
       "16357      1612       1321       1612   0.177863   0.822137  \n",
       "16358      1651       1402       1651   0.216095   0.783905  \n",
       "16359      1592       1569       1592   0.503420   0.496580  \n",
       "16360      1432       1596       1432   0.748113   0.251887  \n",
       "16361      1501       1410       1501   0.405077   0.594923  \n",
       "16362      1470       1431       1470   0.480880   0.519120  \n",
       "16363      1576       1329       1576   0.217559   0.782441  \n",
       "16364      1579       1536       1579   0.474633   0.525367  \n",
       "16365      1505       1527       1505   0.568284   0.431716  \n",
       "16366      1631       1431       1631   0.267363   0.732637  "
      ]
     },
     "execution_count": 135,
     "metadata": {},
     "output_type": "execute_result"
    }
   ],
   "source": [
    "weekly_preds"
   ]
  },
  {
   "cell_type": "code",
   "execution_count": 136,
   "metadata": {},
   "outputs": [
    {
     "data": {
      "text/plain": [
       "team1                         TB\n",
       "team2                        CAR\n",
       "score1                       NaN\n",
       "score2                       NaN\n",
       "season                      2019\n",
       "date         2019-10-13 00:00:00\n",
       "outcome                        0\n",
       "elo1_pre                    1398\n",
       "elo2_pre                    1527\n",
       "elo1_post                   1398\n",
       "elo2_post                   1527\n",
       "elo_prob1               0.355326\n",
       "elo_prob2               0.644674\n",
       "Name: 16353, dtype: object"
      ]
     },
     "execution_count": 136,
     "metadata": {},
     "output_type": "execute_result"
    }
   ],
   "source": [
    "weekly_preds.iloc[0]"
   ]
  },
  {
   "cell_type": "code",
   "execution_count": 137,
   "metadata": {},
   "outputs": [
    {
     "data": {
      "image/png": "[encoded data removed]",
      "text/plain": [
       "<Figure size 864x1728 with 14 Axes>"
      ]
     },
     "metadata": {
      "needs_background": "light"
     },
     "output_type": "display_data"
    }
   ],
   "source": [
    "fig, axes = plt.subplots(nrows=7, ncols=2, figsize=(12,24))\n",
    "\n",
    "for irow in range(7):\n",
    "    for icol in range(2):\n",
    "        index = 2 * irow + icol\n",
    "        axes[irow, icol].barh(weekly_preds.iloc[index]['team1'], \n",
    "                 weekly_preds.iloc[index]['elo_prob1'], edgecolor='k')\n",
    "        axes[irow, icol].barh(weekly_preds.iloc[index]['team2'], \n",
    "                 weekly_preds.iloc[index]['elo_prob2'], edgecolor='k')\n",
    "        axes[irow, icol].grid(alpha=0.2)\n",
    "        \n",
    "fig.tight_layout() "
   ]
  },
  {
   "cell_type": "code",
   "execution_count": 221,
   "metadata": {},
   "outputs": [],
   "source": [
    "def plot_game_pred(game):\n",
    "\n",
    "    # set up the figure\n",
    "    fig = plt.figure()\n",
    "    ax = fig.add_subplot(111)\n",
    "    ax.set_xlim(0,10)\n",
    "    ax.set_ylim(0,10)\n",
    "\n",
    "    # draw lines\n",
    "    xmin = 1\n",
    "    xmax = 9\n",
    "    y = 5\n",
    "    height = 1.5\n",
    "\n",
    "    plt.hlines(y, xmin, xmax, linewidth=1)\n",
    "    plt.vlines(xmin, y - height / 2., y + height / 2., linewidth=1)\n",
    "    plt.vlines(xmax, y - height / 2., y + height / 2., linewidth=1)\n",
    "\n",
    "    nx = 4\n",
    "    dx = (xmax-xmin) / nx\n",
    "    for i in range(1,nx):\n",
    "        plt.vlines(xmin + i*dx, y - height / 8., y + height / 8., linewidth=1)\n",
    "    \n",
    "    # draw a point on the line\n",
    "    px = 1 + 8 * game['elo_prob2']\n",
    "    plt.plot(px,y, 'o', ms = 10, mfc = 'orange', alpha=0.8)\n",
    "\n",
    "    # add numbers\n",
    "    title1 = '{} ({})'.format(game['team1'], game['elo1_pre'])\n",
    "    title2 = '{} ({})'.format(game['team2'], game['elo2_pre'])\n",
    "    plt.text(xmin - 0.2, y - 0.1, title1, horizontalalignment='right')\n",
    "    plt.text(xmax + 0.2, y - 0.1, title2, horizontalalignment='left')\n",
    "    \n",
    "    proba = game['elo_prob1'] if game['elo_prob1'] > game['elo_prob2'] else game['elo_prob2'] \n",
    "    plt.text(px - 0.3, y - 1.1, '{0:2d}%'.format(int(100 * proba)))\n",
    "    \n",
    "    plt.axis('off')\n",
    "    plt.show()"
   ]
  },
  {
   "cell_type": "code",
   "execution_count": 222,
   "metadata": {},
   "outputs": [
    {
     "data": {
      "image/png": "[encoded data removed]",
      "text/plain": [
       "<Figure size 432x288 with 1 Axes>"
      ]
     },
     "metadata": {
      "needs_background": "light"
     },
     "output_type": "display_data"
    }
   ],
   "source": [
    "plot_game_pred(weekly_preds.iloc[0])"
   ]
  },
  {
   "cell_type": "code",
   "execution_count": 223,
   "metadata": {},
   "outputs": [
    {
     "data": {
      "image/png": "[encoded data removed]",
      "text/plain": [
       "<Figure size 432x288 with 1 Axes>"
      ]
     },
     "metadata": {
      "needs_background": "light"
     },
     "output_type": "display_data"
    }
   ],
   "source": [
    "plot_game_pred(weekly_preds.iloc[1])"
   ]
  },
  {
   "cell_type": "code",
   "execution_count": 224,
   "metadata": {},
   "outputs": [
    {
     "data": {
      "image/png": "[encoded data removed]",
      "text/plain": [
       "<Figure size 432x288 with 1 Axes>"
      ]
     },
     "metadata": {
      "needs_background": "light"
     },
     "output_type": "display_data"
    }
   ],
   "source": [
    "plot_game_pred(weekly_preds.iloc[2])"
   ]
  },
  {
   "cell_type": "code",
   "execution_count": 226,
   "metadata": {},
   "outputs": [
    {
     "data": {
      "image/png": "[encoded data removed]",
      "text/plain": [
       "<Figure size 432x288 with 1 Axes>"
      ]
     },
     "metadata": {
      "needs_background": "light"
     },
     "output_type": "display_data"
    }
   ],
   "source": [
    "plot_game_pred(weekly_preds.iloc[3])"
   ]
  },
  {
   "cell_type": "code",
   "execution_count": 227,
   "metadata": {},
   "outputs": [
    {
     "data": {
      "image/png": "[encoded data removed]",
      "text/plain": [
       "<Figure size 432x288 with 1 Axes>"
      ]
     },
     "metadata": {
      "needs_background": "light"
     },
     "output_type": "display_data"
    }
   ],
   "source": [
    "plot_game_pred(weekly_preds.iloc[4])"
   ]
  },
  {
   "cell_type": "code",
   "execution_count": 228,
   "metadata": {
    "scrolled": false
   },
   "outputs": [
    {
     "data": {
      "image/png": "[encoded data removed]",
      "text/plain": [
       "<Figure size 432x288 with 1 Axes>"
      ]
     },
     "metadata": {
      "needs_background": "light"
     },
     "output_type": "display_data"
    },
    {
     "data": {
      "image/png": "[encoded data removed]",
      "text/plain": [
       "<Figure size 432x288 with 1 Axes>"
      ]
     },
     "metadata": {
      "needs_background": "light"
     },
     "output_type": "display_data"
    },
    {
     "data": {
      "image/png": "[encoded data removed]",
      "text/plain": [
       "<Figure size 432x288 with 1 Axes>"
      ]
     },
     "metadata": {
      "needs_background": "light"
     },
     "output_type": "display_data"
    },
    {
     "data": {
      "image/png": "[encoded data removed]",
      "text/plain": [
       "<Figure size 432x288 with 1 Axes>"
      ]
     },
     "metadata": {
      "needs_background": "light"
     },
     "output_type": "display_data"
    },
    {
     "data": {
      "image/png": "[encoded data removed]",
      "text/plain": [
       "<Figure size 432x288 with 1 Axes>"
      ]
     },
     "metadata": {
      "needs_background": "light"
     },
     "output_type": "display_data"
    },
    {
     "data": {
      "image/png": "[encoded data removed]",
      "text/plain": [
       "<Figure size 432x288 with 1 Axes>"
      ]
     },
     "metadata": {
      "needs_background": "light"
     },
     "output_type": "display_data"
    },
    {
     "data": {
      "image/png": "[encoded data removed]",
      "text/plain": [
       "<Figure size 432x288 with 1 Axes>"
      ]
     },
     "metadata": {
      "needs_background": "light"
     },
     "output_type": "display_data"
    },
    {
     "data": {
      "image/png": "[encoded data removed]",
      "text/plain": [
       "<Figure size 432x288 with 1 Axes>"
      ]
     },
     "metadata": {
      "needs_background": "light"
     },
     "output_type": "display_data"
    },
    {
     "data": {
      "image/png": "[encoded data removed]",
      "text/plain": [
       "<Figure size 432x288 with 1 Axes>"
      ]
     },
     "metadata": {
      "needs_background": "light"
     },
     "output_type": "display_data"
    },
    {
     "data": {
      "image/png": "[encoded data removed]",
      "text/plain": [
       "<Figure size 432x288 with 1 Axes>"
      ]
     },
     "metadata": {
      "needs_background": "light"
     },
     "output_type": "display_data"
    },
    {
     "data": {
      "image/png": "[encoded data removed]",
      "text/plain": [
       "<Figure size 432x288 with 1 Axes>"
      ]
     },
     "metadata": {
      "needs_background": "light"
     },
     "output_type": "display_data"
    },
    {
     "data": {
      "image/png": "[encoded data removed]",
      "text/plain": [
       "<Figure size 432x288 with 1 Axes>"
      ]
     },
     "metadata": {
      "needs_background": "light"
     },
     "output_type": "display_data"
    },
    {
     "data": {
      "image/png": "[encoded data removed]",
      "text/plain": [
       "<Figure size 432x288 with 1 Axes>"
      ]
     },
     "metadata": {
      "needs_background": "light"
     },
     "output_type": "display_data"
    },
    {
     "data": {
      "image/png": "[encoded data removed]",
      "text/plain": [
       "<Figure size 432x288 with 1 Axes>"
      ]
     },
     "metadata": {
      "needs_background": "light"
     },
     "output_type": "display_data"
    }
   ],
   "source": [
    "for i in range(14):\n",
    "    plot_game_pred(weekly_preds.iloc[i])"
   ]
  },
  {
   "cell_type": "code",
   "execution_count": 229,
   "metadata": {},
   "outputs": [],
   "source": [
    "last_week = today - pd.Timedelta(1, 'w')\n",
    "last_week_results = final_data[np.logical_and(final_data['date'] <= today, final_data['date'] > last_week)]"
   ]
  },
  {
   "cell_type": "code",
   "execution_count": 230,
   "metadata": {},
   "outputs": [
    {
     "data": {
      "text/html": [
       "<div>\n",
       "<style scoped>\n",
       "    .dataframe tbody tr th:only-of-type {\n",
       "        vertical-align: middle;\n",
       "    }\n",
       "\n",
       "    .dataframe tbody tr th {\n",
       "        vertical-align: top;\n",
       "    }\n",
       "\n",
       "    .dataframe thead th {\n",
       "        text-align: right;\n",
       "    }\n",
       "</style>\n",
       "<table border=\"1\" class=\"dataframe\">\n",
       "  <thead>\n",
       "    <tr style=\"text-align: right;\">\n",
       "      <th></th>\n",
       "      <th>team1</th>\n",
       "      <th>team2</th>\n",
       "      <th>score1</th>\n",
       "      <th>score2</th>\n",
       "      <th>season</th>\n",
       "      <th>date</th>\n",
       "      <th>outcome</th>\n",
       "      <th>elo1_pre</th>\n",
       "      <th>elo2_pre</th>\n",
       "      <th>elo1_post</th>\n",
       "      <th>elo2_post</th>\n",
       "      <th>elo_prob1</th>\n",
       "      <th>elo_prob2</th>\n",
       "    </tr>\n",
       "  </thead>\n",
       "  <tbody>\n",
       "    <tr>\n",
       "      <td>16338</td>\n",
       "      <td>NO</td>\n",
       "      <td>TB</td>\n",
       "      <td>31.0</td>\n",
       "      <td>24.0</td>\n",
       "      <td>2019</td>\n",
       "      <td>2019-10-06</td>\n",
       "      <td>1</td>\n",
       "      <td>1647</td>\n",
       "      <td>1403</td>\n",
       "      <td>1651</td>\n",
       "      <td>1398</td>\n",
       "      <td>0.824629</td>\n",
       "      <td>0.175371</td>\n",
       "    </tr>\n",
       "    <tr>\n",
       "      <td>16339</td>\n",
       "      <td>OAK</td>\n",
       "      <td>CHI</td>\n",
       "      <td>24.0</td>\n",
       "      <td>21.0</td>\n",
       "      <td>2019</td>\n",
       "      <td>2019-10-06</td>\n",
       "      <td>1</td>\n",
       "      <td>1424</td>\n",
       "      <td>1519</td>\n",
       "      <td>1439</td>\n",
       "      <td>1504</td>\n",
       "      <td>0.400970</td>\n",
       "      <td>0.599030</td>\n",
       "    </tr>\n",
       "    <tr>\n",
       "      <td>16340</td>\n",
       "      <td>HOU</td>\n",
       "      <td>ATL</td>\n",
       "      <td>53.0</td>\n",
       "      <td>32.0</td>\n",
       "      <td>2019</td>\n",
       "      <td>2019-10-06</td>\n",
       "      <td>1</td>\n",
       "      <td>1488</td>\n",
       "      <td>1514</td>\n",
       "      <td>1501</td>\n",
       "      <td>1501</td>\n",
       "      <td>0.498554</td>\n",
       "      <td>0.501446</td>\n",
       "    </tr>\n",
       "    <tr>\n",
       "      <td>16341</td>\n",
       "      <td>PHI</td>\n",
       "      <td>NYJ</td>\n",
       "      <td>31.0</td>\n",
       "      <td>6.0</td>\n",
       "      <td>2019</td>\n",
       "      <td>2019-10-06</td>\n",
       "      <td>1</td>\n",
       "      <td>1587</td>\n",
       "      <td>1333</td>\n",
       "      <td>1592</td>\n",
       "      <td>1329</td>\n",
       "      <td>0.833254</td>\n",
       "      <td>0.166746</td>\n",
       "    </tr>\n",
       "    <tr>\n",
       "      <td>16342</td>\n",
       "      <td>WSH</td>\n",
       "      <td>NE</td>\n",
       "      <td>7.0</td>\n",
       "      <td>33.0</td>\n",
       "      <td>2019</td>\n",
       "      <td>2019-10-06</td>\n",
       "      <td>0</td>\n",
       "      <td>1411</td>\n",
       "      <td>1757</td>\n",
       "      <td>1408</td>\n",
       "      <td>1761</td>\n",
       "      <td>0.136036</td>\n",
       "      <td>0.863964</td>\n",
       "    </tr>\n",
       "    <tr>\n",
       "      <td>16343</td>\n",
       "      <td>PIT</td>\n",
       "      <td>BAL</td>\n",
       "      <td>23.0</td>\n",
       "      <td>26.0</td>\n",
       "      <td>2019</td>\n",
       "      <td>2019-10-06</td>\n",
       "      <td>0</td>\n",
       "      <td>1595</td>\n",
       "      <td>1525</td>\n",
       "      <td>1579</td>\n",
       "      <td>1541</td>\n",
       "      <td>0.633113</td>\n",
       "      <td>0.366887</td>\n",
       "    </tr>\n",
       "    <tr>\n",
       "      <td>16344</td>\n",
       "      <td>NYG</td>\n",
       "      <td>MIN</td>\n",
       "      <td>10.0</td>\n",
       "      <td>28.0</td>\n",
       "      <td>2019</td>\n",
       "      <td>2019-10-06</td>\n",
       "      <td>0</td>\n",
       "      <td>1406</td>\n",
       "      <td>1561</td>\n",
       "      <td>1398</td>\n",
       "      <td>1569</td>\n",
       "      <td>0.320928</td>\n",
       "      <td>0.679072</td>\n",
       "    </tr>\n",
       "    <tr>\n",
       "      <td>16345</td>\n",
       "      <td>CAR</td>\n",
       "      <td>JAX</td>\n",
       "      <td>34.0</td>\n",
       "      <td>27.0</td>\n",
       "      <td>2019</td>\n",
       "      <td>2019-10-06</td>\n",
       "      <td>1</td>\n",
       "      <td>1519</td>\n",
       "      <td>1410</td>\n",
       "      <td>1527</td>\n",
       "      <td>1402</td>\n",
       "      <td>0.683597</td>\n",
       "      <td>0.316403</td>\n",
       "    </tr>\n",
       "    <tr>\n",
       "      <td>16346</td>\n",
       "      <td>TEN</td>\n",
       "      <td>BUF</td>\n",
       "      <td>7.0</td>\n",
       "      <td>14.0</td>\n",
       "      <td>2019</td>\n",
       "      <td>2019-10-06</td>\n",
       "      <td>0</td>\n",
       "      <td>1483</td>\n",
       "      <td>1485</td>\n",
       "      <td>1470</td>\n",
       "      <td>1498</td>\n",
       "      <td>0.533542</td>\n",
       "      <td>0.466458</td>\n",
       "    </tr>\n",
       "    <tr>\n",
       "      <td>16347</td>\n",
       "      <td>CIN</td>\n",
       "      <td>ARI</td>\n",
       "      <td>23.0</td>\n",
       "      <td>26.0</td>\n",
       "      <td>2019</td>\n",
       "      <td>2019-10-06</td>\n",
       "      <td>0</td>\n",
       "      <td>1411</td>\n",
       "      <td>1396</td>\n",
       "      <td>1397</td>\n",
       "      <td>1410</td>\n",
       "      <td>0.558074</td>\n",
       "      <td>0.441926</td>\n",
       "    </tr>\n",
       "    <tr>\n",
       "      <td>16348</td>\n",
       "      <td>LAC</td>\n",
       "      <td>DEN</td>\n",
       "      <td>13.0</td>\n",
       "      <td>20.0</td>\n",
       "      <td>2019</td>\n",
       "      <td>2019-10-06</td>\n",
       "      <td>0</td>\n",
       "      <td>1554</td>\n",
       "      <td>1413</td>\n",
       "      <td>1536</td>\n",
       "      <td>1431</td>\n",
       "      <td>0.722418</td>\n",
       "      <td>0.277582</td>\n",
       "    </tr>\n",
       "    <tr>\n",
       "      <td>16349</td>\n",
       "      <td>DAL</td>\n",
       "      <td>GB</td>\n",
       "      <td>24.0</td>\n",
       "      <td>34.0</td>\n",
       "      <td>2019</td>\n",
       "      <td>2019-10-06</td>\n",
       "      <td>0</td>\n",
       "      <td>1592</td>\n",
       "      <td>1511</td>\n",
       "      <td>1576</td>\n",
       "      <td>1527</td>\n",
       "      <td>0.648059</td>\n",
       "      <td>0.351941</td>\n",
       "    </tr>\n",
       "    <tr>\n",
       "      <td>16350</td>\n",
       "      <td>KC</td>\n",
       "      <td>IND</td>\n",
       "      <td>13.0</td>\n",
       "      <td>19.0</td>\n",
       "      <td>2019</td>\n",
       "      <td>2019-10-06</td>\n",
       "      <td>0</td>\n",
       "      <td>1650</td>\n",
       "      <td>1504</td>\n",
       "      <td>1631</td>\n",
       "      <td>1522</td>\n",
       "      <td>0.727934</td>\n",
       "      <td>0.272066</td>\n",
       "    </tr>\n",
       "    <tr>\n",
       "      <td>16351</td>\n",
       "      <td>SF</td>\n",
       "      <td>CLE</td>\n",
       "      <td>31.0</td>\n",
       "      <td>3.0</td>\n",
       "      <td>2019</td>\n",
       "      <td>2019-10-07</td>\n",
       "      <td>1</td>\n",
       "      <td>1423</td>\n",
       "      <td>1329</td>\n",
       "      <td>1432</td>\n",
       "      <td>1321</td>\n",
       "      <td>0.664500</td>\n",
       "      <td>0.335500</td>\n",
       "    </tr>\n",
       "    <tr>\n",
       "      <td>16352</td>\n",
       "      <td>NE</td>\n",
       "      <td>NYG</td>\n",
       "      <td>35.0</td>\n",
       "      <td>14.0</td>\n",
       "      <td>2019</td>\n",
       "      <td>2019-10-10</td>\n",
       "      <td>1</td>\n",
       "      <td>1761</td>\n",
       "      <td>1398</td>\n",
       "      <td>1763</td>\n",
       "      <td>1395</td>\n",
       "      <td>0.903313</td>\n",
       "      <td>0.096687</td>\n",
       "    </tr>\n",
       "  </tbody>\n",
       "</table>\n",
       "</div>"
      ],
      "text/plain": [
       "      team1 team2  score1  score2  season       date  outcome  elo1_pre  \\\n",
       "16338    NO    TB    31.0    24.0    2019 2019-10-06        1      1647   \n",
       "16339   OAK   CHI    24.0    21.0    2019 2019-10-06        1      1424   \n",
       "16340   HOU   ATL    53.0    32.0    2019 2019-10-06        1      1488   \n",
       "16341   PHI   NYJ    31.0     6.0    2019 2019-10-06        1      1587   \n",
       "16342   WSH    NE     7.0    33.0    2019 2019-10-06        0      1411   \n",
       "16343   PIT   BAL    23.0    26.0    2019 2019-10-06        0      1595   \n",
       "16344   NYG   MIN    10.0    28.0    2019 2019-10-06        0      1406   \n",
       "16345   CAR   JAX    34.0    27.0    2019 2019-10-06        1      1519   \n",
       "16346   TEN   BUF     7.0    14.0    2019 2019-10-06        0      1483   \n",
       "16347   CIN   ARI    23.0    26.0    2019 2019-10-06        0      1411   \n",
       "16348   LAC   DEN    13.0    20.0    2019 2019-10-06        0      1554   \n",
       "16349   DAL    GB    24.0    34.0    2019 2019-10-06        0      1592   \n",
       "16350    KC   IND    13.0    19.0    2019 2019-10-06        0      1650   \n",
       "16351    SF   CLE    31.0     3.0    2019 2019-10-07        1      1423   \n",
       "16352    NE   NYG    35.0    14.0    2019 2019-10-10        1      1761   \n",
       "\n",
       "       elo2_pre  elo1_post  elo2_post  elo_prob1  elo_prob2  \n",
       "16338      1403       1651       1398   0.824629   0.175371  \n",
       "16339      1519       1439       1504   0.400970   0.599030  \n",
       "16340      1514       1501       1501   0.498554   0.501446  \n",
       "16341      1333       1592       1329   0.833254   0.166746  \n",
       "16342      1757       1408       1761   0.136036   0.863964  \n",
       "16343      1525       1579       1541   0.633113   0.366887  \n",
       "16344      1561       1398       1569   0.320928   0.679072  \n",
       "16345      1410       1527       1402   0.683597   0.316403  \n",
       "16346      1485       1470       1498   0.533542   0.466458  \n",
       "16347      1396       1397       1410   0.558074   0.441926  \n",
       "16348      1413       1536       1431   0.722418   0.277582  \n",
       "16349      1511       1576       1527   0.648059   0.351941  \n",
       "16350      1504       1631       1522   0.727934   0.272066  \n",
       "16351      1329       1432       1321   0.664500   0.335500  \n",
       "16352      1398       1763       1395   0.903313   0.096687  "
      ]
     },
     "execution_count": 230,
     "metadata": {},
     "output_type": "execute_result"
    }
   ],
   "source": [
    "last_week_results"
   ]
  },
  {
   "cell_type": "code",
   "execution_count": 231,
   "metadata": {},
   "outputs": [
    {
     "data": {
      "text/html": [
       "<div>\n",
       "<style scoped>\n",
       "    .dataframe tbody tr th:only-of-type {\n",
       "        vertical-align: middle;\n",
       "    }\n",
       "\n",
       "    .dataframe tbody tr th {\n",
       "        vertical-align: top;\n",
       "    }\n",
       "\n",
       "    .dataframe thead th {\n",
       "        text-align: right;\n",
       "    }\n",
       "</style>\n",
       "<table border=\"1\" class=\"dataframe\">\n",
       "  <thead>\n",
       "    <tr style=\"text-align: right;\">\n",
       "      <th></th>\n",
       "      <th>team1</th>\n",
       "      <th>team2</th>\n",
       "      <th>score1</th>\n",
       "      <th>score2</th>\n",
       "      <th>season</th>\n",
       "      <th>date</th>\n",
       "      <th>outcome</th>\n",
       "      <th>elo1_pre</th>\n",
       "      <th>elo2_pre</th>\n",
       "      <th>elo1_post</th>\n",
       "      <th>elo2_post</th>\n",
       "      <th>elo_prob1</th>\n",
       "      <th>elo_prob2</th>\n",
       "    </tr>\n",
       "  </thead>\n",
       "  <tbody>\n",
       "    <tr>\n",
       "      <td>16353</td>\n",
       "      <td>TB</td>\n",
       "      <td>CAR</td>\n",
       "      <td>NaN</td>\n",
       "      <td>NaN</td>\n",
       "      <td>2019</td>\n",
       "      <td>2019-10-13</td>\n",
       "      <td>0</td>\n",
       "      <td>1398</td>\n",
       "      <td>1527</td>\n",
       "      <td>1398</td>\n",
       "      <td>1527</td>\n",
       "      <td>0.355326</td>\n",
       "      <td>0.644674</td>\n",
       "    </tr>\n",
       "    <tr>\n",
       "      <td>16354</td>\n",
       "      <td>MIA</td>\n",
       "      <td>WSH</td>\n",
       "      <td>NaN</td>\n",
       "      <td>NaN</td>\n",
       "      <td>2019</td>\n",
       "      <td>2019-10-13</td>\n",
       "      <td>0</td>\n",
       "      <td>1421</td>\n",
       "      <td>1408</td>\n",
       "      <td>1421</td>\n",
       "      <td>1408</td>\n",
       "      <td>0.555106</td>\n",
       "      <td>0.444894</td>\n",
       "    </tr>\n",
       "    <tr>\n",
       "      <td>16355</td>\n",
       "      <td>BAL</td>\n",
       "      <td>CIN</td>\n",
       "      <td>NaN</td>\n",
       "      <td>NaN</td>\n",
       "      <td>2019</td>\n",
       "      <td>2019-10-13</td>\n",
       "      <td>0</td>\n",
       "      <td>1541</td>\n",
       "      <td>1397</td>\n",
       "      <td>1541</td>\n",
       "      <td>1397</td>\n",
       "      <td>0.725031</td>\n",
       "      <td>0.274969</td>\n",
       "    </tr>\n",
       "    <tr>\n",
       "      <td>16356</td>\n",
       "      <td>KC</td>\n",
       "      <td>HOU</td>\n",
       "      <td>NaN</td>\n",
       "      <td>NaN</td>\n",
       "      <td>2019</td>\n",
       "      <td>2019-10-13</td>\n",
       "      <td>0</td>\n",
       "      <td>1631</td>\n",
       "      <td>1501</td>\n",
       "      <td>1631</td>\n",
       "      <td>1501</td>\n",
       "      <td>0.710285</td>\n",
       "      <td>0.289715</td>\n",
       "    </tr>\n",
       "    <tr>\n",
       "      <td>16357</td>\n",
       "      <td>CLE</td>\n",
       "      <td>SEA</td>\n",
       "      <td>NaN</td>\n",
       "      <td>NaN</td>\n",
       "      <td>2019</td>\n",
       "      <td>2019-10-13</td>\n",
       "      <td>0</td>\n",
       "      <td>1321</td>\n",
       "      <td>1612</td>\n",
       "      <td>1321</td>\n",
       "      <td>1612</td>\n",
       "      <td>0.177863</td>\n",
       "      <td>0.822137</td>\n",
       "    </tr>\n",
       "    <tr>\n",
       "      <td>16358</td>\n",
       "      <td>JAX</td>\n",
       "      <td>NO</td>\n",
       "      <td>NaN</td>\n",
       "      <td>NaN</td>\n",
       "      <td>2019</td>\n",
       "      <td>2019-10-13</td>\n",
       "      <td>0</td>\n",
       "      <td>1402</td>\n",
       "      <td>1651</td>\n",
       "      <td>1402</td>\n",
       "      <td>1651</td>\n",
       "      <td>0.216095</td>\n",
       "      <td>0.783905</td>\n",
       "    </tr>\n",
       "    <tr>\n",
       "      <td>16359</td>\n",
       "      <td>MIN</td>\n",
       "      <td>PHI</td>\n",
       "      <td>NaN</td>\n",
       "      <td>NaN</td>\n",
       "      <td>2019</td>\n",
       "      <td>2019-10-13</td>\n",
       "      <td>0</td>\n",
       "      <td>1569</td>\n",
       "      <td>1592</td>\n",
       "      <td>1569</td>\n",
       "      <td>1592</td>\n",
       "      <td>0.503420</td>\n",
       "      <td>0.496580</td>\n",
       "    </tr>\n",
       "    <tr>\n",
       "      <td>16360</td>\n",
       "      <td>LAR</td>\n",
       "      <td>SF</td>\n",
       "      <td>NaN</td>\n",
       "      <td>NaN</td>\n",
       "      <td>2019</td>\n",
       "      <td>2019-10-13</td>\n",
       "      <td>0</td>\n",
       "      <td>1596</td>\n",
       "      <td>1432</td>\n",
       "      <td>1596</td>\n",
       "      <td>1432</td>\n",
       "      <td>0.748113</td>\n",
       "      <td>0.251887</td>\n",
       "    </tr>\n",
       "    <tr>\n",
       "      <td>16361</td>\n",
       "      <td>ARI</td>\n",
       "      <td>ATL</td>\n",
       "      <td>NaN</td>\n",
       "      <td>NaN</td>\n",
       "      <td>2019</td>\n",
       "      <td>2019-10-13</td>\n",
       "      <td>0</td>\n",
       "      <td>1410</td>\n",
       "      <td>1501</td>\n",
       "      <td>1410</td>\n",
       "      <td>1501</td>\n",
       "      <td>0.405077</td>\n",
       "      <td>0.594923</td>\n",
       "    </tr>\n",
       "    <tr>\n",
       "      <td>16362</td>\n",
       "      <td>DEN</td>\n",
       "      <td>TEN</td>\n",
       "      <td>NaN</td>\n",
       "      <td>NaN</td>\n",
       "      <td>2019</td>\n",
       "      <td>2019-10-13</td>\n",
       "      <td>0</td>\n",
       "      <td>1431</td>\n",
       "      <td>1470</td>\n",
       "      <td>1431</td>\n",
       "      <td>1470</td>\n",
       "      <td>0.480880</td>\n",
       "      <td>0.519120</td>\n",
       "    </tr>\n",
       "    <tr>\n",
       "      <td>16363</td>\n",
       "      <td>NYJ</td>\n",
       "      <td>DAL</td>\n",
       "      <td>NaN</td>\n",
       "      <td>NaN</td>\n",
       "      <td>2019</td>\n",
       "      <td>2019-10-13</td>\n",
       "      <td>0</td>\n",
       "      <td>1329</td>\n",
       "      <td>1576</td>\n",
       "      <td>1329</td>\n",
       "      <td>1576</td>\n",
       "      <td>0.217559</td>\n",
       "      <td>0.782441</td>\n",
       "    </tr>\n",
       "    <tr>\n",
       "      <td>16364</td>\n",
       "      <td>LAC</td>\n",
       "      <td>PIT</td>\n",
       "      <td>NaN</td>\n",
       "      <td>NaN</td>\n",
       "      <td>2019</td>\n",
       "      <td>2019-10-13</td>\n",
       "      <td>0</td>\n",
       "      <td>1536</td>\n",
       "      <td>1579</td>\n",
       "      <td>1536</td>\n",
       "      <td>1579</td>\n",
       "      <td>0.474633</td>\n",
       "      <td>0.525367</td>\n",
       "    </tr>\n",
       "    <tr>\n",
       "      <td>16365</td>\n",
       "      <td>GB</td>\n",
       "      <td>DET</td>\n",
       "      <td>NaN</td>\n",
       "      <td>NaN</td>\n",
       "      <td>2019</td>\n",
       "      <td>2019-10-14</td>\n",
       "      <td>0</td>\n",
       "      <td>1527</td>\n",
       "      <td>1505</td>\n",
       "      <td>1527</td>\n",
       "      <td>1505</td>\n",
       "      <td>0.568284</td>\n",
       "      <td>0.431716</td>\n",
       "    </tr>\n",
       "    <tr>\n",
       "      <td>16366</td>\n",
       "      <td>DEN</td>\n",
       "      <td>KC</td>\n",
       "      <td>NaN</td>\n",
       "      <td>NaN</td>\n",
       "      <td>2019</td>\n",
       "      <td>2019-10-17</td>\n",
       "      <td>0</td>\n",
       "      <td>1431</td>\n",
       "      <td>1631</td>\n",
       "      <td>1431</td>\n",
       "      <td>1631</td>\n",
       "      <td>0.267363</td>\n",
       "      <td>0.732637</td>\n",
       "    </tr>\n",
       "  </tbody>\n",
       "</table>\n",
       "</div>"
      ],
      "text/plain": [
       "      team1 team2  score1  score2  season       date  outcome  elo1_pre  \\\n",
       "16353    TB   CAR     NaN     NaN    2019 2019-10-13        0      1398   \n",
       "16354   MIA   WSH     NaN     NaN    2019 2019-10-13        0      1421   \n",
       "16355   BAL   CIN     NaN     NaN    2019 2019-10-13        0      1541   \n",
       "16356    KC   HOU     NaN     NaN    2019 2019-10-13        0      1631   \n",
       "16357   CLE   SEA     NaN     NaN    2019 2019-10-13        0      1321   \n",
       "16358   JAX    NO     NaN     NaN    2019 2019-10-13        0      1402   \n",
       "16359   MIN   PHI     NaN     NaN    2019 2019-10-13        0      1569   \n",
       "16360   LAR    SF     NaN     NaN    2019 2019-10-13        0      1596   \n",
       "16361   ARI   ATL     NaN     NaN    2019 2019-10-13        0      1410   \n",
       "16362   DEN   TEN     NaN     NaN    2019 2019-10-13        0      1431   \n",
       "16363   NYJ   DAL     NaN     NaN    2019 2019-10-13        0      1329   \n",
       "16364   LAC   PIT     NaN     NaN    2019 2019-10-13        0      1536   \n",
       "16365    GB   DET     NaN     NaN    2019 2019-10-14        0      1527   \n",
       "16366   DEN    KC     NaN     NaN    2019 2019-10-17        0      1431   \n",
       "\n",
       "       elo2_pre  elo1_post  elo2_post  elo_prob1  elo_prob2  \n",
       "16353      1527       1398       1527   0.355326   0.644674  \n",
       "16354      1408       1421       1408   0.555106   0.444894  \n",
       "16355      1397       1541       1397   0.725031   0.274969  \n",
       "16356      1501       1631       1501   0.710285   0.289715  \n",
       "16357      1612       1321       1612   0.177863   0.822137  \n",
       "16358      1651       1402       1651   0.216095   0.783905  \n",
       "16359      1592       1569       1592   0.503420   0.496580  \n",
       "16360      1432       1596       1432   0.748113   0.251887  \n",
       "16361      1501       1410       1501   0.405077   0.594923  \n",
       "16362      1470       1431       1470   0.480880   0.519120  \n",
       "16363      1576       1329       1576   0.217559   0.782441  \n",
       "16364      1579       1536       1579   0.474633   0.525367  \n",
       "16365      1505       1527       1505   0.568284   0.431716  \n",
       "16366      1631       1431       1631   0.267363   0.732637  "
      ]
     },
     "execution_count": 231,
     "metadata": {},
     "output_type": "execute_result"
    }
   ],
   "source": [
    "weekly_preds"
   ]
  },
  {
   "cell_type": "code",
   "execution_count": null,
   "metadata": {},
   "outputs": [],
   "source": []
  }
 ],
 "metadata": {
  "kernelspec": {
   "display_name": "Python 3",
   "language": "python",
   "name": "python3"
  },
  "language_info": {
   "codemirror_mode": {
    "name": "ipython",
    "version": 3
   },
   "file_extension": ".py",
   "mimetype": "text/x-python",
   "name": "python",
   "nbconvert_exporter": "python",
   "pygments_lexer": "ipython3",
   "version": "3.7.4"
  }
 },
 "nbformat": 4,
 "nbformat_minor": 2
}
