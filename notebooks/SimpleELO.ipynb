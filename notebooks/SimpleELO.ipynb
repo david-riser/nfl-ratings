{
 "cells": [
  {
   "cell_type": "markdown",
   "metadata": {},
   "source": [
    "# Simple ELO \n",
    "In this notebook, I explore the application of a simple ELO calculation to the historical NFL data."
   ]
  },
  {
   "cell_type": "code",
   "execution_count": 1,
   "metadata": {},
   "outputs": [],
   "source": [
    "import matplotlib.pyplot as plt\n",
    "import numpy as np \n",
    "import os \n",
    "import pandas as pd \n",
    "\n",
    "%matplotlib inline"
   ]
  },
  {
   "cell_type": "code",
   "execution_count": 2,
   "metadata": {},
   "outputs": [
    {
     "name": "stdout",
     "output_type": "stream",
     "text": [
      "Loading data from /Users/davidriser/repos/nfl-ratings/data..\n"
     ]
    }
   ],
   "source": [
    "data_dir = os.path.abspath('../data')\n",
    "print(f'Loading data from {data_dir}..')"
   ]
  },
  {
   "cell_type": "markdown",
   "metadata": {},
   "source": [
    "Let's load the data and apply some simple filters, based on the exploration.  I have decided to exclude matches before 1960, when the league expanded."
   ]
  },
  {
   "cell_type": "code",
   "execution_count": 3,
   "metadata": {},
   "outputs": [],
   "source": [
    "data = pd.read_csv(f'{data_dir}/historical_data.csv')\n",
    "data = data[np.logical_not(\n",
    "    np.logical_or(data['team1'].isna(), data['team2'].isna())\n",
    ")]\n",
    "data = data[data['season'] > 1959]\n",
    "data['date'] = pd.to_datetime(data['date'])"
   ]
  },
  {
   "cell_type": "code",
   "execution_count": 4,
   "metadata": {},
   "outputs": [
    {
     "data": {
      "text/html": [
       "<div>\n",
       "<style scoped>\n",
       "    .dataframe tbody tr th:only-of-type {\n",
       "        vertical-align: middle;\n",
       "    }\n",
       "\n",
       "    .dataframe tbody tr th {\n",
       "        vertical-align: top;\n",
       "    }\n",
       "\n",
       "    .dataframe thead th {\n",
       "        text-align: right;\n",
       "    }\n",
       "</style>\n",
       "<table border=\"1\" class=\"dataframe\">\n",
       "  <thead>\n",
       "    <tr style=\"text-align: right;\">\n",
       "      <th></th>\n",
       "      <th>date</th>\n",
       "      <th>season</th>\n",
       "      <th>neutral</th>\n",
       "      <th>playoff</th>\n",
       "      <th>team1</th>\n",
       "      <th>team2</th>\n",
       "      <th>elo1_pre</th>\n",
       "      <th>elo2_pre</th>\n",
       "      <th>elo_prob1</th>\n",
       "      <th>elo_prob2</th>\n",
       "      <th>...</th>\n",
       "      <th>qbelo_prob1</th>\n",
       "      <th>qbelo_prob2</th>\n",
       "      <th>qb1_game_value</th>\n",
       "      <th>qb2_game_value</th>\n",
       "      <th>qb1_value_post</th>\n",
       "      <th>qb2_value_post</th>\n",
       "      <th>qbelo1_post</th>\n",
       "      <th>qbelo2_post</th>\n",
       "      <th>score1</th>\n",
       "      <th>score2</th>\n",
       "    </tr>\n",
       "  </thead>\n",
       "  <tbody>\n",
       "    <tr>\n",
       "      <td>2903</td>\n",
       "      <td>1960-09-09</td>\n",
       "      <td>1960</td>\n",
       "      <td>0</td>\n",
       "      <td>NaN</td>\n",
       "      <td>NE</td>\n",
       "      <td>DEN</td>\n",
       "      <td>1300.000</td>\n",
       "      <td>1300.000</td>\n",
       "      <td>0.592466</td>\n",
       "      <td>0.407534</td>\n",
       "      <td>...</td>\n",
       "      <td>0.566862</td>\n",
       "      <td>0.433138</td>\n",
       "      <td>12.540000</td>\n",
       "      <td>122.760000</td>\n",
       "      <td>1.254000</td>\n",
       "      <td>32.931770</td>\n",
       "      <td>1283.942071</td>\n",
       "      <td>1316.057929</td>\n",
       "      <td>10.0</td>\n",
       "      <td>13.0</td>\n",
       "    </tr>\n",
       "    <tr>\n",
       "      <td>2904</td>\n",
       "      <td>1960-09-10</td>\n",
       "      <td>1960</td>\n",
       "      <td>0</td>\n",
       "      <td>NaN</td>\n",
       "      <td>LAC</td>\n",
       "      <td>KC</td>\n",
       "      <td>1300.000</td>\n",
       "      <td>1300.000</td>\n",
       "      <td>0.592466</td>\n",
       "      <td>0.407534</td>\n",
       "      <td>...</td>\n",
       "      <td>0.589531</td>\n",
       "      <td>0.410469</td>\n",
       "      <td>316.140000</td>\n",
       "      <td>153.120000</td>\n",
       "      <td>31.614000</td>\n",
       "      <td>11.872908</td>\n",
       "      <td>1305.532159</td>\n",
       "      <td>1294.467841</td>\n",
       "      <td>21.0</td>\n",
       "      <td>20.0</td>\n",
       "    </tr>\n",
       "    <tr>\n",
       "      <td>2905</td>\n",
       "      <td>1960-09-11</td>\n",
       "      <td>1960</td>\n",
       "      <td>0</td>\n",
       "      <td>NaN</td>\n",
       "      <td>OAK</td>\n",
       "      <td>TEN</td>\n",
       "      <td>1300.000</td>\n",
       "      <td>1300.000</td>\n",
       "      <td>0.592466</td>\n",
       "      <td>0.407534</td>\n",
       "      <td>...</td>\n",
       "      <td>0.523584</td>\n",
       "      <td>0.476416</td>\n",
       "      <td>147.180000</td>\n",
       "      <td>238.920000</td>\n",
       "      <td>14.718000</td>\n",
       "      <td>86.530014</td>\n",
       "      <td>1270.748277</td>\n",
       "      <td>1329.251723</td>\n",
       "      <td>22.0</td>\n",
       "      <td>37.0</td>\n",
       "    </tr>\n",
       "    <tr>\n",
       "      <td>2906</td>\n",
       "      <td>1960-09-11</td>\n",
       "      <td>1960</td>\n",
       "      <td>0</td>\n",
       "      <td>NaN</td>\n",
       "      <td>NYJ</td>\n",
       "      <td>BUF</td>\n",
       "      <td>1300.000</td>\n",
       "      <td>1300.000</td>\n",
       "      <td>0.592466</td>\n",
       "      <td>0.407534</td>\n",
       "      <td>...</td>\n",
       "      <td>0.534573</td>\n",
       "      <td>0.465427</td>\n",
       "      <td>116.820000</td>\n",
       "      <td>-67.650000</td>\n",
       "      <td>11.682000</td>\n",
       "      <td>36.502993</td>\n",
       "      <td>1329.638852</td>\n",
       "      <td>1270.361148</td>\n",
       "      <td>27.0</td>\n",
       "      <td>3.0</td>\n",
       "    </tr>\n",
       "    <tr>\n",
       "      <td>2907</td>\n",
       "      <td>1960-09-16</td>\n",
       "      <td>1960</td>\n",
       "      <td>0</td>\n",
       "      <td>NaN</td>\n",
       "      <td>OAK</td>\n",
       "      <td>KC</td>\n",
       "      <td>1266.146</td>\n",
       "      <td>1294.513</td>\n",
       "      <td>0.552525</td>\n",
       "      <td>0.447475</td>\n",
       "      <td>...</td>\n",
       "      <td>0.556189</td>\n",
       "      <td>0.443811</td>\n",
       "      <td>-96.257257</td>\n",
       "      <td>185.463743</td>\n",
       "      <td>3.620474</td>\n",
       "      <td>29.231991</td>\n",
       "      <td>1237.400627</td>\n",
       "      <td>1327.815491</td>\n",
       "      <td>16.0</td>\n",
       "      <td>34.0</td>\n",
       "    </tr>\n",
       "  </tbody>\n",
       "</table>\n",
       "<p>5 rows × 30 columns</p>\n",
       "</div>"
      ],
      "text/plain": [
       "           date  season  neutral playoff team1 team2  elo1_pre  elo2_pre  \\\n",
       "2903 1960-09-09    1960        0     NaN    NE   DEN  1300.000  1300.000   \n",
       "2904 1960-09-10    1960        0     NaN   LAC    KC  1300.000  1300.000   \n",
       "2905 1960-09-11    1960        0     NaN   OAK   TEN  1300.000  1300.000   \n",
       "2906 1960-09-11    1960        0     NaN   NYJ   BUF  1300.000  1300.000   \n",
       "2907 1960-09-16    1960        0     NaN   OAK    KC  1266.146  1294.513   \n",
       "\n",
       "      elo_prob1  elo_prob2  ...  qbelo_prob1  qbelo_prob2  qb1_game_value  \\\n",
       "2903   0.592466   0.407534  ...     0.566862     0.433138       12.540000   \n",
       "2904   0.592466   0.407534  ...     0.589531     0.410469      316.140000   \n",
       "2905   0.592466   0.407534  ...     0.523584     0.476416      147.180000   \n",
       "2906   0.592466   0.407534  ...     0.534573     0.465427      116.820000   \n",
       "2907   0.552525   0.447475  ...     0.556189     0.443811      -96.257257   \n",
       "\n",
       "      qb2_game_value qb1_value_post qb2_value_post  qbelo1_post  qbelo2_post  \\\n",
       "2903      122.760000       1.254000      32.931770  1283.942071  1316.057929   \n",
       "2904      153.120000      31.614000      11.872908  1305.532159  1294.467841   \n",
       "2905      238.920000      14.718000      86.530014  1270.748277  1329.251723   \n",
       "2906      -67.650000      11.682000      36.502993  1329.638852  1270.361148   \n",
       "2907      185.463743       3.620474      29.231991  1237.400627  1327.815491   \n",
       "\n",
       "      score1  score2  \n",
       "2903    10.0    13.0  \n",
       "2904    21.0    20.0  \n",
       "2905    22.0    37.0  \n",
       "2906    27.0     3.0  \n",
       "2907    16.0    34.0  \n",
       "\n",
       "[5 rows x 30 columns]"
      ]
     },
     "execution_count": 4,
     "metadata": {},
     "output_type": "execute_result"
    }
   ],
   "source": [
    "data.head()"
   ]
  },
  {
   "cell_type": "code",
   "execution_count": 5,
   "metadata": {},
   "outputs": [],
   "source": [
    "active_teams1 = set(data[data['season'] == 2019]['team1'].unique())\n",
    "active_teams2 = set(data[data['season'] == 2019]['team2'].unique())\n",
    "active_teams = active_teams1.union(active_teams2)"
   ]
  },
  {
   "cell_type": "code",
   "execution_count": 6,
   "metadata": {},
   "outputs": [
    {
     "name": "stdout",
     "output_type": "stream",
     "text": [
      "True\n"
     ]
    }
   ],
   "source": [
    "print(len(active_teams) == 32)"
   ]
  },
  {
   "cell_type": "code",
   "execution_count": 7,
   "metadata": {},
   "outputs": [],
   "source": [
    "train_data = data[['team1', 'team2', 'score1', 'score2', 'season', 'date']] "
   ]
  },
  {
   "cell_type": "markdown",
   "metadata": {},
   "source": [
    "Simple ELO calculation, everyone starts with a rating of 1250 and is given a maximum of 25 points for winning.  I'll be iterating over the rows of the dataframe, typically this is bad practice.  I am waiting to find a better way to do this."
   ]
  },
  {
   "cell_type": "code",
   "execution_count": 8,
   "metadata": {},
   "outputs": [],
   "source": [
    "def win_proba(rating1, rating2):\n",
    "    diff = rating2-rating1\n",
    "    return 1.0 / (10**(diff/400) + 1)"
   ]
  },
  {
   "cell_type": "code",
   "execution_count": 9,
   "metadata": {},
   "outputs": [
    {
     "data": {
      "text/plain": [
       "0.9090909090909091"
      ]
     },
     "execution_count": 9,
     "metadata": {},
     "output_type": "execute_result"
    }
   ],
   "source": [
    "# Defined to be 0.9\n",
    "win_proba(401, 1)"
   ]
  },
  {
   "cell_type": "code",
   "execution_count": 10,
   "metadata": {},
   "outputs": [],
   "source": [
    "def simple_elo(train_data, active_teams, start_rating = 1250, reward = 25):\n",
    "\n",
    "    ngames = len(train_data)\n",
    "\n",
    "    # Setup the output fields \n",
    "    elo1_pre = np.repeat(start_rating, ngames)\n",
    "    elo2_pre = np.repeat(start_rating, ngames)\n",
    "    elo1_post = np.repeat(start_rating, ngames)\n",
    "    elo2_post = np.repeat(start_rating, ngames)\n",
    "    elo_prob1 = np.repeat(0.5, ngames)\n",
    "    elo_prob2 = np.repeat(0.5, ngames)\n",
    "\n",
    "    current_ratings = { team:start_rating for team in active_teams }\n",
    "\n",
    "    for index in range(ngames):    \n",
    "\n",
    "        # Get the current matchup between two teams \n",
    "        game = train_data.iloc[index]\n",
    "        team1, team2 = game['team1'], game['team2']\n",
    "\n",
    "        # Get thier current ratings from our dictionary \n",
    "        rating1, rating2 = current_ratings[team1], current_ratings[team2]    \n",
    "        elo1_pre[index] = rating1\n",
    "        elo2_pre[index] = rating2\n",
    "\n",
    "        # Calculate the win probability for each team \n",
    "        prob1 = win_proba(rating1, rating2)\n",
    "        prob2 = 1.0 - prob1\n",
    "        elo_prob1[index] = prob1\n",
    "        elo_prob2[index] = prob2\n",
    "\n",
    "        # Figure out if the home team won, lost, and drew the game \n",
    "        outcome = 0\n",
    "        if game['score1'] > game['score2']:\n",
    "            outcome = 1\n",
    "        elif game['score1'] < game['score2']:\n",
    "            outcome = -1\n",
    "\n",
    "        # Update the ELO of each team based on the results \n",
    "        if outcome == 1:\n",
    "            rating1 += reward * prob2\n",
    "            rating2 -= reward * prob2\n",
    "        elif outcome == -1:\n",
    "            rating1 -= reward * prob1\n",
    "            rating2 += reward * prob1\n",
    "\n",
    "        # Update the dataframe and current ratings\n",
    "        current_ratings[team1] = rating1\n",
    "        current_ratings[team2] = rating2\n",
    "\n",
    "        elo1_post[index] = rating1\n",
    "        elo2_post[index] = rating2\n",
    "\n",
    "    train_data['elo1_pre'] = elo1_pre\n",
    "    train_data['elo2_pre'] = elo2_pre\n",
    "    train_data['elo1_post'] = elo1_post\n",
    "    train_data['elo2_post'] = elo2_post\n",
    "    train_data['elo_prob1'] = elo_prob1\n",
    "    train_data['elo_prob2'] = elo_prob2\n",
    "    \n",
    "    return train_data, current_ratings "
   ]
  },
  {
   "cell_type": "code",
   "execution_count": 11,
   "metadata": {},
   "outputs": [
    {
     "name": "stderr",
     "output_type": "stream",
     "text": [
      "/usr/local/lib/python3.7/site-packages/ipykernel_launcher.py:54: SettingWithCopyWarning: \n",
      "A value is trying to be set on a copy of a slice from a DataFrame.\n",
      "Try using .loc[row_indexer,col_indexer] = value instead\n",
      "\n",
      "See the caveats in the documentation: http://pandas.pydata.org/pandas-docs/stable/user_guide/indexing.html#returning-a-view-versus-a-copy\n",
      "/usr/local/lib/python3.7/site-packages/ipykernel_launcher.py:55: SettingWithCopyWarning: \n",
      "A value is trying to be set on a copy of a slice from a DataFrame.\n",
      "Try using .loc[row_indexer,col_indexer] = value instead\n",
      "\n",
      "See the caveats in the documentation: http://pandas.pydata.org/pandas-docs/stable/user_guide/indexing.html#returning-a-view-versus-a-copy\n",
      "/usr/local/lib/python3.7/site-packages/ipykernel_launcher.py:56: SettingWithCopyWarning: \n",
      "A value is trying to be set on a copy of a slice from a DataFrame.\n",
      "Try using .loc[row_indexer,col_indexer] = value instead\n",
      "\n",
      "See the caveats in the documentation: http://pandas.pydata.org/pandas-docs/stable/user_guide/indexing.html#returning-a-view-versus-a-copy\n",
      "/usr/local/lib/python3.7/site-packages/ipykernel_launcher.py:57: SettingWithCopyWarning: \n",
      "A value is trying to be set on a copy of a slice from a DataFrame.\n",
      "Try using .loc[row_indexer,col_indexer] = value instead\n",
      "\n",
      "See the caveats in the documentation: http://pandas.pydata.org/pandas-docs/stable/user_guide/indexing.html#returning-a-view-versus-a-copy\n",
      "/usr/local/lib/python3.7/site-packages/ipykernel_launcher.py:58: SettingWithCopyWarning: \n",
      "A value is trying to be set on a copy of a slice from a DataFrame.\n",
      "Try using .loc[row_indexer,col_indexer] = value instead\n",
      "\n",
      "See the caveats in the documentation: http://pandas.pydata.org/pandas-docs/stable/user_guide/indexing.html#returning-a-view-versus-a-copy\n",
      "/usr/local/lib/python3.7/site-packages/ipykernel_launcher.py:59: SettingWithCopyWarning: \n",
      "A value is trying to be set on a copy of a slice from a DataFrame.\n",
      "Try using .loc[row_indexer,col_indexer] = value instead\n",
      "\n",
      "See the caveats in the documentation: http://pandas.pydata.org/pandas-docs/stable/user_guide/indexing.html#returning-a-view-versus-a-copy\n"
     ]
    }
   ],
   "source": [
    "train_data, current_ratings = simple_elo(train_data, active_teams, 1500, 25)"
   ]
  },
  {
   "cell_type": "code",
   "execution_count": 12,
   "metadata": {},
   "outputs": [],
   "source": [
    "def plot_ratings(ratings):\n",
    "    teams = np.array(list(ratings.keys()))\n",
    "    scores = np.array(list(ratings.values()))\n",
    "    idx = np.argsort(scores)\n",
    "    \n",
    "    fig = plt.figure(figsize=(8,8))\n",
    "    ax = fig.add_subplot(1,1,1)\n",
    "    ax.barh(teams[idx][:8], scores[idx][:8], edgecolor='k', alpha=0.7, color='orange')\n",
    "    ax.barh(teams[idx][8:24], scores[idx][8:24], edgecolor='k', alpha=0.7, color='purple')\n",
    "    ax.barh(teams[idx][24:], scores[idx][24:], edgecolor='k', alpha=0.7, color='red')\n",
    "    ax.set_title('Simple ELO Ratings')\n",
    "    ax.set_xlabel('Rating')\n",
    "    ax.set_xlim([1300, 1650])\n",
    "    ax.grid(alpha=0.2)"
   ]
  },
  {
   "cell_type": "code",
   "execution_count": 13,
   "metadata": {},
   "outputs": [
    {
     "data": {
      "image/png": "[encoded data removed]",
      "text/plain": [
       "<Figure size 576x576 with 1 Axes>"
      ]
     },
     "metadata": {
      "needs_background": "light"
     },
     "output_type": "display_data"
    }
   ],
   "source": [
    "plot_ratings(current_ratings)"
   ]
  },
  {
   "cell_type": "markdown",
   "metadata": {},
   "source": [
    "# Ratings As a Function of Start Time\n",
    "How far back do we need to go?  Do the results eventually end up the same?"
   ]
  },
  {
   "cell_type": "code",
   "execution_count": 14,
   "metadata": {},
   "outputs": [
    {
     "name": "stdout",
     "output_type": "stream",
     "text": [
      "Calculating results from starting at 1960\n",
      "Calculating results from starting at 1965\n"
     ]
    },
    {
     "name": "stderr",
     "output_type": "stream",
     "text": [
      "/usr/local/lib/python3.7/site-packages/ipykernel_launcher.py:54: SettingWithCopyWarning: \n",
      "A value is trying to be set on a copy of a slice from a DataFrame.\n",
      "Try using .loc[row_indexer,col_indexer] = value instead\n",
      "\n",
      "See the caveats in the documentation: http://pandas.pydata.org/pandas-docs/stable/user_guide/indexing.html#returning-a-view-versus-a-copy\n",
      "/usr/local/lib/python3.7/site-packages/ipykernel_launcher.py:55: SettingWithCopyWarning: \n",
      "A value is trying to be set on a copy of a slice from a DataFrame.\n",
      "Try using .loc[row_indexer,col_indexer] = value instead\n",
      "\n",
      "See the caveats in the documentation: http://pandas.pydata.org/pandas-docs/stable/user_guide/indexing.html#returning-a-view-versus-a-copy\n",
      "/usr/local/lib/python3.7/site-packages/ipykernel_launcher.py:56: SettingWithCopyWarning: \n",
      "A value is trying to be set on a copy of a slice from a DataFrame.\n",
      "Try using .loc[row_indexer,col_indexer] = value instead\n",
      "\n",
      "See the caveats in the documentation: http://pandas.pydata.org/pandas-docs/stable/user_guide/indexing.html#returning-a-view-versus-a-copy\n",
      "/usr/local/lib/python3.7/site-packages/ipykernel_launcher.py:57: SettingWithCopyWarning: \n",
      "A value is trying to be set on a copy of a slice from a DataFrame.\n",
      "Try using .loc[row_indexer,col_indexer] = value instead\n",
      "\n",
      "See the caveats in the documentation: http://pandas.pydata.org/pandas-docs/stable/user_guide/indexing.html#returning-a-view-versus-a-copy\n",
      "/usr/local/lib/python3.7/site-packages/ipykernel_launcher.py:58: SettingWithCopyWarning: \n",
      "A value is trying to be set on a copy of a slice from a DataFrame.\n",
      "Try using .loc[row_indexer,col_indexer] = value instead\n",
      "\n",
      "See the caveats in the documentation: http://pandas.pydata.org/pandas-docs/stable/user_guide/indexing.html#returning-a-view-versus-a-copy\n",
      "/usr/local/lib/python3.7/site-packages/ipykernel_launcher.py:59: SettingWithCopyWarning: \n",
      "A value is trying to be set on a copy of a slice from a DataFrame.\n",
      "Try using .loc[row_indexer,col_indexer] = value instead\n",
      "\n",
      "See the caveats in the documentation: http://pandas.pydata.org/pandas-docs/stable/user_guide/indexing.html#returning-a-view-versus-a-copy\n"
     ]
    },
    {
     "name": "stdout",
     "output_type": "stream",
     "text": [
      "Calculating results from starting at 1970\n",
      "Calculating results from starting at 1975\n",
      "Calculating results from starting at 1980\n",
      "Calculating results from starting at 1985\n"
     ]
    }
   ],
   "source": [
    "year_based_results = {}\n",
    "year_based_results['start_year'] = [] \n",
    "year_based_results['result'] = [] \n",
    "year_based_results['ratings'] = [] \n",
    "\n",
    "for start_year in range(1960, 1990, 5):\n",
    "    print(f'Calculating results from starting at {start_year}')\n",
    "    year_based_results['start_year'].append(start_year)\n",
    "    year_data, ratings = simple_elo(train_data[train_data['season'] >= start_year], \n",
    "                                    active_teams, 1500, 25)\n",
    "    year_based_results['result'].append(year_data)\n",
    "    year_based_results['ratings'].append(ratings)"
   ]
  },
  {
   "cell_type": "code",
   "execution_count": 15,
   "metadata": {},
   "outputs": [
    {
     "data": {
      "text/html": [
       "<div>\n",
       "<style scoped>\n",
       "    .dataframe tbody tr th:only-of-type {\n",
       "        vertical-align: middle;\n",
       "    }\n",
       "\n",
       "    .dataframe tbody tr th {\n",
       "        vertical-align: top;\n",
       "    }\n",
       "\n",
       "    .dataframe thead th {\n",
       "        text-align: right;\n",
       "    }\n",
       "</style>\n",
       "<table border=\"1\" class=\"dataframe\">\n",
       "  <thead>\n",
       "    <tr style=\"text-align: right;\">\n",
       "      <th></th>\n",
       "      <th>team1</th>\n",
       "      <th>team2</th>\n",
       "      <th>score1</th>\n",
       "      <th>score2</th>\n",
       "      <th>season</th>\n",
       "      <th>date</th>\n",
       "      <th>elo1_pre</th>\n",
       "      <th>elo2_pre</th>\n",
       "      <th>elo1_post</th>\n",
       "      <th>elo2_post</th>\n",
       "      <th>elo_prob1</th>\n",
       "      <th>elo_prob2</th>\n",
       "    </tr>\n",
       "  </thead>\n",
       "  <tbody>\n",
       "    <tr>\n",
       "      <td>2903</td>\n",
       "      <td>NE</td>\n",
       "      <td>DEN</td>\n",
       "      <td>10.0</td>\n",
       "      <td>13.0</td>\n",
       "      <td>1960</td>\n",
       "      <td>1960-09-09</td>\n",
       "      <td>1500</td>\n",
       "      <td>1500</td>\n",
       "      <td>1487</td>\n",
       "      <td>1512</td>\n",
       "      <td>0.500000</td>\n",
       "      <td>0.500000</td>\n",
       "    </tr>\n",
       "    <tr>\n",
       "      <td>2904</td>\n",
       "      <td>LAC</td>\n",
       "      <td>KC</td>\n",
       "      <td>21.0</td>\n",
       "      <td>20.0</td>\n",
       "      <td>1960</td>\n",
       "      <td>1960-09-10</td>\n",
       "      <td>1500</td>\n",
       "      <td>1500</td>\n",
       "      <td>1512</td>\n",
       "      <td>1487</td>\n",
       "      <td>0.500000</td>\n",
       "      <td>0.500000</td>\n",
       "    </tr>\n",
       "    <tr>\n",
       "      <td>2905</td>\n",
       "      <td>OAK</td>\n",
       "      <td>TEN</td>\n",
       "      <td>22.0</td>\n",
       "      <td>37.0</td>\n",
       "      <td>1960</td>\n",
       "      <td>1960-09-11</td>\n",
       "      <td>1500</td>\n",
       "      <td>1500</td>\n",
       "      <td>1487</td>\n",
       "      <td>1512</td>\n",
       "      <td>0.500000</td>\n",
       "      <td>0.500000</td>\n",
       "    </tr>\n",
       "    <tr>\n",
       "      <td>2906</td>\n",
       "      <td>NYJ</td>\n",
       "      <td>BUF</td>\n",
       "      <td>27.0</td>\n",
       "      <td>3.0</td>\n",
       "      <td>1960</td>\n",
       "      <td>1960-09-11</td>\n",
       "      <td>1500</td>\n",
       "      <td>1500</td>\n",
       "      <td>1512</td>\n",
       "      <td>1487</td>\n",
       "      <td>0.500000</td>\n",
       "      <td>0.500000</td>\n",
       "    </tr>\n",
       "    <tr>\n",
       "      <td>2907</td>\n",
       "      <td>OAK</td>\n",
       "      <td>KC</td>\n",
       "      <td>16.0</td>\n",
       "      <td>34.0</td>\n",
       "      <td>1960</td>\n",
       "      <td>1960-09-16</td>\n",
       "      <td>1487</td>\n",
       "      <td>1487</td>\n",
       "      <td>1475</td>\n",
       "      <td>1500</td>\n",
       "      <td>0.500000</td>\n",
       "      <td>0.500000</td>\n",
       "    </tr>\n",
       "    <tr>\n",
       "      <td>...</td>\n",
       "      <td>...</td>\n",
       "      <td>...</td>\n",
       "      <td>...</td>\n",
       "      <td>...</td>\n",
       "      <td>...</td>\n",
       "      <td>...</td>\n",
       "      <td>...</td>\n",
       "      <td>...</td>\n",
       "      <td>...</td>\n",
       "      <td>...</td>\n",
       "      <td>...</td>\n",
       "      <td>...</td>\n",
       "    </tr>\n",
       "    <tr>\n",
       "      <td>16525</td>\n",
       "      <td>NE</td>\n",
       "      <td>MIA</td>\n",
       "      <td>NaN</td>\n",
       "      <td>NaN</td>\n",
       "      <td>2019</td>\n",
       "      <td>2019-12-29</td>\n",
       "      <td>1753</td>\n",
       "      <td>1431</td>\n",
       "      <td>1753</td>\n",
       "      <td>1431</td>\n",
       "      <td>0.864500</td>\n",
       "      <td>0.135500</td>\n",
       "    </tr>\n",
       "    <tr>\n",
       "      <td>16526</td>\n",
       "      <td>DAL</td>\n",
       "      <td>WSH</td>\n",
       "      <td>NaN</td>\n",
       "      <td>NaN</td>\n",
       "      <td>2019</td>\n",
       "      <td>2019-12-29</td>\n",
       "      <td>1604</td>\n",
       "      <td>1425</td>\n",
       "      <td>1604</td>\n",
       "      <td>1425</td>\n",
       "      <td>0.736500</td>\n",
       "      <td>0.263500</td>\n",
       "    </tr>\n",
       "    <tr>\n",
       "      <td>16527</td>\n",
       "      <td>LAR</td>\n",
       "      <td>ARI</td>\n",
       "      <td>NaN</td>\n",
       "      <td>NaN</td>\n",
       "      <td>2019</td>\n",
       "      <td>2019-12-29</td>\n",
       "      <td>1629</td>\n",
       "      <td>1402</td>\n",
       "      <td>1629</td>\n",
       "      <td>1402</td>\n",
       "      <td>0.786911</td>\n",
       "      <td>0.213089</td>\n",
       "    </tr>\n",
       "    <tr>\n",
       "      <td>16528</td>\n",
       "      <td>SEA</td>\n",
       "      <td>SF</td>\n",
       "      <td>NaN</td>\n",
       "      <td>NaN</td>\n",
       "      <td>2019</td>\n",
       "      <td>2019-12-29</td>\n",
       "      <td>1594</td>\n",
       "      <td>1423</td>\n",
       "      <td>1594</td>\n",
       "      <td>1423</td>\n",
       "      <td>0.728146</td>\n",
       "      <td>0.271854</td>\n",
       "    </tr>\n",
       "    <tr>\n",
       "      <td>16529</td>\n",
       "      <td>DEN</td>\n",
       "      <td>OAK</td>\n",
       "      <td>NaN</td>\n",
       "      <td>NaN</td>\n",
       "      <td>2019</td>\n",
       "      <td>2019-12-29</td>\n",
       "      <td>1427</td>\n",
       "      <td>1407</td>\n",
       "      <td>1427</td>\n",
       "      <td>1407</td>\n",
       "      <td>0.529159</td>\n",
       "      <td>0.470841</td>\n",
       "    </tr>\n",
       "  </tbody>\n",
       "</table>\n",
       "<p>13627 rows × 12 columns</p>\n",
       "</div>"
      ],
      "text/plain": [
       "      team1 team2  score1  score2  season       date  elo1_pre  elo2_pre  \\\n",
       "2903     NE   DEN    10.0    13.0    1960 1960-09-09      1500      1500   \n",
       "2904    LAC    KC    21.0    20.0    1960 1960-09-10      1500      1500   \n",
       "2905    OAK   TEN    22.0    37.0    1960 1960-09-11      1500      1500   \n",
       "2906    NYJ   BUF    27.0     3.0    1960 1960-09-11      1500      1500   \n",
       "2907    OAK    KC    16.0    34.0    1960 1960-09-16      1487      1487   \n",
       "...     ...   ...     ...     ...     ...        ...       ...       ...   \n",
       "16525    NE   MIA     NaN     NaN    2019 2019-12-29      1753      1431   \n",
       "16526   DAL   WSH     NaN     NaN    2019 2019-12-29      1604      1425   \n",
       "16527   LAR   ARI     NaN     NaN    2019 2019-12-29      1629      1402   \n",
       "16528   SEA    SF     NaN     NaN    2019 2019-12-29      1594      1423   \n",
       "16529   DEN   OAK     NaN     NaN    2019 2019-12-29      1427      1407   \n",
       "\n",
       "       elo1_post  elo2_post  elo_prob1  elo_prob2  \n",
       "2903        1487       1512   0.500000   0.500000  \n",
       "2904        1512       1487   0.500000   0.500000  \n",
       "2905        1487       1512   0.500000   0.500000  \n",
       "2906        1512       1487   0.500000   0.500000  \n",
       "2907        1475       1500   0.500000   0.500000  \n",
       "...          ...        ...        ...        ...  \n",
       "16525       1753       1431   0.864500   0.135500  \n",
       "16526       1604       1425   0.736500   0.263500  \n",
       "16527       1629       1402   0.786911   0.213089  \n",
       "16528       1594       1423   0.728146   0.271854  \n",
       "16529       1427       1407   0.529159   0.470841  \n",
       "\n",
       "[13627 rows x 12 columns]"
      ]
     },
     "execution_count": 15,
     "metadata": {},
     "output_type": "execute_result"
    }
   ],
   "source": [
    "year_based_results['result'][0]"
   ]
  },
  {
   "cell_type": "code",
   "execution_count": 16,
   "metadata": {},
   "outputs": [
    {
     "data": {
      "image/png": "[encoded data removed]",
      "text/plain": [
       "<Figure size 1152x648 with 1 Axes>"
      ]
     },
     "metadata": {
      "needs_background": "light"
     },
     "output_type": "display_data"
    }
   ],
   "source": [
    "plt.figure(figsize=(16,9))\n",
    "for team in active_teams:\n",
    "    plt.plot(year_based_results['start_year'], \n",
    "                [r[team] for r in year_based_results['ratings']],\n",
    "            marker='o')"
   ]
  },
  {
   "cell_type": "code",
   "execution_count": 17,
   "metadata": {},
   "outputs": [],
   "source": [
    "train_data = data[['team1', 'team2', 'score1', 'score2', 'season', 'date']] "
   ]
  },
  {
   "cell_type": "markdown",
   "metadata": {},
   "source": [
    "It looks like things end up right about the same regardless of when we start, this shouldn't hold all the way up to modern times...  Let's try to break it."
   ]
  },
  {
   "cell_type": "code",
   "execution_count": 18,
   "metadata": {},
   "outputs": [
    {
     "name": "stdout",
     "output_type": "stream",
     "text": [
      "Calculating results from starting at 2010\n"
     ]
    },
    {
     "name": "stderr",
     "output_type": "stream",
     "text": [
      "/usr/local/lib/python3.7/site-packages/ipykernel_launcher.py:54: SettingWithCopyWarning: \n",
      "A value is trying to be set on a copy of a slice from a DataFrame.\n",
      "Try using .loc[row_indexer,col_indexer] = value instead\n",
      "\n",
      "See the caveats in the documentation: http://pandas.pydata.org/pandas-docs/stable/user_guide/indexing.html#returning-a-view-versus-a-copy\n",
      "/usr/local/lib/python3.7/site-packages/ipykernel_launcher.py:55: SettingWithCopyWarning: \n",
      "A value is trying to be set on a copy of a slice from a DataFrame.\n",
      "Try using .loc[row_indexer,col_indexer] = value instead\n",
      "\n",
      "See the caveats in the documentation: http://pandas.pydata.org/pandas-docs/stable/user_guide/indexing.html#returning-a-view-versus-a-copy\n",
      "/usr/local/lib/python3.7/site-packages/ipykernel_launcher.py:56: SettingWithCopyWarning: \n",
      "A value is trying to be set on a copy of a slice from a DataFrame.\n",
      "Try using .loc[row_indexer,col_indexer] = value instead\n",
      "\n",
      "See the caveats in the documentation: http://pandas.pydata.org/pandas-docs/stable/user_guide/indexing.html#returning-a-view-versus-a-copy\n",
      "/usr/local/lib/python3.7/site-packages/ipykernel_launcher.py:57: SettingWithCopyWarning: \n",
      "A value is trying to be set on a copy of a slice from a DataFrame.\n",
      "Try using .loc[row_indexer,col_indexer] = value instead\n",
      "\n",
      "See the caveats in the documentation: http://pandas.pydata.org/pandas-docs/stable/user_guide/indexing.html#returning-a-view-versus-a-copy\n",
      "/usr/local/lib/python3.7/site-packages/ipykernel_launcher.py:58: SettingWithCopyWarning: \n",
      "A value is trying to be set on a copy of a slice from a DataFrame.\n",
      "Try using .loc[row_indexer,col_indexer] = value instead\n",
      "\n",
      "See the caveats in the documentation: http://pandas.pydata.org/pandas-docs/stable/user_guide/indexing.html#returning-a-view-versus-a-copy\n",
      "/usr/local/lib/python3.7/site-packages/ipykernel_launcher.py:59: SettingWithCopyWarning: \n",
      "A value is trying to be set on a copy of a slice from a DataFrame.\n",
      "Try using .loc[row_indexer,col_indexer] = value instead\n",
      "\n",
      "See the caveats in the documentation: http://pandas.pydata.org/pandas-docs/stable/user_guide/indexing.html#returning-a-view-versus-a-copy\n"
     ]
    },
    {
     "name": "stdout",
     "output_type": "stream",
     "text": [
      "Calculating results from starting at 2011\n",
      "Calculating results from starting at 2012\n",
      "Calculating results from starting at 2013\n",
      "Calculating results from starting at 2014\n",
      "Calculating results from starting at 2015\n",
      "Calculating results from starting at 2016\n"
     ]
    }
   ],
   "source": [
    "year_based_results = {}\n",
    "year_based_results['start_year'] = [] \n",
    "year_based_results['result'] = [] \n",
    "year_based_results['ratings'] = [] \n",
    "\n",
    "for start_year in range(2010, 2017, 1):\n",
    "    print(f'Calculating results from starting at {start_year}')\n",
    "    year_based_results['start_year'].append(start_year)\n",
    "    year_data, ratings = simple_elo(train_data[train_data['season'] >= start_year], active_teams, \n",
    "                                    1500, 25)\n",
    "    year_based_results['result'].append(year_data)\n",
    "    year_based_results['ratings'].append(ratings)"
   ]
  },
  {
   "cell_type": "code",
   "execution_count": 19,
   "metadata": {},
   "outputs": [
    {
     "data": {
      "image/png": "[encoded data removed]",
      "text/plain": [
       "<Figure size 1152x648 with 1 Axes>"
      ]
     },
     "metadata": {
      "needs_background": "light"
     },
     "output_type": "display_data"
    }
   ],
   "source": [
    "plt.figure(figsize=(16,9))\n",
    "for team in active_teams:\n",
    "    plt.plot(year_based_results['start_year'], \n",
    "                [r[team] for r in year_based_results['ratings']],\n",
    "            marker='o')"
   ]
  },
  {
   "cell_type": "code",
   "execution_count": 20,
   "metadata": {},
   "outputs": [
    {
     "data": {
      "image/png": "[encoded data removed]",
      "text/plain": [
       "<Figure size 576x576 with 1 Axes>"
      ]
     },
     "metadata": {
      "needs_background": "light"
     },
     "output_type": "display_data"
    }
   ],
   "source": [
    "plot_ratings(year_based_results['ratings'][0])"
   ]
  },
  {
   "cell_type": "code",
   "execution_count": 21,
   "metadata": {},
   "outputs": [],
   "source": [
    "def entropy_metric(pred, truth, epsilon=1e-9):\n",
    "    ''' Calculate the cross-entropy for these predictions.  In this function, I assume that\n",
    "    the prediction is a probability, and the truth information is the outcome of the game.  \n",
    "    The outcome variable can be:\n",
    "        0 - The team lost \n",
    "        1 - The team won \n",
    "        0.5 - The game was a draw \n",
    "    \n",
    "    The formula applied for each prediction is: \n",
    "        cross_entropy (win) = ln(1 - prob)\n",
    "        cross_entropy (lose) = ln(prob)\n",
    "        \n",
    "    '''\n",
    "    pred = np.clip(pred, epsilon, 1 - epsilon)\n",
    "    \n",
    "    win_index = np.where(truth == 1)[0]\n",
    "    loss_index = np.where(truth == 0)[0]    \n",
    "    loss = np.zeros(len(truth))\n",
    "    loss[win_index] = -1 * np.log(pred[win_index])\n",
    "    loss[loss_index] = -1 * np.log(1-pred[loss_index])\n",
    "    return np.mean(loss)\n",
    "\n",
    "def get_game_outcome(game):\n",
    "    ''' By default, return 0.5 for a draw.  Otherwise, return 1 if team1 won, otherwise return 0.'''\n",
    "    if game['score1'] > game['score2']:\n",
    "        return 1.0\n",
    "    elif game['score1'] == game['score2']:\n",
    "        return 0.5\n",
    "    else:\n",
    "        return 0.0\n",
    "    \n",
    "def get_entropy_metric_for_df(df):\n",
    "    df['outcome'] = df.apply(get_game_outcome, axis=1)\n",
    "    return entropy_metric(df['elo_prob1'].values, df['outcome'].values)"
   ]
  },
  {
   "cell_type": "code",
   "execution_count": 22,
   "metadata": {},
   "outputs": [],
   "source": [
    "train_data = data[['team1', 'team2', 'score1', 'score2', 'season', 'date']] "
   ]
  },
  {
   "cell_type": "code",
   "execution_count": 23,
   "metadata": {},
   "outputs": [
    {
     "name": "stdout",
     "output_type": "stream",
     "text": [
      "Working on 1\n"
     ]
    },
    {
     "name": "stderr",
     "output_type": "stream",
     "text": [
      "/usr/local/lib/python3.7/site-packages/ipykernel_launcher.py:54: SettingWithCopyWarning: \n",
      "A value is trying to be set on a copy of a slice from a DataFrame.\n",
      "Try using .loc[row_indexer,col_indexer] = value instead\n",
      "\n",
      "See the caveats in the documentation: http://pandas.pydata.org/pandas-docs/stable/user_guide/indexing.html#returning-a-view-versus-a-copy\n",
      "/usr/local/lib/python3.7/site-packages/ipykernel_launcher.py:55: SettingWithCopyWarning: \n",
      "A value is trying to be set on a copy of a slice from a DataFrame.\n",
      "Try using .loc[row_indexer,col_indexer] = value instead\n",
      "\n",
      "See the caveats in the documentation: http://pandas.pydata.org/pandas-docs/stable/user_guide/indexing.html#returning-a-view-versus-a-copy\n",
      "/usr/local/lib/python3.7/site-packages/ipykernel_launcher.py:56: SettingWithCopyWarning: \n",
      "A value is trying to be set on a copy of a slice from a DataFrame.\n",
      "Try using .loc[row_indexer,col_indexer] = value instead\n",
      "\n",
      "See the caveats in the documentation: http://pandas.pydata.org/pandas-docs/stable/user_guide/indexing.html#returning-a-view-versus-a-copy\n",
      "/usr/local/lib/python3.7/site-packages/ipykernel_launcher.py:57: SettingWithCopyWarning: \n",
      "A value is trying to be set on a copy of a slice from a DataFrame.\n",
      "Try using .loc[row_indexer,col_indexer] = value instead\n",
      "\n",
      "See the caveats in the documentation: http://pandas.pydata.org/pandas-docs/stable/user_guide/indexing.html#returning-a-view-versus-a-copy\n",
      "/usr/local/lib/python3.7/site-packages/ipykernel_launcher.py:58: SettingWithCopyWarning: \n",
      "A value is trying to be set on a copy of a slice from a DataFrame.\n",
      "Try using .loc[row_indexer,col_indexer] = value instead\n",
      "\n",
      "See the caveats in the documentation: http://pandas.pydata.org/pandas-docs/stable/user_guide/indexing.html#returning-a-view-versus-a-copy\n",
      "/usr/local/lib/python3.7/site-packages/ipykernel_launcher.py:59: SettingWithCopyWarning: \n",
      "A value is trying to be set on a copy of a slice from a DataFrame.\n",
      "Try using .loc[row_indexer,col_indexer] = value instead\n",
      "\n",
      "See the caveats in the documentation: http://pandas.pydata.org/pandas-docs/stable/user_guide/indexing.html#returning-a-view-versus-a-copy\n",
      "/usr/local/lib/python3.7/site-packages/ipykernel_launcher.py:33: SettingWithCopyWarning: \n",
      "A value is trying to be set on a copy of a slice from a DataFrame.\n",
      "Try using .loc[row_indexer,col_indexer] = value instead\n",
      "\n",
      "See the caveats in the documentation: http://pandas.pydata.org/pandas-docs/stable/user_guide/indexing.html#returning-a-view-versus-a-copy\n"
     ]
    },
    {
     "name": "stdout",
     "output_type": "stream",
     "text": [
      "Working on 3\n",
      "Working on 5\n",
      "Working on 7\n",
      "Working on 9\n",
      "Working on 11\n",
      "Working on 13\n",
      "Working on 15\n",
      "Working on 17\n",
      "Working on 19\n",
      "Working on 21\n",
      "Working on 23\n",
      "Working on 25\n",
      "Working on 27\n",
      "Working on 29\n",
      "Working on 31\n",
      "Working on 33\n",
      "Working on 35\n",
      "Working on 37\n",
      "Working on 39\n",
      "Working on 41\n",
      "Working on 43\n",
      "Working on 45\n",
      "Working on 47\n",
      "Working on 49\n",
      "Working on 51\n",
      "Working on 53\n",
      "Working on 55\n",
      "Working on 57\n",
      "Working on 59\n",
      "Working on 61\n",
      "Working on 63\n",
      "Working on 65\n",
      "Working on 67\n",
      "Working on 69\n",
      "Working on 71\n",
      "Working on 73\n"
     ]
    }
   ],
   "source": [
    "reward_values = range(1,75,2)\n",
    "entropy_values = []\n",
    "\n",
    "for reward in reward_values:\n",
    "    print(f'Working on {reward}')\n",
    "    d, r = simple_elo(train_data[train_data['season'] > 2000], active_teams, 1500, reward)\n",
    "    entropy_values.append(\n",
    "        get_entropy_metric_for_df(d[d['season'] == 2018])\n",
    "    )"
   ]
  },
  {
   "cell_type": "code",
   "execution_count": 24,
   "metadata": {},
   "outputs": [
    {
     "data": {
      "text/plain": [
       "[<matplotlib.lines.Line2D at 0x11bddb410>]"
      ]
     },
     "execution_count": 24,
     "metadata": {},
     "output_type": "execute_result"
    },
    {
     "data": {
      "image/png": "[encoded data removed]",
      "text/plain": [
       "<Figure size 432x288 with 1 Axes>"
      ]
     },
     "metadata": {
      "needs_background": "light"
     },
     "output_type": "display_data"
    }
   ],
   "source": [
    "plt.plot(reward_values, entropy_values, marker='o')"
   ]
  },
  {
   "cell_type": "code",
   "execution_count": 25,
   "metadata": {},
   "outputs": [
    {
     "name": "stdout",
     "output_type": "stream",
     "text": [
      "Working on 1000\n"
     ]
    },
    {
     "name": "stderr",
     "output_type": "stream",
     "text": [
      "/usr/local/lib/python3.7/site-packages/ipykernel_launcher.py:54: SettingWithCopyWarning: \n",
      "A value is trying to be set on a copy of a slice from a DataFrame.\n",
      "Try using .loc[row_indexer,col_indexer] = value instead\n",
      "\n",
      "See the caveats in the documentation: http://pandas.pydata.org/pandas-docs/stable/user_guide/indexing.html#returning-a-view-versus-a-copy\n",
      "/usr/local/lib/python3.7/site-packages/ipykernel_launcher.py:55: SettingWithCopyWarning: \n",
      "A value is trying to be set on a copy of a slice from a DataFrame.\n",
      "Try using .loc[row_indexer,col_indexer] = value instead\n",
      "\n",
      "See the caveats in the documentation: http://pandas.pydata.org/pandas-docs/stable/user_guide/indexing.html#returning-a-view-versus-a-copy\n",
      "/usr/local/lib/python3.7/site-packages/ipykernel_launcher.py:56: SettingWithCopyWarning: \n",
      "A value is trying to be set on a copy of a slice from a DataFrame.\n",
      "Try using .loc[row_indexer,col_indexer] = value instead\n",
      "\n",
      "See the caveats in the documentation: http://pandas.pydata.org/pandas-docs/stable/user_guide/indexing.html#returning-a-view-versus-a-copy\n",
      "/usr/local/lib/python3.7/site-packages/ipykernel_launcher.py:57: SettingWithCopyWarning: \n",
      "A value is trying to be set on a copy of a slice from a DataFrame.\n",
      "Try using .loc[row_indexer,col_indexer] = value instead\n",
      "\n",
      "See the caveats in the documentation: http://pandas.pydata.org/pandas-docs/stable/user_guide/indexing.html#returning-a-view-versus-a-copy\n",
      "/usr/local/lib/python3.7/site-packages/ipykernel_launcher.py:58: SettingWithCopyWarning: \n",
      "A value is trying to be set on a copy of a slice from a DataFrame.\n",
      "Try using .loc[row_indexer,col_indexer] = value instead\n",
      "\n",
      "See the caveats in the documentation: http://pandas.pydata.org/pandas-docs/stable/user_guide/indexing.html#returning-a-view-versus-a-copy\n",
      "/usr/local/lib/python3.7/site-packages/ipykernel_launcher.py:59: SettingWithCopyWarning: \n",
      "A value is trying to be set on a copy of a slice from a DataFrame.\n",
      "Try using .loc[row_indexer,col_indexer] = value instead\n",
      "\n",
      "See the caveats in the documentation: http://pandas.pydata.org/pandas-docs/stable/user_guide/indexing.html#returning-a-view-versus-a-copy\n",
      "/usr/local/lib/python3.7/site-packages/ipykernel_launcher.py:33: SettingWithCopyWarning: \n",
      "A value is trying to be set on a copy of a slice from a DataFrame.\n",
      "Try using .loc[row_indexer,col_indexer] = value instead\n",
      "\n",
      "See the caveats in the documentation: http://pandas.pydata.org/pandas-docs/stable/user_guide/indexing.html#returning-a-view-versus-a-copy\n"
     ]
    },
    {
     "name": "stdout",
     "output_type": "stream",
     "text": [
      "Working on 1050\n",
      "Working on 1100\n",
      "Working on 1150\n",
      "Working on 1200\n",
      "Working on 1250\n",
      "Working on 1300\n",
      "Working on 1350\n",
      "Working on 1400\n",
      "Working on 1450\n",
      "Working on 1500\n",
      "Working on 1550\n",
      "Working on 1600\n",
      "Working on 1650\n",
      "Working on 1700\n",
      "Working on 1750\n",
      "Working on 1800\n",
      "Working on 1850\n",
      "Working on 1900\n",
      "Working on 1950\n"
     ]
    }
   ],
   "source": [
    "start_values = range(1000,2000,50)\n",
    "entropy_values = []\n",
    "\n",
    "for sv in start_values:\n",
    "    print(f'Working on {sv}')\n",
    "    d, r = simple_elo(train_data[train_data['season'] > 2000], active_teams, sv, 25)\n",
    "    entropy_values.append(\n",
    "        get_entropy_metric_for_df(d[d['season'] == 2018])\n",
    "    )"
   ]
  },
  {
   "cell_type": "code",
   "execution_count": 26,
   "metadata": {},
   "outputs": [
    {
     "data": {
      "text/plain": [
       "[<matplotlib.lines.Line2D at 0x11a0bf7d0>]"
      ]
     },
     "execution_count": 26,
     "metadata": {},
     "output_type": "execute_result"
    },
    {
     "data": {
      "image/png": "[encoded data removed]",
      "text/plain": [
       "<Figure size 432x288 with 1 Axes>"
      ]
     },
     "metadata": {
      "needs_background": "light"
     },
     "output_type": "display_data"
    }
   ],
   "source": [
    "plt.plot(start_values, entropy_values, marker='o')"
   ]
  },
  {
   "cell_type": "markdown",
   "metadata": {},
   "source": [
    "That's an important check.  It shouldn't matter what value you start at, because everyone changes over time up and down."
   ]
  },
  {
   "cell_type": "code",
   "execution_count": 27,
   "metadata": {},
   "outputs": [],
   "source": [
    "def elo2(train_data, active_teams, start_rating = 1250, \n",
    "         reward = 25, home_field_advantage = 25):\n",
    "\n",
    "    ngames = len(train_data)\n",
    "\n",
    "    # Setup the output fields \n",
    "    elo1_pre = np.repeat(start_rating, ngames)\n",
    "    elo2_pre = np.repeat(start_rating, ngames)\n",
    "    elo1_post = np.repeat(start_rating, ngames)\n",
    "    elo2_post = np.repeat(start_rating, ngames)\n",
    "    elo_prob1 = np.repeat(0.5, ngames)\n",
    "    elo_prob2 = np.repeat(0.5, ngames)\n",
    "\n",
    "    current_ratings = { team:start_rating for team in active_teams }\n",
    "\n",
    "    for index in range(ngames):    \n",
    "\n",
    "        # Get the current matchup between two teams \n",
    "        game = train_data.iloc[index]\n",
    "        team1, team2 = game['team1'], game['team2']\n",
    "\n",
    "        # Get thier current ratings from our dictionary \n",
    "        rating1, rating2 = current_ratings[team1], current_ratings[team2]    \n",
    "        elo1_pre[index] = rating1\n",
    "        elo2_pre[index] = rating2\n",
    "\n",
    "        # Calculate the win probability for each team \n",
    "        prob1 = win_proba(rating1 + home_field_advantage, rating2)\n",
    "        prob2 = 1.0 - prob1\n",
    "        elo_prob1[index] = prob1\n",
    "        elo_prob2[index] = prob2\n",
    "\n",
    "        # Figure out if the home team won, lost, and drew the game \n",
    "        outcome = 0\n",
    "        if game['score1'] > game['score2']:\n",
    "            outcome = 1\n",
    "        elif game['score1'] < game['score2']:\n",
    "            outcome = -1\n",
    "\n",
    "        # Update the ELO of each team based on the results \n",
    "        if outcome == 1:\n",
    "            rating1 += reward * prob2\n",
    "            rating2 -= reward * prob2\n",
    "        elif outcome == -1:\n",
    "            rating1 -= reward * prob1\n",
    "            rating2 += reward * prob1\n",
    "\n",
    "        # Update the dataframe and current ratings\n",
    "        current_ratings[team1] = rating1\n",
    "        current_ratings[team2] = rating2\n",
    "\n",
    "        elo1_post[index] = rating1\n",
    "        elo2_post[index] = rating2\n",
    "\n",
    "    train_data['elo1_pre'] = elo1_pre\n",
    "    train_data['elo2_pre'] = elo2_pre\n",
    "    train_data['elo1_post'] = elo1_post\n",
    "    train_data['elo2_post'] = elo2_post\n",
    "    train_data['elo_prob1'] = elo_prob1\n",
    "    train_data['elo_prob2'] = elo_prob2\n",
    "    \n",
    "    return train_data, current_ratings "
   ]
  },
  {
   "cell_type": "code",
   "execution_count": 28,
   "metadata": {},
   "outputs": [
    {
     "name": "stdout",
     "output_type": "stream",
     "text": [
      "Working on -50\n"
     ]
    },
    {
     "name": "stderr",
     "output_type": "stream",
     "text": [
      "/usr/local/lib/python3.7/site-packages/ipykernel_launcher.py:55: SettingWithCopyWarning: \n",
      "A value is trying to be set on a copy of a slice from a DataFrame.\n",
      "Try using .loc[row_indexer,col_indexer] = value instead\n",
      "\n",
      "See the caveats in the documentation: http://pandas.pydata.org/pandas-docs/stable/user_guide/indexing.html#returning-a-view-versus-a-copy\n",
      "/usr/local/lib/python3.7/site-packages/ipykernel_launcher.py:56: SettingWithCopyWarning: \n",
      "A value is trying to be set on a copy of a slice from a DataFrame.\n",
      "Try using .loc[row_indexer,col_indexer] = value instead\n",
      "\n",
      "See the caveats in the documentation: http://pandas.pydata.org/pandas-docs/stable/user_guide/indexing.html#returning-a-view-versus-a-copy\n",
      "/usr/local/lib/python3.7/site-packages/ipykernel_launcher.py:57: SettingWithCopyWarning: \n",
      "A value is trying to be set on a copy of a slice from a DataFrame.\n",
      "Try using .loc[row_indexer,col_indexer] = value instead\n",
      "\n",
      "See the caveats in the documentation: http://pandas.pydata.org/pandas-docs/stable/user_guide/indexing.html#returning-a-view-versus-a-copy\n",
      "/usr/local/lib/python3.7/site-packages/ipykernel_launcher.py:58: SettingWithCopyWarning: \n",
      "A value is trying to be set on a copy of a slice from a DataFrame.\n",
      "Try using .loc[row_indexer,col_indexer] = value instead\n",
      "\n",
      "See the caveats in the documentation: http://pandas.pydata.org/pandas-docs/stable/user_guide/indexing.html#returning-a-view-versus-a-copy\n",
      "/usr/local/lib/python3.7/site-packages/ipykernel_launcher.py:59: SettingWithCopyWarning: \n",
      "A value is trying to be set on a copy of a slice from a DataFrame.\n",
      "Try using .loc[row_indexer,col_indexer] = value instead\n",
      "\n",
      "See the caveats in the documentation: http://pandas.pydata.org/pandas-docs/stable/user_guide/indexing.html#returning-a-view-versus-a-copy\n",
      "/usr/local/lib/python3.7/site-packages/ipykernel_launcher.py:60: SettingWithCopyWarning: \n",
      "A value is trying to be set on a copy of a slice from a DataFrame.\n",
      "Try using .loc[row_indexer,col_indexer] = value instead\n",
      "\n",
      "See the caveats in the documentation: http://pandas.pydata.org/pandas-docs/stable/user_guide/indexing.html#returning-a-view-versus-a-copy\n",
      "/usr/local/lib/python3.7/site-packages/ipykernel_launcher.py:33: SettingWithCopyWarning: \n",
      "A value is trying to be set on a copy of a slice from a DataFrame.\n",
      "Try using .loc[row_indexer,col_indexer] = value instead\n",
      "\n",
      "See the caveats in the documentation: http://pandas.pydata.org/pandas-docs/stable/user_guide/indexing.html#returning-a-view-versus-a-copy\n"
     ]
    },
    {
     "name": "stdout",
     "output_type": "stream",
     "text": [
      "Working on -45\n",
      "Working on -40\n",
      "Working on -35\n",
      "Working on -30\n",
      "Working on -25\n",
      "Working on -20\n",
      "Working on -15\n",
      "Working on -10\n",
      "Working on -5\n",
      "Working on 0\n",
      "Working on 5\n",
      "Working on 10\n",
      "Working on 15\n",
      "Working on 20\n",
      "Working on 25\n",
      "Working on 30\n",
      "Working on 35\n",
      "Working on 40\n",
      "Working on 45\n",
      "Working on 50\n",
      "Working on 55\n",
      "Working on 60\n",
      "Working on 65\n",
      "Working on 70\n",
      "Working on 75\n",
      "Working on 80\n",
      "Working on 85\n",
      "Working on 90\n",
      "Working on 95\n"
     ]
    }
   ],
   "source": [
    "home_field_advantages = range(-50,100,5)\n",
    "entropy_values = []\n",
    "\n",
    "for hfa in home_field_advantages:\n",
    "    print(f'Working on {hfa}')\n",
    "    d, r = elo2(train_data[train_data['season'] > 2000], active_teams, 1500, 25, hfa)\n",
    "    entropy_values.append(\n",
    "        get_entropy_metric_for_df(d[d['season'] > 2013])\n",
    "    )"
   ]
  },
  {
   "cell_type": "code",
   "execution_count": 29,
   "metadata": {},
   "outputs": [
    {
     "data": {
      "text/plain": [
       "Text(0, 0.5, 'Entropy')"
      ]
     },
     "execution_count": 29,
     "metadata": {},
     "output_type": "execute_result"
    },
    {
     "data": {
      "image/png": "[encoded data removed]",
      "text/plain": [
       "<Figure size 432x288 with 1 Axes>"
      ]
     },
     "metadata": {
      "needs_background": "light"
     },
     "output_type": "display_data"
    }
   ],
   "source": [
    "plt.plot(home_field_advantages, entropy_values, marker='o')\n",
    "plt.grid(alpha=0.2)\n",
    "plt.xlabel('Home Field Advantage Bonus')\n",
    "plt.ylabel('Entropy')"
   ]
  },
  {
   "cell_type": "code",
   "execution_count": 31,
   "metadata": {},
   "outputs": [
    {
     "data": {
      "text/plain": [
       "0"
      ]
     },
     "execution_count": 31,
     "metadata": {},
     "output_type": "execute_result"
    }
   ],
   "source": [
    "home_field_advantages[np.argmin(entropy_values)]"
   ]
  },
  {
   "cell_type": "code",
   "execution_count": 37,
   "metadata": {},
   "outputs": [
    {
     "name": "stderr",
     "output_type": "stream",
     "text": [
      "/usr/local/lib/python3.7/site-packages/ipykernel_launcher.py:1: SettingWithCopyWarning: \n",
      "A value is trying to be set on a copy of a slice from a DataFrame.\n",
      "Try using .loc[row_indexer,col_indexer] = value instead\n",
      "\n",
      "See the caveats in the documentation: http://pandas.pydata.org/pandas-docs/stable/user_guide/indexing.html#returning-a-view-versus-a-copy\n",
      "  \"\"\"Entry point for launching an IPython kernel.\n"
     ]
    }
   ],
   "source": [
    "train_data['outcome'] = np.array(train_data['score1'] > train_data['score2']).astype(int)"
   ]
  },
  {
   "cell_type": "code",
   "execution_count": 39,
   "metadata": {},
   "outputs": [
    {
     "data": {
      "text/plain": [
       "1    7669\n",
       "0    5958\n",
       "Name: outcome, dtype: int64"
      ]
     },
     "execution_count": 39,
     "metadata": {},
     "output_type": "execute_result"
    }
   ],
   "source": [
    "train_data['outcome'].value_counts()"
   ]
  },
  {
   "cell_type": "code",
   "execution_count": 40,
   "metadata": {},
   "outputs": [
    {
     "name": "stderr",
     "output_type": "stream",
     "text": [
      "/usr/local/lib/python3.7/site-packages/ipykernel_launcher.py:54: SettingWithCopyWarning: \n",
      "A value is trying to be set on a copy of a slice from a DataFrame.\n",
      "Try using .loc[row_indexer,col_indexer] = value instead\n",
      "\n",
      "See the caveats in the documentation: http://pandas.pydata.org/pandas-docs/stable/user_guide/indexing.html#returning-a-view-versus-a-copy\n",
      "/usr/local/lib/python3.7/site-packages/ipykernel_launcher.py:55: SettingWithCopyWarning: \n",
      "A value is trying to be set on a copy of a slice from a DataFrame.\n",
      "Try using .loc[row_indexer,col_indexer] = value instead\n",
      "\n",
      "See the caveats in the documentation: http://pandas.pydata.org/pandas-docs/stable/user_guide/indexing.html#returning-a-view-versus-a-copy\n",
      "/usr/local/lib/python3.7/site-packages/ipykernel_launcher.py:56: SettingWithCopyWarning: \n",
      "A value is trying to be set on a copy of a slice from a DataFrame.\n",
      "Try using .loc[row_indexer,col_indexer] = value instead\n",
      "\n",
      "See the caveats in the documentation: http://pandas.pydata.org/pandas-docs/stable/user_guide/indexing.html#returning-a-view-versus-a-copy\n",
      "/usr/local/lib/python3.7/site-packages/ipykernel_launcher.py:57: SettingWithCopyWarning: \n",
      "A value is trying to be set on a copy of a slice from a DataFrame.\n",
      "Try using .loc[row_indexer,col_indexer] = value instead\n",
      "\n",
      "See the caveats in the documentation: http://pandas.pydata.org/pandas-docs/stable/user_guide/indexing.html#returning-a-view-versus-a-copy\n",
      "/usr/local/lib/python3.7/site-packages/ipykernel_launcher.py:58: SettingWithCopyWarning: \n",
      "A value is trying to be set on a copy of a slice from a DataFrame.\n",
      "Try using .loc[row_indexer,col_indexer] = value instead\n",
      "\n",
      "See the caveats in the documentation: http://pandas.pydata.org/pandas-docs/stable/user_guide/indexing.html#returning-a-view-versus-a-copy\n",
      "/usr/local/lib/python3.7/site-packages/ipykernel_launcher.py:59: SettingWithCopyWarning: \n",
      "A value is trying to be set on a copy of a slice from a DataFrame.\n",
      "Try using .loc[row_indexer,col_indexer] = value instead\n",
      "\n",
      "See the caveats in the documentation: http://pandas.pydata.org/pandas-docs/stable/user_guide/indexing.html#returning-a-view-versus-a-copy\n"
     ]
    }
   ],
   "source": [
    "rated_data, ratings = simple_elo(train_data[train_data['season'] > 2000], active_teams, 1500, 25)"
   ]
  },
  {
   "cell_type": "code",
   "execution_count": 43,
   "metadata": {},
   "outputs": [
    {
     "name": "stderr",
     "output_type": "stream",
     "text": [
      "/usr/local/lib/python3.7/site-packages/ipykernel_launcher.py:1: SettingWithCopyWarning: \n",
      "A value is trying to be set on a copy of a slice from a DataFrame.\n",
      "Try using .loc[row_indexer,col_indexer] = value instead\n",
      "\n",
      "See the caveats in the documentation: http://pandas.pydata.org/pandas-docs/stable/user_guide/indexing.html#returning-a-view-versus-a-copy\n",
      "  \"\"\"Entry point for launching an IPython kernel.\n"
     ]
    }
   ],
   "source": [
    "rated_data['diff'] = rated_data['elo2_pre'] - rated_data['elo1_pre'] "
   ]
  },
  {
   "cell_type": "code",
   "execution_count": 46,
   "metadata": {},
   "outputs": [
    {
     "data": {
      "image/png": "[encoded data removed]",
      "text/plain": [
       "<Figure size 432x288 with 1 Axes>"
      ]
     },
     "metadata": {
      "needs_background": "light"
     },
     "output_type": "display_data"
    }
   ],
   "source": [
    "plt.hist(rated_data['diff'], edgecolor='k', color='orange', bins=20);"
   ]
  },
  {
   "cell_type": "code",
   "execution_count": 51,
   "metadata": {},
   "outputs": [],
   "source": [
    "time_ratings_spread = rated_data.groupby('season').aggregate({\n",
    "    'diff' : [np.mean, np.std]\n",
    "}).reset_index()\n",
    "time_ratings_spread.columns = ['season', 'diff_mean', 'diff_std']"
   ]
  },
  {
   "cell_type": "code",
   "execution_count": 56,
   "metadata": {},
   "outputs": [
    {
     "data": {
      "image/png": "[encoded data removed]",
      "text/plain": [
       "<Figure size 576x432 with 1 Axes>"
      ]
     },
     "metadata": {
      "needs_background": "light"
     },
     "output_type": "display_data"
    }
   ],
   "source": [
    "plt.figure(figsize=(8,6))\n",
    "plt.errorbar(time_ratings_spread['season'], time_ratings_spread['diff_mean'],\n",
    "            time_ratings_spread['diff_std'], marker='o', linestyle='')\n",
    "plt.grid(alpha=0.2)"
   ]
  },
  {
   "cell_type": "code",
   "execution_count": 61,
   "metadata": {},
   "outputs": [
    {
     "data": {
      "text/plain": [
       "0.550199353253537"
      ]
     },
     "execution_count": 61,
     "metadata": {},
     "output_type": "execute_result"
    }
   ],
   "source": [
    "win_proba(35,0)"
   ]
  },
  {
   "cell_type": "code",
   "execution_count": 74,
   "metadata": {},
   "outputs": [],
   "source": [
    "close_games = rated_data[np.logical_and(\n",
    "    np.abs(rated_data['diff']) <= 35, rated_data['season'] > 2001)]"
   ]
  },
  {
   "cell_type": "code",
   "execution_count": 78,
   "metadata": {},
   "outputs": [
    {
     "data": {
      "image/png": "[encoded data removed]",
      "text/plain": [
       "<Figure size 432x288 with 1 Axes>"
      ]
     },
     "metadata": {
      "needs_background": "light"
     },
     "output_type": "display_data"
    }
   ],
   "source": [
    "plt.hist(close_games[close_games['outcome'] == 1]['diff'], \n",
    "         edgecolor='k', alpha=0.5, bins=np.linspace(-40, 40, 40));\n",
    "plt.hist(close_games[close_games['outcome'] == 0]['diff'], \n",
    "         edgecolor='k', alpha=0.5, bins=np.linspace(-40, 40, 40));"
   ]
  },
  {
   "cell_type": "code",
   "execution_count": 81,
   "metadata": {},
   "outputs": [
    {
     "data": {
      "text/plain": [
       "count    5054.000000\n",
       "mean       -0.148002\n",
       "std       134.507344\n",
       "min      -481.000000\n",
       "25%       -88.000000\n",
       "50%         0.000000\n",
       "75%        85.000000\n",
       "max       470.000000\n",
       "Name: diff, dtype: float64"
      ]
     },
     "execution_count": 81,
     "metadata": {},
     "output_type": "execute_result"
    }
   ],
   "source": [
    "rated_data['diff'].describe()"
   ]
  },
  {
   "cell_type": "code",
   "execution_count": 92,
   "metadata": {},
   "outputs": [
    {
     "name": "stderr",
     "output_type": "stream",
     "text": [
      "/usr/local/lib/python3.7/site-packages/ipykernel_launcher.py:1: SettingWithCopyWarning: \n",
      "A value is trying to be set on a copy of a slice from a DataFrame.\n",
      "Try using .loc[row_indexer,col_indexer] = value instead\n",
      "\n",
      "See the caveats in the documentation: http://pandas.pydata.org/pandas-docs/stable/user_guide/indexing.html#returning-a-view-versus-a-copy\n",
      "  \"\"\"Entry point for launching an IPython kernel.\n"
     ]
    }
   ],
   "source": [
    "rated_data['diff_bin'] = np.digitize(rated_data['diff'], np.arange(-40,50,10))"
   ]
  },
  {
   "cell_type": "code",
   "execution_count": 93,
   "metadata": {},
   "outputs": [
    {
     "data": {
      "text/html": [
       "<div>\n",
       "<style scoped>\n",
       "    .dataframe tbody tr th:only-of-type {\n",
       "        vertical-align: middle;\n",
       "    }\n",
       "\n",
       "    .dataframe tbody tr th {\n",
       "        vertical-align: top;\n",
       "    }\n",
       "\n",
       "    .dataframe thead th {\n",
       "        text-align: right;\n",
       "    }\n",
       "</style>\n",
       "<table border=\"1\" class=\"dataframe\">\n",
       "  <thead>\n",
       "    <tr style=\"text-align: right;\">\n",
       "      <th></th>\n",
       "      <th>outcome</th>\n",
       "      <th>diff</th>\n",
       "    </tr>\n",
       "    <tr>\n",
       "      <th>diff_bin</th>\n",
       "      <th></th>\n",
       "      <th></th>\n",
       "    </tr>\n",
       "  </thead>\n",
       "  <tbody>\n",
       "    <tr>\n",
       "      <td>0</td>\n",
       "      <td>0.691857</td>\n",
       "      <td>-135.124002</td>\n",
       "    </tr>\n",
       "    <tr>\n",
       "      <td>1</td>\n",
       "      <td>0.531429</td>\n",
       "      <td>-35.240000</td>\n",
       "    </tr>\n",
       "    <tr>\n",
       "      <td>2</td>\n",
       "      <td>0.546512</td>\n",
       "      <td>-25.215116</td>\n",
       "    </tr>\n",
       "    <tr>\n",
       "      <td>3</td>\n",
       "      <td>0.551282</td>\n",
       "      <td>-15.551282</td>\n",
       "    </tr>\n",
       "    <tr>\n",
       "      <td>4</td>\n",
       "      <td>0.514493</td>\n",
       "      <td>-5.239130</td>\n",
       "    </tr>\n",
       "    <tr>\n",
       "      <td>5</td>\n",
       "      <td>0.565217</td>\n",
       "      <td>3.614130</td>\n",
       "    </tr>\n",
       "    <tr>\n",
       "      <td>6</td>\n",
       "      <td>0.493333</td>\n",
       "      <td>14.220000</td>\n",
       "    </tr>\n",
       "    <tr>\n",
       "      <td>7</td>\n",
       "      <td>0.584270</td>\n",
       "      <td>24.398876</td>\n",
       "    </tr>\n",
       "    <tr>\n",
       "      <td>8</td>\n",
       "      <td>0.486842</td>\n",
       "      <td>34.500000</td>\n",
       "    </tr>\n",
       "    <tr>\n",
       "      <td>9</td>\n",
       "      <td>0.418182</td>\n",
       "      <td>136.052406</td>\n",
       "    </tr>\n",
       "  </tbody>\n",
       "</table>\n",
       "</div>"
      ],
      "text/plain": [
       "           outcome        diff\n",
       "diff_bin                      \n",
       "0         0.691857 -135.124002\n",
       "1         0.531429  -35.240000\n",
       "2         0.546512  -25.215116\n",
       "3         0.551282  -15.551282\n",
       "4         0.514493   -5.239130\n",
       "5         0.565217    3.614130\n",
       "6         0.493333   14.220000\n",
       "7         0.584270   24.398876\n",
       "8         0.486842   34.500000\n",
       "9         0.418182  136.052406"
      ]
     },
     "execution_count": 93,
     "metadata": {},
     "output_type": "execute_result"
    }
   ],
   "source": [
    "rated_data.groupby('diff_bin').aggregate({'outcome':'mean', 'diff':'mean'})"
   ]
  },
  {
   "cell_type": "code",
   "execution_count": null,
   "metadata": {},
   "outputs": [],
   "source": []
  }
 ],
 "metadata": {
  "kernelspec": {
   "display_name": "Python 3",
   "language": "python",
   "name": "python3"
  },
  "language_info": {
   "codemirror_mode": {
    "name": "ipython",
    "version": 3
   },
   "file_extension": ".py",
   "mimetype": "text/x-python",
   "name": "python",
   "nbconvert_exporter": "python",
   "pygments_lexer": "ipython3",
   "version": "3.7.4"
  }
 },
 "nbformat": 4,
 "nbformat_minor": 2
}
